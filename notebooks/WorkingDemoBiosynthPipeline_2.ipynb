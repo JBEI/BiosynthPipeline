{
 "cells": [
  {
   "cell_type": "markdown",
   "id": "5ba00b59",
   "metadata": {},
   "source": [
    "# Biosynthesis Pipeline Demo 2"
   ]
  },
  {
   "cell_type": "markdown",
   "id": "60174de7-cc68-4189-9857-dec8255bf204",
   "metadata": {},
   "source": [
    "#### Biosynthesis of propionic acid starting with PKS and 1 step of non-PKS modifications"
   ]
  },
  {
   "cell_type": "markdown",
   "id": "2b9aec2c",
   "metadata": {},
   "source": [
    "Authors: Tyler Backman and Yash Chainani"
   ]
  },
  {
   "cell_type": "markdown",
   "id": "4accf211",
   "metadata": {},
   "source": [
    "In the previous demo, we were able to get feasible pathways to propionic acid using a combination of PKSs and non-PKSs for a non-PKS pathway comprising two reactions. Here, we will reduce the number of non-PKS enzymatic steps to 1 instead of 2 as we had before. It turns out that this will no longer lead to any pathways being discovered using the top PKS design returned by Retrotide. Thus, this demo will cover how `Biosynth Pipeline` \n",
    "\n",
    "In such an event, `Biosynth Pipeline` will now run through the next N number of top-scoring PKS designs to see if a complete pathway can be obtained. Here, N is defined by the user under the `max_designs` argument when the function `biosynth_pipeline.run_non_pks_synthesis_post_pks(max_designs = N)` is called.\n",
    "\n",
    "If the next N PKS designs cannot be"
   ]
  },
  {
   "cell_type": "markdown",
   "id": "5167d919",
   "metadata": {},
   "source": [
    "### Import key dependencies"
   ]
  },
  {
   "cell_type": "code",
   "execution_count": 1,
   "id": "8d66985e",
   "metadata": {},
   "outputs": [],
   "source": [
    "import json\n",
    "import pandas as pd\n",
    "from biosynth_pipeline import biosynth_pipeline\n",
    "from retrotide import structureDB, designPKS\n",
    "from rdkit import Chem"
   ]
  },
  {
   "cell_type": "code",
   "execution_count": 2,
   "id": "387d7fdd",
   "metadata": {},
   "outputs": [],
   "source": [
    "### initialize the feasibility classifier to plug into biosynth_pipeline object later\n",
    "feasibility_model_path = '../models/updated_model_Apr28' # can pick the '.pkl' or '.dat' file too\n",
    "calibration_model_path = '../models/updated_model_Apr28_calibration'\n",
    "cofactors_path = '../data/coreactants_and_rules/all_cofactors_updated.csv'\n",
    "fp_type = 'ecfp4'\n",
    "nBits = 2048\n",
    "max_species = 4\n",
    "cofactor_positioning = 'by_descending_MW'\n",
    "\n",
    "PX = biosynth_pipeline.feasibility_classifier(feasibility_model_path = feasibility_model_path,\n",
    "                                                   calibration_model_path = calibration_model_path,\n",
    "                                                   cofactors_path = cofactors_path,\n",
    "                                                   fp_type = fp_type,\n",
    "                                                   nBits = nBits,\n",
    "                                                   max_species = max_species,\n",
    "                                                   cofactor_positioning = cofactor_positioning)"
   ]
  },
  {
   "cell_type": "markdown",
   "id": "9a1279a3",
   "metadata": {},
   "source": [
    "### Combined propionic acid biosynthesis example via a 1 step non-PKS enzymatic reaction"
   ]
  },
  {
   "cell_type": "code",
   "execution_count": 3,
   "id": "416aeba2",
   "metadata": {},
   "outputs": [],
   "source": [
    "# create an instance of the biosynth_pipeline class\n",
    "pathway_sequence = ['pks', 'non_pks']  # run retrotide first then pickaxe\n",
    "target_smiles = 'CCC(=O)O' # propionic acid\n",
    "\n",
    "non_pks_steps = 1\n",
    "\n",
    "biosynth_pipeline_object = biosynth_pipeline.biosynth_pipeline(pathway_sequence=pathway_sequence,\n",
    "                                             target_smiles=target_smiles,\n",
    "                                             feasibility_classifier = PX,\n",
    "                                             non_pks_steps=non_pks_steps)"
   ]
  },
  {
   "cell_type": "code",
   "execution_count": 4,
   "id": "cdcfade2",
   "metadata": {},
   "outputs": [
    {
     "name": "stdout",
     "output_type": "stream",
     "text": [
      "\n",
      "Starting PKS retrobiosynthesis with retrotide\n",
      "---------------------------------------------\n",
      "computing module 1\n",
      "   testing 1404 designs\n",
      "   best score is 0.42857142857142855\n",
      "computing module 2\n",
      "   testing 1350 designs\n",
      "   best score is 0.21052631578947367\n",
      "\n",
      "Best PKS design: [[\"AT{'substrate': 'Methylmalonyl-CoA'}\", 'loading: True'], [\"AT{'substrate': 'Malonyl-CoA'}\", 'loading: False']]\n",
      "\n",
      "Closest final product is: CC(=O)CC(=O)O\n",
      "\n",
      "Finished PKS synthesis - closest product to the target using the top PKS design of [[\"AT{'substrate': 'Methylmalonyl-CoA'}\", 'loading: True'], [\"AT{'substrate': 'Malonyl-CoA'}\", 'loading: False']] is CC(=O)CC(=O)O. Moving onto non-PKS synthesis...\n"
     ]
    }
   ],
   "source": [
    "biosynth_pipeline_object.run_pks_synthesis(pks_release_mechanism='thiolysis')"
   ]
  },
  {
   "cell_type": "markdown",
   "id": "c0b4112d",
   "metadata": {},
   "source": [
    "Given that we weren't able to reach our downstream target product with PKSs only, we will now pass over the top PKS product to enzymatic reactions by running `biosynth_pipeline_object.run_non_pks_synthesis_post_pks(max_designs=N)`. The maximum number of designs specified can be toggled up or down. If no enzymatic pathways are found between the PKS product from the top-ranking PKS design and the final, target product, then the next N designs will be tried instead."
   ]
  },
  {
   "cell_type": "markdown",
   "id": "5efe27fa-d5e3-4508-a85a-72c7b8f71dcf",
   "metadata": {},
   "source": [
    "#### Examining PKS designs"
   ]
  },
  {
   "cell_type": "markdown",
   "id": "84832698-da37-4160-b646-2816fa21c6b6",
   "metadata": {},
   "source": [
    "We can print out the modules in the top PKS design:"
   ]
  },
  {
   "cell_type": "code",
   "execution_count": 5,
   "id": "030e7f88-c8df-4e9d-b2e1-a4632c1b884c",
   "metadata": {},
   "outputs": [
    {
     "data": {
      "text/plain": [
       "'[[\"AT{\\'substrate\\': \\'Methylmalonyl-CoA\\'}\", \\'loading: True\\'], [\"AT{\\'substrate\\': \\'Malonyl-CoA\\'}\", \\'loading: False\\']]'"
      ]
     },
     "execution_count": 5,
     "metadata": {},
     "output_type": "execute_result"
    }
   ],
   "source": [
    "repr(biosynth_pipeline_object.pks_designs[-1][0][0].modules)"
   ]
  },
  {
   "cell_type": "markdown",
   "id": "083aadec-c3f6-4699-b862-dd01c209d12a",
   "metadata": {},
   "source": [
    "and the final product that is bound to the top PKS design:"
   ]
  },
  {
   "cell_type": "code",
   "execution_count": 6,
   "id": "ec14bc50-8f9a-4b0c-9a45-83d5e4f82e07",
   "metadata": {},
   "outputs": [
    {
     "data": {
      "image/png": "[encoded data removed]",
      "text/plain": [
       "<rdkit.Chem.rdchem.Mol at 0x7fdb83d655f0>"
      ]
     },
     "execution_count": 6,
     "metadata": {},
     "output_type": "execute_result"
    }
   ],
   "source": [
    "biosynth_pipeline_object.pks_designs[-1][0][0].computeProduct(structureDB)"
   ]
  },
  {
   "cell_type": "markdown",
   "id": "bd916c0a-224d-4fb7-b2fd-25f07a03ffb9",
   "metadata": {},
   "source": [
    "we can run a termination reaction to get the unbound product:"
   ]
  },
  {
   "cell_type": "code",
   "execution_count": 7,
   "id": "7e291fbc-f58b-49c7-a169-ae1db3841d11",
   "metadata": {},
   "outputs": [
    {
     "data": {
      "image/png": "[encoded data removed]",
      "text/plain": [
       "<rdkit.Chem.rdchem.Mol at 0x7fdb83d65900>"
      ]
     },
     "execution_count": 7,
     "metadata": {},
     "output_type": "execute_result"
    }
   ],
   "source": [
    "Chem.MolFromSmiles(biosynth_pipeline_object.run_pks_termination(pks_design_num=0, pks_release_mechanism = 'thiolysis'))"
   ]
  },
  {
   "cell_type": "markdown",
   "id": "a819701a-24be-49ae-ad6a-fb9714114421",
   "metadata": {},
   "source": [
    "#### Run non-PKS tailorings"
   ]
  },
  {
   "cell_type": "code",
   "execution_count": 8,
   "id": "ed8d8be8",
   "metadata": {},
   "outputs": [
    {
     "name": "stdout",
     "output_type": "stream",
     "text": [
      "\n",
      "Starting pickaxe expansion on CC(=O)CC(=O)O\n",
      "\n",
      "----------------------------------------\n",
      "Intializing pickaxe object\n"
     ]
    },
    {
     "name": "stderr",
     "output_type": "stream",
     "text": [
      "[19:05:17] WARNING: not removing hydrogen atom without neighbors\n",
      "[19:05:17] WARNING: not removing hydrogen atom without neighbors\n"
     ]
    },
    {
     "name": "stdout",
     "output_type": "stream",
     "text": [
      "\n",
      "Done intializing pickaxe object\n",
      "----------------------------------------\n",
      "\n",
      "1 compounds loaded...\n",
      "(1 after removing stereochemistry)\n",
      "1 target compounds loaded\n",
      "\n",
      "----------------------------------------\n",
      "Expanding Generation 1\n",
      "\n",
      "Generation 1: 0 percent complete\n",
      "Generation 1 finished in 3.4074859619140625 s and contains:\n",
      "\t\t109 new compounds\n",
      "\t\t124 new reactions\n",
      "\n",
      "Done expanding Generation: 1.\n",
      "----------------------------------------\n",
      "\n",
      "\n",
      "No pathways to target are found using non-PKS enzymes for 1 step/s and the top PKS module design\n",
      "\n",
      "Attempting non-PKS enzymes for 1 step/s on PKS product from the next 5 best PKS designs. Note you can also try increasing the number of non-PKS enzymatic steps\n",
      "\n",
      "------\n",
      "PKS design 2: [[\"AT{'substrate': 'cemal'}\", 'loading: True'], [\"AT{'substrate': 'Malonyl-CoA'}\", 'loading: False']]\n",
      "\n",
      "PKS product from this PKS design is CC(=O)CC(=O)O with a similarity score of 0.42857142857142855 to the target molecule CCC(=O)O)\n",
      "\n",
      "Starting pickaxe expansion on CC(=O)CC(=O)O\n",
      "\n",
      "----------------------------------------\n",
      "Intializing pickaxe object\n"
     ]
    },
    {
     "name": "stderr",
     "output_type": "stream",
     "text": [
      "[19:05:26] WARNING: not removing hydrogen atom without neighbors\n",
      "[19:05:26] WARNING: not removing hydrogen atom without neighbors\n"
     ]
    },
    {
     "name": "stdout",
     "output_type": "stream",
     "text": [
      "\n",
      "Done intializing pickaxe object\n",
      "----------------------------------------\n",
      "\n",
      "1 compounds loaded...\n",
      "(1 after removing stereochemistry)\n",
      "1 target compounds loaded\n",
      "\n",
      "----------------------------------------\n",
      "Expanding Generation 1\n",
      "\n",
      "Generation 1: 0 percent complete\n",
      "Generation 1 finished in 3.5105903148651123 s and contains:\n",
      "\t\t109 new compounds\n",
      "\t\t124 new reactions\n",
      "\n",
      "Done expanding Generation: 1.\n",
      "----------------------------------------\n",
      "\n",
      "\n",
      "No pathways found in 1 step/s from CC(=O)CC(=O)O to CCC(=O)O\n",
      "\n",
      "Moving onto product from next best PKS design\n",
      "\n",
      "------\n",
      "PKS design 3: [[\"AT{'substrate': 'Acetyl-CoA'}\", 'loading: True'], [\"AT{'substrate': 'Malonyl-CoA'}\", 'loading: False']]\n",
      "\n",
      "PKS product from this PKS design is CC(=O)CC(=O)O with a similarity score of 0.42857142857142855 to the target molecule CCC(=O)O)\n",
      "\n",
      "Starting pickaxe expansion on CC(=O)CC(=O)O\n",
      "\n",
      "----------------------------------------\n",
      "Intializing pickaxe object\n"
     ]
    },
    {
     "name": "stderr",
     "output_type": "stream",
     "text": [
      "[19:05:36] WARNING: not removing hydrogen atom without neighbors\n",
      "[19:05:36] WARNING: not removing hydrogen atom without neighbors\n"
     ]
    },
    {
     "name": "stdout",
     "output_type": "stream",
     "text": [
      "\n",
      "Done intializing pickaxe object\n",
      "----------------------------------------\n",
      "\n",
      "1 compounds loaded...\n",
      "(1 after removing stereochemistry)\n",
      "1 target compounds loaded\n",
      "\n",
      "----------------------------------------\n",
      "Expanding Generation 1\n",
      "\n",
      "Generation 1: 0 percent complete\n",
      "Generation 1 finished in 2.9392168521881104 s and contains:\n",
      "\t\t109 new compounds\n",
      "\t\t124 new reactions\n",
      "\n",
      "Done expanding Generation: 1.\n",
      "----------------------------------------\n",
      "\n",
      "\n",
      "No pathways found in 1 step/s from CC(=O)CC(=O)O to CCC(=O)O\n",
      "\n",
      "Moving onto product from next best PKS design\n",
      "\n",
      "------\n",
      "PKS design 4: [[\"AT{'substrate': 'prop'}\", 'loading: True'], [\"AT{'substrate': 'Malonyl-CoA'}\", 'loading: False']]\n",
      "\n",
      "PKS product from this PKS design is CCC(=O)CC(=O)O with a similarity score of 0.3157894736842105 to the target molecule CCC(=O)O)\n",
      "\n",
      "Starting pickaxe expansion on CCC(=O)CC(=O)O\n",
      "\n",
      "----------------------------------------\n",
      "Intializing pickaxe object\n"
     ]
    },
    {
     "name": "stderr",
     "output_type": "stream",
     "text": [
      "[19:05:44] WARNING: not removing hydrogen atom without neighbors\n",
      "[19:05:44] WARNING: not removing hydrogen atom without neighbors\n"
     ]
    },
    {
     "name": "stdout",
     "output_type": "stream",
     "text": [
      "\n",
      "Done intializing pickaxe object\n",
      "----------------------------------------\n",
      "\n",
      "1 compounds loaded...\n",
      "(1 after removing stereochemistry)\n",
      "1 target compounds loaded\n",
      "\n",
      "----------------------------------------\n",
      "Expanding Generation 1\n",
      "\n",
      "Generation 1: 0 percent complete\n",
      "Generation 1 finished in 2.8623499870300293 s and contains:\n",
      "\t\t137 new compounds\n",
      "\t\t151 new reactions\n",
      "\n",
      "Done expanding Generation: 1.\n",
      "----------------------------------------\n",
      "\n",
      "\n",
      "No pathways found in 1 step/s from CCC(=O)CC(=O)O to CCC(=O)O\n",
      "\n",
      "Moving onto product from next best PKS design\n",
      "\n",
      "------\n",
      "PKS design 5: [[\"AT{'substrate': 'butmal'}\", 'loading: True'], [\"AT{'substrate': 'Malonyl-CoA'}\", 'loading: False']]\n",
      "\n",
      "PKS product from this PKS design is CCCC(=O)CC(=O)O with a similarity score of 0.24 to the target molecule CCC(=O)O)\n",
      "\n",
      "Starting pickaxe expansion on CCCC(=O)CC(=O)O\n",
      "\n",
      "----------------------------------------\n",
      "Intializing pickaxe object\n"
     ]
    },
    {
     "name": "stderr",
     "output_type": "stream",
     "text": [
      "[19:05:51] WARNING: not removing hydrogen atom without neighbors\n",
      "[19:05:51] WARNING: not removing hydrogen atom without neighbors\n"
     ]
    },
    {
     "name": "stdout",
     "output_type": "stream",
     "text": [
      "\n",
      "Done intializing pickaxe object\n",
      "----------------------------------------\n",
      "\n",
      "1 compounds loaded...\n",
      "(1 after removing stereochemistry)\n",
      "1 target compounds loaded\n",
      "\n",
      "----------------------------------------\n",
      "Expanding Generation 1\n",
      "\n",
      "Generation 1: 0 percent complete\n",
      "Generation 1 finished in 2.893061876296997 s and contains:\n",
      "\t\t169 new compounds\n",
      "\t\t183 new reactions\n",
      "\n",
      "Done expanding Generation: 1.\n",
      "----------------------------------------\n",
      "\n",
      "\n",
      "No pathways found in 1 step/s from CCCC(=O)CC(=O)O to CCC(=O)O\n",
      "\n",
      "Moving onto product from next best PKS design\n",
      "\n",
      "------\n",
      "PKS design 6: [[\"AT{'substrate': 'mxmal'}\", 'loading: True'], [\"AT{'substrate': 'Malonyl-CoA'}\", 'loading: False']]\n",
      "\n",
      "PKS product from this PKS design is COCC(=O)CC(=O)O with a similarity score of 0.24 to the target molecule CCC(=O)O)\n",
      "\n",
      "Starting pickaxe expansion on COCC(=O)CC(=O)O\n",
      "\n",
      "----------------------------------------\n",
      "Intializing pickaxe object\n"
     ]
    },
    {
     "name": "stderr",
     "output_type": "stream",
     "text": [
      "[19:05:59] WARNING: not removing hydrogen atom without neighbors\n",
      "[19:05:59] WARNING: not removing hydrogen atom without neighbors\n"
     ]
    },
    {
     "name": "stdout",
     "output_type": "stream",
     "text": [
      "\n",
      "Done intializing pickaxe object\n",
      "----------------------------------------\n",
      "\n",
      "1 compounds loaded...\n",
      "(1 after removing stereochemistry)\n",
      "1 target compounds loaded\n",
      "\n",
      "----------------------------------------\n",
      "Expanding Generation 1\n",
      "\n",
      "Generation 1: 0 percent complete\n",
      "Generation 1 finished in 2.838616132736206 s and contains:\n",
      "\t\t132 new compounds\n",
      "\t\t144 new reactions\n",
      "\n",
      "Done expanding Generation: 1.\n",
      "----------------------------------------\n",
      "\n",
      "\n",
      "No pathways found in 1 step/s from COCC(=O)CC(=O)O to CCC(=O)O\n",
      "\n",
      "Moving onto product from next best PKS design\n"
     ]
    }
   ],
   "source": [
    "non_pks_pathways = biosynth_pipeline_object.run_non_pks_synthesis_post_pks(max_designs=5)"
   ]
  },
  {
   "cell_type": "markdown",
   "id": "a8459c6e",
   "metadata": {},
   "source": [
    "Since none of the other PKS designs were able to synthesize our final product, we will work backwards from our target product and see if PKS designs can synthesize any of these upstream precursors instead"
   ]
  },
  {
   "cell_type": "code",
   "execution_count": 9,
   "id": "dbebea7b",
   "metadata": {},
   "outputs": [
    {
     "name": "stdout",
     "output_type": "stream",
     "text": [
      "\n",
      "Starting a reverse pickaxe expansion on the final, downstream target CCC(=O)O\n",
      "\n",
      "----------------------------------------\n",
      "Intializing pickaxe object\n"
     ]
    },
    {
     "name": "stderr",
     "output_type": "stream",
     "text": [
      "[19:06:06] WARNING: not removing hydrogen atom without neighbors\n",
      "[19:06:06] WARNING: not removing hydrogen atom without neighbors\n"
     ]
    },
    {
     "name": "stdout",
     "output_type": "stream",
     "text": [
      "\n",
      "Done intializing pickaxe object\n",
      "----------------------------------------\n",
      "\n",
      "1 compounds loaded...\n",
      "(1 after removing stereochemistry)\n",
      "----------------------------------------\n",
      "Expanding Generation 1\n",
      "\n",
      "Generation 1: 0 percent complete\n",
      "Generation 1 finished in 2.2343249320983887 s and contains:\n",
      "\t\t62 new compounds\n",
      "\t\t73 new reactions\n",
      "\n",
      "Done expanding Generation: 1.\n",
      "----------------------------------------\n",
      "\n",
      "\n",
      "There are 62 precursors (located by enzymatic reactions upstream) of the final target molecule\n",
      "\n",
      "----------------------------------------------------------\n",
      "\n",
      "Running PKS retrosynthesis on CCC(=O)OC(=O)CC\n",
      "computing module 1\n",
      "   testing 1404 designs\n",
      "   best score is 0.3728813559322034\n",
      "computing module 2\n",
      "   testing 1350 designs\n",
      "   best score is 0.6363636363636364\n",
      "computing module 3\n",
      "   testing 1350 designs\n",
      "   best score is 0.3787878787878788\n",
      "The PKS product is CCC(=O)CC(=O)CC(=O)O\n",
      "\n",
      "----------------------------------------------------------\n",
      "\n",
      "Running PKS retrosynthesis on CCC(O)O\n",
      "computing module 1\n",
      "   testing 1404 designs\n",
      "   best score is 0.47058823529411764\n",
      "computing module 2\n",
      "   testing 1350 designs\n",
      "   best score is 0.3103448275862069\n",
      "The PKS product is CC[C@@H](O)CC(=O)O\n",
      "\n",
      "----------------------------------------------------------\n",
      "\n",
      " Detected a carboxylic acid group in this upstream precusor O=C(O)CCO\n",
      "\n",
      " Doubly reducing this acid group gives: CCCO\n",
      "Checking if feeding CCCO as a precursor to RetroTide can give the upstream precursor O=C(O)CCO:\n",
      "computing module 1\n",
      "   testing 1404 designs\n",
      "   best score is 0.3333333333333333\n",
      "computing module 2\n",
      "   testing 1350 designs\n",
      "   best score is 0.22727272727272727\n",
      "\n",
      " This PKS product is C[C@@H](O)CC(=O)O\n",
      "\n",
      " After removing stereochemistry, the PKS product is CC(O)CC(=O)O\n",
      "\n",
      "----------------------------------------------------------\n",
      "\n",
      " Detected a carboxylic acid group in this upstream precusor CC(O)C(=O)O\n",
      "\n",
      " Doubly reducing this acid group gives: CC(C)O\n",
      "Checking if feeding CC(C)O as a precursor to RetroTide can give the upstream precursor CC(O)C(=O)O:\n",
      "computing module 1\n",
      "   testing 1404 designs\n",
      "   best score is 0.3125\n",
      "computing module 2\n",
      "   testing 1350 designs\n",
      "   best score is 0.1724137931034483\n",
      "\n",
      " This PKS product is C[C@@H](O)[C@@H](C)C(=O)O\n",
      "\n",
      " After removing stereochemistry, the PKS product is CC(O)C(C)C(=O)O\n",
      "\n",
      "----------------------------------------------------------\n",
      "\n",
      "Running PKS retrosynthesis on CCC=O\n",
      "computing module 1\n",
      "   testing 1404 designs\n",
      "   best score is 0.23076923076923078\n",
      "computing module 2\n",
      "   testing 1350 designs\n",
      "   best score is 0.1724137931034483\n",
      "The PKS product is CC(=O)CC(=O)O\n",
      "\n",
      "----------------------------------------------------------\n",
      "\n",
      "Running PKS retrosynthesis on CCC(=O)O[C@H]1O[C@H](CO)[C@@H](O)[C@H](O)[C@H]1O\n",
      "computing module 1\n",
      "   testing 1404 designs\n",
      "   best score is 0.29411764705882354\n",
      "computing module 2\n",
      "   testing 1350 designs\n",
      "   best score is 0.41450777202072536\n",
      "computing module 3\n",
      "   testing 1350 designs\n",
      "   best score is 0.3656387665198238\n",
      "The PKS product is CO[C@@H](C(=O)O)[C@H](O)[C@H](O)[C@H](O)[C@@H]1CCC[C@H]1C(=O)O\n",
      "\n",
      "----------------------------------------------------------\n",
      "\n",
      "Running PKS retrosynthesis on CCC(=O)OC\n",
      "computing module 1\n",
      "   testing 1404 designs\n",
      "   best score is 0.5\n",
      "computing module 2\n",
      "   testing 1350 designs\n",
      "   best score is 0.30303030303030304\n",
      "The PKS product is CCC(=O)CC(=O)O\n",
      "\n",
      "----------------------------------------------------------\n",
      "\n",
      "Running PKS retrosynthesis on CCC(=O)OP(=O)(O)O\n",
      "computing module 1\n",
      "   testing 1404 designs\n",
      "   best score is 0.15\n",
      "computing module 2\n",
      "   testing 1350 designs\n",
      "   best score is 0.2\n",
      "computing module 3\n",
      "   testing 1350 designs\n",
      "   best score is 0.1724137931034483\n",
      "The PKS product is CCC(=O)C[C@@H](O)CC(=O)O\n",
      "\n",
      "----------------------------------------------------------\n",
      "\n",
      " Detected a carboxylic acid group in this upstream precusor C=CC(=O)O\n",
      "\n",
      " Doubly reducing this acid group gives: C=CC\n",
      "Checking if feeding C=CC as a precursor to RetroTide can give the upstream precursor C=CC(=O)O:\n",
      "computing module 1\n",
      "   testing 1404 designs\n",
      "   best score is 0.125\n",
      "computing module 2\n",
      "   testing 1350 designs\n",
      "   best score is 0.058823529411764705\n",
      "\n",
      " This PKS product is CC=CC(=O)O\n",
      "\n",
      " After removing stereochemistry, the PKS product is CC=CC(=O)O\n",
      "\n",
      "----------------------------------------------------------\n",
      "\n",
      "Running PKS retrosynthesis on CCC(=O)SCCNC(=O)CCNC(=O)C(O)C(C)(C)COP(=O)(O)OP(=O)(O)OCC1OC(n2cnc3c(N)ncnc32)C(O)C1OP(=O)(O)O\n",
      "computing module 1\n",
      "   testing 1404 designs\n",
      "   best score is 0.08243243243243244\n",
      "computing module 2\n",
      "   testing 1350 designs\n",
      "   best score is 0.1270516717325228\n",
      "computing module 3\n",
      "   testing 1350 designs\n",
      "   best score is 0.1554524361948956\n",
      "computing module 4\n",
      "   testing 1350 designs\n",
      "   best score is 0.18216216216216216\n",
      "computing module 5\n",
      "   testing 1350 designs\n",
      "   best score is 0.19847715736040608\n",
      "computing module 6\n",
      "   testing 1350 designs\n",
      "   best score is 0.21315298507462688\n",
      "computing module 7\n",
      "   testing 1350 designs\n",
      "   best score is 0.22324723247232472\n",
      "computing module 8\n",
      "   testing 1350 designs\n",
      "   best score is 0.23499577345731193\n",
      "computing module 9\n",
      "   testing 1350 designs\n",
      "   best score is 0.2413793103448276\n",
      "computing module 10\n",
      "   testing 1350 designs\n",
      "   best score is 0.24204545454545454\n",
      "computing module 11\n",
      "   testing 1350 designs\n",
      "   best score is 0.24587221823402727\n",
      "computing module 12\n",
      "   testing 1350 designs\n",
      "   best score is 0.2401927047487956\n",
      "The PKS product is CCCCCC[C@H](C(=O)[C@@H](CCCCc1c[nH]c(Cl)c1Cl)[C@@H](O)[C@@H](OC)[C@@H](O)[C@H](C=C(O)[C@@H](O)C[C@@H](O)[C@H](C=C(O)C(=O)CC=C(O)C(=O)CC(=O)O)OC)OC)C(=O)[C@@H](C)CNC(=O)[C@H](C)N\n",
      "\n",
      "----------------------------------------------------------\n",
      "\n",
      " Detected a carboxylic acid group in this upstream precusor O=C(O)CCC(=O)O\n",
      "\n",
      " Doubly reducing this acid group gives: CCCC(=O)O\n",
      "Checking if feeding CCCC(=O)O as a precursor to RetroTide can give the upstream precursor O=C(O)CCC(=O)O:\n",
      "computing module 1\n",
      "   testing 1404 designs\n",
      "   best score is 0.38461538461538464\n",
      "computing module 2\n",
      "   testing 1350 designs\n",
      "   best score is 0.30303030303030304\n",
      "\n",
      " This PKS product is CCCC(=O)CC(=O)O\n",
      "\n",
      " After removing stereochemistry, the PKS product is CCCC(=O)CC(=O)O\n",
      "\n",
      "----------------------------------------------------------\n",
      "\n",
      " Detected a carboxylic acid group in this upstream precusor CC(C(=O)O)C(=O)O\n",
      "\n",
      " Doubly reducing this acid group gives: CC(C)C(=O)O\n",
      "Checking if feeding CC(C)C(=O)O as a precursor to RetroTide can give the upstream precursor CC(C(=O)O)C(=O)O:\n",
      "computing module 1\n",
      "   testing 1404 designs\n",
      "   best score is 0.5\n",
      "computing module 2\n",
      "   testing 1350 designs\n",
      "   best score is 0.24390243902439024\n",
      "\n",
      " This PKS product is CC(=O)[C@H](C)C(=O)O\n",
      "\n",
      " After removing stereochemistry, the PKS product is CC(=O)C(C)C(=O)O\n",
      "\n",
      "----------------------------------------------------------\n",
      "\n",
      "Running PKS retrosynthesis on CC\n",
      "computing module 1\n",
      "   testing 1404 designs\n",
      "   best score is 0.0\n",
      "The PKS product is CC(=O)O\n",
      "\n",
      "----------------------------------------------------------\n",
      "\n",
      "Running PKS retrosynthesis on CCC(N)O\n",
      "computing module 1\n",
      "   testing 1404 designs\n",
      "   best score is 0.42857142857142855\n",
      "computing module 2\n",
      "   testing 1350 designs\n",
      "   best score is 0.24\n",
      "The PKS product is C[C@@H](O)CC(=O)O\n",
      "\n",
      "----------------------------------------------------------\n",
      "\n",
      " Detected a carboxylic acid group in this upstream precusor CCCC(=O)O\n",
      "\n",
      " Doubly reducing this acid group gives: CCCC\n",
      "Checking if feeding CCCC as a precursor to RetroTide can give the upstream precursor CCCC(=O)O:\n",
      "computing module 1\n",
      "   testing 1404 designs\n",
      "   best score is 1.0\n",
      "computing module 2\n",
      "   testing 1350 designs\n",
      "   best score is 0.3125\n",
      "\n",
      " This PKS product is CCCC(=O)O\n",
      "\n",
      " After removing stereochemistry, the PKS product is CCCC(=O)O\n",
      "\n",
      "Thus, this upstream precursor can be synthesized with PKSs!!\n",
      "\n",
      "----------------------------------------------------------\n",
      "\n",
      " Detected a carboxylic acid group in this upstream precusor CC(C)C(=O)O\n",
      "\n",
      " Doubly reducing this acid group gives: CC(C)C\n",
      "Checking if feeding CC(C)C as a precursor to RetroTide can give the upstream precursor CC(C)C(=O)O:\n",
      "computing module 1\n",
      "   testing 1404 designs\n",
      "   best score is 0.23529411764705882\n",
      "computing module 2\n",
      "   testing 1350 designs\n",
      "   best score is 0.13333333333333333\n",
      "\n",
      " This PKS product is C[C@@H](O)[C@@H](C)C(=O)O\n",
      "\n",
      " After removing stereochemistry, the PKS product is CC(O)C(C)C(=O)O\n",
      "\n",
      "----------------------------------------------------------\n",
      "\n",
      "Running PKS retrosynthesis on CCC(=O)OS(=O)(=O)O\n",
      "computing module 1\n",
      "   testing 1404 designs\n",
      "   best score is 0.17391304347826086\n",
      "computing module 2\n",
      "   testing 1350 designs\n",
      "   best score is 0.22033898305084745\n",
      "computing module 3\n",
      "   testing 1350 designs\n",
      "   best score is 0.18604651162790697\n",
      "The PKS product is CCC(=O)CC(=O)CC(=O)O\n",
      "\n",
      "----------------------------------------------------------\n",
      "\n",
      " Detected a carboxylic acid group in this upstream precusor CCC(O)(O)C(C)C(=O)O\n",
      "\n",
      " Doubly reducing this acid group gives: CCC(O)(O)C(C)C\n",
      "Checking if feeding CCC(O)(O)C(C)C as a precursor to RetroTide can give the upstream precursor CCC(O)(O)C(C)C(=O)O:\n",
      "computing module 1\n",
      "   testing 1404 designs\n",
      "   best score is 0.4411764705882353\n",
      "computing module 2\n",
      "   testing 1350 designs\n",
      "   best score is 0.2807017543859649\n",
      "\n",
      " This PKS product is CC[C@@H](O)[C@@H](C)C(=O)O\n",
      "\n",
      " After removing stereochemistry, the PKS product is CCC(O)C(C)C(=O)O\n",
      "\n",
      "----------------------------------------------------------\n",
      "\n",
      " Detected a carboxylic acid group in this upstream precusor CCC(O)(O)CCC(=O)O\n",
      "\n",
      " Doubly reducing this acid group gives: CCCC(O)(O)CC\n",
      "Checking if feeding CCCC(O)(O)CC as a precursor to RetroTide can give the upstream precursor CCC(O)(O)CCC(=O)O:\n",
      "computing module 1\n",
      "   testing 1404 designs\n",
      "   best score is 0.4411764705882353\n",
      "computing module 2\n",
      "   testing 1350 designs\n",
      "   best score is 0.2727272727272727\n",
      "\n",
      " This PKS product is CCC[C@@H](O)CC(=O)O\n",
      "\n",
      " After removing stereochemistry, the PKS product is CCCC(O)CC(=O)O\n",
      "\n",
      "----------------------------------------------------------\n",
      "\n",
      "Running PKS retrosynthesis on CCC(N)=O\n",
      "computing module 1\n",
      "   testing 1404 designs\n",
      "   best score is 0.42857142857142855\n",
      "computing module 2\n",
      "   testing 1350 designs\n",
      "   best score is 0.1875\n",
      "The PKS product is CC(=O)CC(=O)O\n",
      "\n",
      "----------------------------------------------------------\n",
      "\n",
      "Running PKS retrosynthesis on CCC(=O)OC(C)=O\n",
      "computing module 1\n",
      "   testing 1404 designs\n",
      "   best score is 0.35185185185185186\n",
      "computing module 2\n",
      "   testing 1350 designs\n",
      "   best score is 0.6\n",
      "computing module 3\n",
      "   testing 1350 designs\n",
      "   best score is 0.32727272727272727\n",
      "The PKS product is CC(=O)CC(=O)CC(=O)O\n",
      "\n",
      "----------------------------------------------------------\n",
      "\n",
      "Running PKS retrosynthesis on OCCC(O)O\n",
      "computing module 1\n",
      "   testing 1404 designs\n",
      "   best score is 0.25\n",
      "computing module 2\n",
      "   testing 1350 designs\n",
      "   best score is 0.275\n",
      "computing module 3\n",
      "   testing 1350 designs\n",
      "   best score is 0.22448979591836735\n",
      "The PKS product is CCC[C@H](O)C[C@H](O)C(=O)O\n",
      "\n",
      "----------------------------------------------------------\n",
      "\n",
      "Running PKS retrosynthesis on CC(O)C(O)O\n",
      "computing module 1\n",
      "   testing 1404 designs\n",
      "   best score is 0.5789473684210527\n",
      "computing module 2\n",
      "   testing 1350 designs\n",
      "   best score is 0.3783783783783784\n",
      "The PKS product is C[C@@H](O)[C@@H](O)C(=O)O\n",
      "\n",
      "----------------------------------------------------------\n",
      "\n",
      " Detected a carboxylic acid group in this upstream precusor CCOC(=O)O\n"
     ]
    },
    {
     "ename": "ArgumentError",
     "evalue": "Python argument types in\n    rdkit.Chem.rdmolfiles.MolToSmiles(NoneType)\ndid not match C++ signature:\n    MolToSmiles(RDKit::ROMol mol, bool isomericSmiles=True, bool kekuleSmiles=False, int rootedAtAtom=-1, bool canonical=True, bool allBondsExplicit=False, bool allHsExplicit=False, bool doRandom=False)\n    MolToSmiles(RDKit::ROMol mol, RDKit::SmilesWriteParams params)",
     "output_type": "error",
     "traceback": [
      "\u001b[0;31m---------------------------------------------------------------------------\u001b[0m",
      "\u001b[0;31mArgumentError\u001b[0m                             Traceback (most recent call last)",
      "Cell \u001b[0;32mIn[9], line 1\u001b[0m\n\u001b[0;32m----> 1\u001b[0m \u001b[43mbiosynth_pipeline_object\u001b[49m\u001b[38;5;241;43m.\u001b[39;49m\u001b[43mrun_non_pks_synthesis_retro\u001b[49m\u001b[43m(\u001b[49m\u001b[43mpks_release_mechanism\u001b[49m\u001b[38;5;241;43m=\u001b[39;49m\u001b[38;5;124;43m'\u001b[39;49m\u001b[38;5;124;43mthiolysis\u001b[39;49m\u001b[38;5;124;43m'\u001b[39;49m\u001b[43m)\u001b[49m\n",
      "File \u001b[0;32m~/PycharmProjects/retrobiosynthesisPipeline/biosynth_pipeline/biosynth_pipeline.py:639\u001b[0m, in \u001b[0;36mbiosynth_pipeline.run_non_pks_synthesis_retro\u001b[0;34m(self, pks_release_mechanism)\u001b[0m\n\u001b[1;32m    636\u001b[0m \u001b[38;5;66;03m# doubly reduce the acid group on this precursor first\u001b[39;00m\n\u001b[1;32m    637\u001b[0m \u001b[38;5;66;03m# the double_reduce function returns a mol object\u001b[39;00m\n\u001b[1;32m    638\u001b[0m reduced_intermediate_mol \u001b[38;5;241m=\u001b[39m double_reduce(Chem\u001b[38;5;241m.\u001b[39mMolFromSmiles(upstream_precursor_smiles))\n\u001b[0;32m--> 639\u001b[0m reduced_intermediate_smi \u001b[38;5;241m=\u001b[39m \u001b[43mChem\u001b[49m\u001b[38;5;241;43m.\u001b[39;49m\u001b[43mMolToSmiles\u001b[49m\u001b[43m(\u001b[49m\u001b[43mreduced_intermediate_mol\u001b[49m\u001b[43m)\u001b[49m\n\u001b[1;32m    640\u001b[0m \u001b[38;5;28mprint\u001b[39m(\u001b[38;5;124mf\u001b[39m\u001b[38;5;124m'\u001b[39m\u001b[38;5;130;01m\\n\u001b[39;00m\u001b[38;5;124m Doubly reducing this acid group gives: \u001b[39m\u001b[38;5;132;01m{\u001b[39;00mreduced_intermediate_smi\u001b[38;5;132;01m}\u001b[39;00m\u001b[38;5;124m'\u001b[39m)\n\u001b[1;32m    641\u001b[0m \u001b[38;5;28mprint\u001b[39m(\u001b[38;5;124mf\u001b[39m\u001b[38;5;124m'\u001b[39m\u001b[38;5;124mChecking if feeding \u001b[39m\u001b[38;5;132;01m{\u001b[39;00mreduced_intermediate_smi\u001b[38;5;132;01m}\u001b[39;00m\u001b[38;5;124m as a precursor to RetroTide can give the upstream precursor \u001b[39m\u001b[38;5;132;01m{\u001b[39;00mupstream_precursor_smiles\u001b[38;5;132;01m}\u001b[39;00m\u001b[38;5;124m:\u001b[39m\u001b[38;5;124m'\u001b[39m)\n",
      "\u001b[0;31mArgumentError\u001b[0m: Python argument types in\n    rdkit.Chem.rdmolfiles.MolToSmiles(NoneType)\ndid not match C++ signature:\n    MolToSmiles(RDKit::ROMol mol, bool isomericSmiles=True, bool kekuleSmiles=False, int rootedAtAtom=-1, bool canonical=True, bool allBondsExplicit=False, bool allHsExplicit=False, bool doRandom=False)\n    MolToSmiles(RDKit::ROMol mol, RDKit::SmilesWriteParams params)"
     ]
    }
   ],
   "source": [
    "biosynth_pipeline_object.run_non_pks_synthesis_retro(pks_release_mechanism='thiolysis')"
   ]
  },
  {
   "cell_type": "code",
   "execution_count": null,
   "id": "28c9a049",
   "metadata": {},
   "outputs": [],
   "source": []
  },
  {
   "cell_type": "code",
   "execution_count": null,
   "id": "14c8b5cb-ef4f-4a81-b80a-d7fc2c7269b3",
   "metadata": {},
   "outputs": [],
   "source": []
  },
  {
   "cell_type": "code",
   "execution_count": null,
   "id": "b738d19e-a1f7-4f2c-9eee-110bedc2412f",
   "metadata": {},
   "outputs": [],
   "source": []
  }
 ],
 "metadata": {
  "kernelspec": {
   "display_name": "equilibrator_env",
   "language": "python",
   "name": "equilibrator_env"
  },
  "language_info": {
   "codemirror_mode": {
    "name": "ipython",
    "version": 3
   },
   "file_extension": ".py",
   "mimetype": "text/x-python",
   "name": "python",
   "nbconvert_exporter": "python",
   "pygments_lexer": "ipython3",
   "version": "3.9.17"
  }
 },
 "nbformat": 4,
 "nbformat_minor": 5
}
