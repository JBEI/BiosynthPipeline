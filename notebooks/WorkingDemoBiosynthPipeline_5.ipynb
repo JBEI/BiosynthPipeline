{
 "cells": [
  {
   "cell_type": "markdown",
   "id": "2e7d9e2b",
   "metadata": {},
   "source": [
    "# Biosynthesis Pipeline Demo 5"
   ]
  },
  {
   "cell_type": "markdown",
   "id": "23700e99",
   "metadata": {},
   "source": [
    "Authors: Tyler Backman and Yash Chainani"
   ]
  },
  {
   "cell_type": "code",
   "execution_count": 2,
   "id": "97c4cd0b",
   "metadata": {},
   "outputs": [
    {
     "name": "stdout",
     "output_type": "stream",
     "text": [
      "No valid license for cxcalc installed, operating in read-only mode. A local cache may be loaded, but no compounds can be created. Please obtain a ChemAxon license to enable compound creation.\n",
      "Loading compounds from /Users/yashchainani96/PycharmProjects/pathway_discovery/chemaxon/equilibrator-assets-master/notebooks/compounds.sqlite\n"
     ]
    }
   ],
   "source": [
    "import pandas as pd\n",
    "import sys\n",
    "sys.path.append('../biosynth_pipeline')\n",
    "from biosynth_pipeline import biosynth_pipeline\n",
    "from biosynth_pipeline import feasibility_classifier"
   ]
  },
  {
   "cell_type": "code",
   "execution_count": 9,
   "id": "2cb8a1b7",
   "metadata": {},
   "outputs": [],
   "source": [
    "### initialize the feasibility classifier to plug into biosynth_pipeline object later\n",
    "feasibility_model_path = '../models/updated_model_Apr28' # can pick the '.pkl' or '.dat' file too\n",
    "calibration_model_path = '../models/updated_model_Apr28_calibration'\n",
    "cofactors_path = '../data/coreactants_and_rules/all_cofactors_updated.csv'\n",
    "fp_type = 'ecfp4'\n",
    "nBits = 2048\n",
    "max_species = 4\n",
    "cofactor_positioning = 'by_descending_MW'\n",
    "\n",
    "PX = feasibility_classifier(feasibility_model_path = feasibility_model_path,\n",
    "                                                   calibration_model_path = calibration_model_path,\n",
    "                                                   cofactors_path = cofactors_path,\n",
    "                                                   fp_type = fp_type,\n",
    "                                                   nBits = nBits,\n",
    "                                                   max_species = max_species,\n",
    "                                                   cofactor_positioning = cofactor_positioning)"
   ]
  },
  {
   "cell_type": "code",
   "execution_count": null,
   "id": "49dec2d4",
   "metadata": {},
   "outputs": [],
   "source": [
    "substrateLibrary = OrderedDict([\n",
    "    # 10 commodity chemicals\n",
    "    ('octane', 'CCCCCCCC'),\n",
    "    ('Butanone', 'CCC(=O)C'),\n",
    "    ('2-pentanone', 'O=C(C)CCC'),\n",
    "    ('Propionic acid', 'CCC(=O)O'),\n",
    "    ('Dodecane', 'CCCCCCCCCCCC'),\n",
    "    ('Linolenic acid ', 'O=C(O)CCCC\\C=C/C\\C=C/C\\C=C/CCCCC'),\n",
    "    \n",
    "    # 10 specialty chemicals\n",
    "    ('1,2,4-Butanetriol', 'C(CO)[C@@H](CO)O'),\n",
    "    ('γ-Valerolactone', 'CC1CCC(=O)O1'),\n",
    "    ('Narbonolide', 'CC[C@@H]1[C@@H](/C=C/C(=O)[C@@H](C[C@@H]([C@@H]([C@H](C(=O)[C@H](C(=O)O1)C)C)O)C)C)C'),\n",
    "    ('Polyhydroxyethylmethacrylate', 'CCCCCCCCC=CCCCCCCCCOCC(C[N+](C)(C)CCOCCO)OCCCCCCCCC=CCCCCCCCC'),\n",
    "    ('Alitretinoin', 'C\\C(\\C=C\\C1=C(C)CCCC1(C)C)=C\\C=C\\C(\\C)=C\\C(O)=O'),\n",
    "    ('alpha-Amyl cinnamaldehyde', 'CCCCC\\C(C=O)=C\\C1=CC=CC=C1'),\n",
    "    ('Aminocaproic acid', 'NCCCCCC(O)=O'),\n",
    "    ('Aminolevulinic acid', 'NCC(=O)CCC(O)=O'),\n",
    "    ('Azelaic acid', 'OC(=O)CCCCCCCC(O)=O'),\n",
    "    ('Bempedoic acid', 'CC(C)(CCCCCC(O)CCCCCC(C)(C)C(O)=O)C(O)=O'),\n",
    "])"
   ]
  },
  {
   "cell_type": "markdown",
   "id": "9a364777",
   "metadata": {},
   "source": [
    "#### Caprolactone"
   ]
  },
  {
   "cell_type": "code",
   "execution_count": 10,
   "id": "1a9d1074",
   "metadata": {},
   "outputs": [],
   "source": [
    "# create an instance of the biosynth_pipeline class\n",
    "pathway_sequence = ['pks', 'non_pks']  # do retrotide first then pickaxe\n",
    "target_smiles = 'C1CCC(=O)OCC1' \n",
    "\n",
    "non_pks_steps = 1\n",
    "\n",
    "biosynth_pipeline_object = biosynth_pipeline(pathway_sequence=pathway_sequence,\n",
    "                                             target_smiles=target_smiles,\n",
    "                                             feasibility_classifier = PX,\n",
    "                                             non_pks_steps=non_pks_steps)"
   ]
  },
  {
   "cell_type": "code",
   "execution_count": 11,
   "id": "9cccb104",
   "metadata": {},
   "outputs": [
    {
     "name": "stdout",
     "output_type": "stream",
     "text": [
      "\n",
      "Starting PKS retrobiosynthesis with retrotide\n",
      "---------------------------------------------\n",
      "computing module 1\n",
      "   testing 1404 designs\n",
      "   best score is 0.40384615384615385\n",
      "computing module 2\n",
      "   testing 1350 designs\n",
      "   best score is 0.296875\n",
      "\n",
      "Best PKS design: [[\"AT{'substrate': 'CHC-CoA'}\", 'loading: True'], [\"AT{'substrate': 'Malonyl-CoA'}\", 'loading: False']]\n",
      "\n",
      "Closest final product is: O=C(O)CC(=O)C1CCCCC1\n",
      "\n",
      "Finished PKS synthesis - closest product to the target using the top PKS design of [[\"AT{'substrate': 'CHC-CoA'}\", 'loading: True'], [\"AT{'substrate': 'Malonyl-CoA'}\", 'loading: False']] is O=C(O)CC(=O)C1CCCCC1. Moving onto non-PKS synthesis...\n"
     ]
    }
   ],
   "source": [
    "biosynth_pipeline_object.run_pks_synthesis(pks_release_mechanism='thiolysis')"
   ]
  },
  {
   "cell_type": "code",
   "execution_count": 12,
   "id": "277a1991",
   "metadata": {
    "scrolled": true
   },
   "outputs": [
    {
     "name": "stdout",
     "output_type": "stream",
     "text": [
      "\n",
      "Starting pickaxe expansion on O=C(O)CC(=O)C1CCCCC1\n",
      "\n",
      "----------------------------------------\n",
      "Intializing pickaxe object\n"
     ]
    },
    {
     "name": "stderr",
     "output_type": "stream",
     "text": [
      "[11:42:22] WARNING: not removing hydrogen atom without neighbors\n",
      "[11:42:22] WARNING: not removing hydrogen atom without neighbors\n"
     ]
    },
    {
     "name": "stdout",
     "output_type": "stream",
     "text": [
      "\n",
      "Done intializing pickaxe object\n",
      "----------------------------------------\n",
      "\n",
      "1 compounds loaded...\n",
      "(1 after removing stereochemistry)\n",
      "1 target compounds loaded\n",
      "\n",
      "----------------------------------------\n",
      "Expanding Generation 1\n",
      "\n",
      "Generation 1: 0 percent complete\n",
      "Generation 1 finished in 5.51865291595459 s and contains:\n",
      "\t\t143 new compounds\n",
      "\t\t154 new reactions\n",
      "\n",
      "Done expanding Generation: 1.\n",
      "----------------------------------------\n",
      "\n",
      "\n",
      "No pathways to target are found using non-PKS enzymes for 1 step/s and the top PKS module design\n",
      "\n",
      "Attempting non-PKS enzymes for 1 step/s on PKS product from the next 5 best PKS designs. Note you can also try increasing the number of non-PKS enzymatic steps\n",
      "\n",
      "------\n",
      "PKS design 2: [[\"AT{'substrate': 'CHC-CoA'}\", 'loading: True'], [\"AT{'substrate': 'hmal'}\", 'loading: False']]\n",
      "\n",
      "PKS product from this PKS design is O=C(O)C(O)C(=O)C1CCCCC1 with a similarity score of 0.27692307692307694 to the target molecule O=C1CCCCCO1)\n",
      "\n",
      "Starting pickaxe expansion on O=C(O)C(O)C(=O)C1CCCCC1\n",
      "\n",
      "----------------------------------------\n",
      "Intializing pickaxe object\n"
     ]
    },
    {
     "name": "stderr",
     "output_type": "stream",
     "text": [
      "[11:42:33] WARNING: not removing hydrogen atom without neighbors\n",
      "[11:42:33] WARNING: not removing hydrogen atom without neighbors\n"
     ]
    },
    {
     "name": "stdout",
     "output_type": "stream",
     "text": [
      "\n",
      "Done intializing pickaxe object\n",
      "----------------------------------------\n",
      "\n",
      "1 compounds loaded...\n",
      "(1 after removing stereochemistry)\n",
      "1 target compounds loaded\n",
      "\n",
      "----------------------------------------\n",
      "Expanding Generation 1\n",
      "\n",
      "Generation 1: 0 percent complete\n",
      "Generation 1 finished in 4.208844184875488 s and contains:\n",
      "\t\t187 new compounds\n",
      "\t\t206 new reactions\n",
      "\n",
      "Done expanding Generation: 1.\n",
      "----------------------------------------\n",
      "\n",
      "\n",
      "No pathways found in 1 step/s from O=C(O)C(O)C(=O)C1CCCCC1 to O=C1CCCCCO1\n",
      "\n",
      "Moving onto product from next best PKS design\n",
      "\n",
      "------\n",
      "PKS design 3: [[\"AT{'substrate': 'CHC-CoA'}\", 'loading: True'], [\"AT{'substrate': 'hmal'}\", \"KR{'type': 'C1'}\", 'loading: False']]\n",
      "\n",
      "PKS product from this PKS design is O=C(O)[C@H](O)C(=O)C1CCCCC1 with a similarity score of 0.27692307692307694 to the target molecule O=C1CCCCCO1)\n",
      "\n",
      "Starting pickaxe expansion on O=C(O)[C@H](O)C(=O)C1CCCCC1\n",
      "\n",
      "----------------------------------------\n",
      "Intializing pickaxe object\n"
     ]
    },
    {
     "name": "stderr",
     "output_type": "stream",
     "text": [
      "[11:42:42] WARNING: not removing hydrogen atom without neighbors\n",
      "[11:42:42] WARNING: not removing hydrogen atom without neighbors\n"
     ]
    },
    {
     "name": "stdout",
     "output_type": "stream",
     "text": [
      "\n",
      "Done intializing pickaxe object\n",
      "----------------------------------------\n",
      "\n",
      "1 compounds loaded...\n",
      "(1 after removing stereochemistry)\n",
      "1 target compounds loaded\n",
      "\n",
      "----------------------------------------\n",
      "Expanding Generation 1\n",
      "\n",
      "Generation 1: 0 percent complete\n",
      "Generation 1 finished in 4.1556501388549805 s and contains:\n",
      "\t\t187 new compounds\n",
      "\t\t206 new reactions\n",
      "\n",
      "Done expanding Generation: 1.\n",
      "----------------------------------------\n",
      "\n",
      "\n",
      "No pathways found in 1 step/s from O=C(O)[C@H](O)C(=O)C1CCCCC1 to O=C1CCCCCO1\n",
      "\n",
      "Moving onto product from next best PKS design\n",
      "\n",
      "------\n",
      "PKS design 4: [[\"AT{'substrate': 'CHC-CoA'}\", 'loading: True'], [\"AT{'substrate': 'Methylmalonyl-CoA'}\", \"KR{'type': 'C1'}\", 'loading: False']]\n",
      "\n",
      "PKS product from this PKS design is C[C@@H](C(=O)O)C(=O)C1CCCCC1 with a similarity score of 0.27692307692307694 to the target molecule O=C1CCCCCO1)\n",
      "\n",
      "Starting pickaxe expansion on C[C@@H](C(=O)O)C(=O)C1CCCCC1\n",
      "\n",
      "----------------------------------------\n",
      "Intializing pickaxe object\n"
     ]
    },
    {
     "name": "stderr",
     "output_type": "stream",
     "text": [
      "[11:42:50] WARNING: not removing hydrogen atom without neighbors\n",
      "[11:42:50] WARNING: not removing hydrogen atom without neighbors\n"
     ]
    },
    {
     "name": "stdout",
     "output_type": "stream",
     "text": [
      "\n",
      "Done intializing pickaxe object\n",
      "----------------------------------------\n",
      "\n",
      "1 compounds loaded...\n",
      "(1 after removing stereochemistry)\n",
      "1 target compounds loaded\n",
      "\n",
      "----------------------------------------\n",
      "Expanding Generation 1\n",
      "\n",
      "Generation 1: 0 percent complete\n",
      "Generation 1 finished in 4.087356090545654 s and contains:\n",
      "\t\t178 new compounds\n",
      "\t\t189 new reactions\n",
      "\n",
      "Done expanding Generation: 1.\n",
      "----------------------------------------\n",
      "\n",
      "\n",
      "No pathways found in 1 step/s from C[C@@H](C(=O)O)C(=O)C1CCCCC1 to O=C1CCCCCO1\n",
      "\n",
      "Moving onto product from next best PKS design\n",
      "\n",
      "------\n",
      "PKS design 5: [[\"AT{'substrate': 'CHC-CoA'}\", 'loading: True'], [\"AT{'substrate': 'Methylmalonyl-CoA'}\", 'loading: False']]\n",
      "\n",
      "PKS product from this PKS design is C[C@H](C(=O)O)C(=O)C1CCCCC1 with a similarity score of 0.27692307692307694 to the target molecule O=C1CCCCCO1)\n",
      "\n",
      "Starting pickaxe expansion on C[C@H](C(=O)O)C(=O)C1CCCCC1\n",
      "\n",
      "----------------------------------------\n",
      "Intializing pickaxe object\n"
     ]
    },
    {
     "name": "stderr",
     "output_type": "stream",
     "text": [
      "[11:42:59] WARNING: not removing hydrogen atom without neighbors\n",
      "[11:42:59] WARNING: not removing hydrogen atom without neighbors\n"
     ]
    },
    {
     "name": "stdout",
     "output_type": "stream",
     "text": [
      "\n",
      "Done intializing pickaxe object\n",
      "----------------------------------------\n",
      "\n",
      "1 compounds loaded...\n",
      "(1 after removing stereochemistry)\n",
      "1 target compounds loaded\n",
      "\n",
      "----------------------------------------\n",
      "Expanding Generation 1\n",
      "\n",
      "Generation 1: 0 percent complete\n",
      "Generation 1 finished in 4.291557788848877 s and contains:\n",
      "\t\t178 new compounds\n",
      "\t\t189 new reactions\n",
      "\n",
      "Done expanding Generation: 1.\n",
      "----------------------------------------\n",
      "\n",
      "\n",
      "No pathways found in 1 step/s from C[C@H](C(=O)O)C(=O)C1CCCCC1 to O=C1CCCCCO1\n",
      "\n",
      "Moving onto product from next best PKS design\n",
      "\n",
      "------\n",
      "PKS design 6: [[\"AT{'substrate': 'cyclopentene'}\", 'loading: True'], [\"AT{'substrate': 'Malonyl-CoA'}\", \"KR{'type': 'B'}\", 'DH{}', 'ER{}', 'loading: False']]\n",
      "\n",
      "PKS product from this PKS design is O=C(O)CCC1=CCCC1=O with a similarity score of 0.2549019607843137 to the target molecule O=C1CCCCCO1)\n",
      "\n",
      "Starting pickaxe expansion on O=C(O)CCC1=CCCC1=O\n",
      "\n",
      "----------------------------------------\n",
      "Intializing pickaxe object\n"
     ]
    },
    {
     "name": "stderr",
     "output_type": "stream",
     "text": [
      "[11:43:08] WARNING: not removing hydrogen atom without neighbors\n",
      "[11:43:08] WARNING: not removing hydrogen atom without neighbors\n"
     ]
    },
    {
     "name": "stdout",
     "output_type": "stream",
     "text": [
      "\n",
      "Done intializing pickaxe object\n",
      "----------------------------------------\n",
      "\n",
      "1 compounds loaded...\n",
      "(1 after removing stereochemistry)\n",
      "1 target compounds loaded\n",
      "\n",
      "----------------------------------------\n",
      "Expanding Generation 1\n",
      "\n",
      "Generation 1: 0 percent complete\n",
      "Generation 1 finished in 3.868093252182007 s and contains:\n",
      "\t\t106 new compounds\n",
      "\t\t114 new reactions\n",
      "\n",
      "Done expanding Generation: 1.\n",
      "----------------------------------------\n",
      "\n",
      "\n",
      "No pathways found in 1 step/s from O=C(O)CCC1=CCCC1=O to O=C1CCCCCO1\n",
      "\n",
      "Moving onto product from next best PKS design\n"
     ]
    }
   ],
   "source": [
    "non_pks_pathways = biosynth_pipeline_object.run_non_pks_synthesis_post_pks(max_designs=5)"
   ]
  },
  {
   "cell_type": "markdown",
   "id": "f39ecf3d",
   "metadata": {},
   "source": [
    "#### Acrylic acid"
   ]
  },
  {
   "cell_type": "code",
   "execution_count": 24,
   "id": "76f90ca9",
   "metadata": {},
   "outputs": [],
   "source": [
    "# create an instance of the biosynth_pipeline class\n",
    "pathway_sequence = ['pks', 'non_pks']  # do retrotide first then pickaxe\n",
    "target_smiles = 'CCCCCCCC(=O)O' \n",
    "\n",
    "non_pks_steps = 1\n",
    "\n",
    "biosynth_pipeline_object = biosynth_pipeline(pathway_sequence=pathway_sequence,\n",
    "                                             target_smiles=target_smiles,\n",
    "                                             feasibility_classifier = PX,\n",
    "                                             non_pks_steps=non_pks_steps)"
   ]
  },
  {
   "cell_type": "code",
   "execution_count": 25,
   "id": "fbbc3971",
   "metadata": {},
   "outputs": [
    {
     "name": "stdout",
     "output_type": "stream",
     "text": [
      "\n",
      "Starting PKS retrobiosynthesis with retrotide\n",
      "---------------------------------------------\n",
      "computing module 1\n",
      "   testing 1404 designs\n",
      "   best score is 0.44155844155844154\n",
      "computing module 2\n",
      "   testing 1350 designs\n",
      "   best score is 0.5\n",
      "computing module 3\n",
      "   testing 1350 designs\n",
      "   best score is 0.35135135135135137\n",
      "\n",
      "Best PKS design: [[\"AT{'substrate': 'trans-1,2-CPDA'}\", 'loading: True'], [\"AT{'substrate': 'Malonyl-CoA'}\", \"KR{'type': 'B'}\", 'DH{}', 'ER{}', 'loading: False'], [\"AT{'substrate': 'Malonyl-CoA'}\", \"KR{'type': 'B'}\", 'DH{}', 'ER{}', 'loading: False']]\n",
      "\n",
      "Closest final product is: O=C(O)CCCC[C@@H]1CCC[C@H]1C(=O)O\n",
      "\n",
      "Finished PKS synthesis - closest product to the target using the top PKS design of [[\"AT{'substrate': 'trans-1,2-CPDA'}\", 'loading: True'], [\"AT{'substrate': 'Malonyl-CoA'}\", \"KR{'type': 'B'}\", 'DH{}', 'ER{}', 'loading: False'], [\"AT{'substrate': 'Malonyl-CoA'}\", \"KR{'type': 'B'}\", 'DH{}', 'ER{}', 'loading: False']] is O=C(O)CCCC[C@@H]1CCC[C@H]1C(=O)O. Moving onto non-PKS synthesis...\n"
     ]
    }
   ],
   "source": [
    "biosynth_pipeline_object.run_pks_synthesis(pks_release_mechanism='thiolysis')"
   ]
  },
  {
   "cell_type": "code",
   "execution_count": 15,
   "id": "2f63d416",
   "metadata": {},
   "outputs": [
    {
     "name": "stdout",
     "output_type": "stream",
     "text": [
      "\n",
      "Starting pickaxe expansion on CC=C(O)C(=O)O\n",
      "\n",
      "----------------------------------------\n",
      "Intializing pickaxe object\n"
     ]
    },
    {
     "name": "stderr",
     "output_type": "stream",
     "text": [
      "[11:44:01] WARNING: not removing hydrogen atom without neighbors\n",
      "[11:44:01] WARNING: not removing hydrogen atom without neighbors\n"
     ]
    },
    {
     "name": "stdout",
     "output_type": "stream",
     "text": [
      "\n",
      "Done intializing pickaxe object\n",
      "----------------------------------------\n",
      "\n",
      "1 compounds loaded...\n",
      "(1 after removing stereochemistry)\n",
      "1 target compounds loaded\n",
      "\n",
      "----------------------------------------\n",
      "Expanding Generation 1\n",
      "\n",
      "Generation 1: 0 percent complete\n",
      "Generation 1 finished in 2.681285858154297 s and contains:\n",
      "\t\t89 new compounds\n",
      "\t\t99 new reactions\n",
      "\n",
      "Done expanding Generation: 1.\n",
      "----------------------------------------\n",
      "\n",
      "\n",
      "No pathways to target are found using non-PKS enzymes for 1 step/s and the top PKS module design\n",
      "\n",
      "Attempting non-PKS enzymes for 1 step/s on PKS product from the next 5 best PKS designs. Note you can also try increasing the number of non-PKS enzymatic steps\n",
      "\n",
      "------\n",
      "PKS design 2: [[\"AT{'substrate': 'cemal'}\", 'loading: True'], [\"AT{'substrate': 'hmal'}\", \"KR{'type': 'B1'}\", 'DH{}', 'loading: False']]\n",
      "\n",
      "PKS product from this PKS design is CC=C(O)C(=O)O with a similarity score of 0.17647058823529413 to the target molecule C=CC(=O)O)\n",
      "\n",
      "Starting pickaxe expansion on CC=C(O)C(=O)O\n",
      "\n",
      "----------------------------------------\n",
      "Intializing pickaxe object\n"
     ]
    },
    {
     "name": "stderr",
     "output_type": "stream",
     "text": [
      "[11:44:08] WARNING: not removing hydrogen atom without neighbors\n",
      "[11:44:08] WARNING: not removing hydrogen atom without neighbors\n"
     ]
    },
    {
     "name": "stdout",
     "output_type": "stream",
     "text": [
      "\n",
      "Done intializing pickaxe object\n",
      "----------------------------------------\n",
      "\n",
      "1 compounds loaded...\n",
      "(1 after removing stereochemistry)\n",
      "1 target compounds loaded\n",
      "\n",
      "----------------------------------------\n",
      "Expanding Generation 1\n",
      "\n",
      "Generation 1: 0 percent complete\n",
      "Generation 1 finished in 2.6730198860168457 s and contains:\n",
      "\t\t89 new compounds\n",
      "\t\t99 new reactions\n",
      "\n",
      "Done expanding Generation: 1.\n",
      "----------------------------------------\n",
      "\n",
      "\n",
      "No pathways found in 1 step/s from CC=C(O)C(=O)O to C=CC(=O)O\n",
      "\n",
      "Moving onto product from next best PKS design\n",
      "\n",
      "------\n",
      "PKS design 3: [[\"AT{'substrate': 'Acetyl-CoA'}\", 'loading: True'], [\"AT{'substrate': 'hmal'}\", \"KR{'type': 'B1'}\", 'DH{}', 'loading: False']]\n",
      "\n",
      "PKS product from this PKS design is CC=C(O)C(=O)O with a similarity score of 0.17647058823529413 to the target molecule C=CC(=O)O)\n",
      "\n",
      "Starting pickaxe expansion on CC=C(O)C(=O)O\n",
      "\n",
      "----------------------------------------\n",
      "Intializing pickaxe object\n"
     ]
    },
    {
     "name": "stderr",
     "output_type": "stream",
     "text": [
      "[11:44:15] WARNING: not removing hydrogen atom without neighbors\n",
      "[11:44:15] WARNING: not removing hydrogen atom without neighbors\n"
     ]
    },
    {
     "name": "stdout",
     "output_type": "stream",
     "text": [
      "\n",
      "Done intializing pickaxe object\n",
      "----------------------------------------\n",
      "\n",
      "1 compounds loaded...\n",
      "(1 after removing stereochemistry)\n",
      "1 target compounds loaded\n",
      "\n",
      "----------------------------------------\n",
      "Expanding Generation 1\n",
      "\n",
      "Generation 1: 0 percent complete\n",
      "Generation 1 finished in 2.980884075164795 s and contains:\n",
      "\t\t89 new compounds\n",
      "\t\t99 new reactions\n",
      "\n",
      "Done expanding Generation: 1.\n",
      "----------------------------------------\n",
      "\n",
      "\n",
      "No pathways found in 1 step/s from CC=C(O)C(=O)O to C=CC(=O)O\n",
      "\n",
      "Moving onto product from next best PKS design\n",
      "\n",
      "------\n",
      "PKS design 4: [[\"AT{'substrate': 'prop'}\", 'loading: True'], [\"AT{'substrate': 'hmal'}\", \"KR{'type': 'B1'}\", 'DH{}', 'loading: False']]\n",
      "\n",
      "PKS product from this PKS design is CCC=C(O)C(=O)O with a similarity score of 0.13636363636363635 to the target molecule C=CC(=O)O)\n",
      "\n",
      "Starting pickaxe expansion on CCC=C(O)C(=O)O\n",
      "\n",
      "----------------------------------------\n",
      "Intializing pickaxe object\n"
     ]
    },
    {
     "name": "stderr",
     "output_type": "stream",
     "text": [
      "[11:44:22] WARNING: not removing hydrogen atom without neighbors\n",
      "[11:44:22] WARNING: not removing hydrogen atom without neighbors\n"
     ]
    },
    {
     "name": "stdout",
     "output_type": "stream",
     "text": [
      "\n",
      "Done intializing pickaxe object\n",
      "----------------------------------------\n",
      "\n",
      "1 compounds loaded...\n",
      "(1 after removing stereochemistry)\n",
      "1 target compounds loaded\n",
      "\n",
      "----------------------------------------\n",
      "Expanding Generation 1\n",
      "\n",
      "Generation 1: 0 percent complete\n",
      "Generation 1 finished in 4.592050075531006 s and contains:\n",
      "\t\t111 new compounds\n",
      "\t\t121 new reactions\n",
      "\n",
      "Done expanding Generation: 1.\n",
      "----------------------------------------\n",
      "\n",
      "\n",
      "No pathways found in 1 step/s from CCC=C(O)C(=O)O to C=CC(=O)O\n",
      "\n",
      "Moving onto product from next best PKS design\n",
      "\n",
      "------\n",
      "PKS design 5: [[\"AT{'substrate': 'butmal'}\", 'loading: True'], [\"AT{'substrate': 'hmal'}\", \"KR{'type': 'B1'}\", 'DH{}', 'loading: False']]\n",
      "\n",
      "PKS product from this PKS design is CCCC=C(O)C(=O)O with a similarity score of 0.10714285714285714 to the target molecule C=CC(=O)O)\n",
      "\n",
      "Starting pickaxe expansion on CCCC=C(O)C(=O)O\n",
      "\n",
      "----------------------------------------\n",
      "Intializing pickaxe object\n"
     ]
    },
    {
     "name": "stderr",
     "output_type": "stream",
     "text": [
      "[11:44:35] WARNING: not removing hydrogen atom without neighbors\n",
      "[11:44:35] WARNING: not removing hydrogen atom without neighbors\n"
     ]
    },
    {
     "name": "stdout",
     "output_type": "stream",
     "text": [
      "\n",
      "Done intializing pickaxe object\n",
      "----------------------------------------\n",
      "\n",
      "1 compounds loaded...\n",
      "(1 after removing stereochemistry)\n",
      "1 target compounds loaded\n",
      "\n",
      "----------------------------------------\n",
      "Expanding Generation 1\n",
      "\n",
      "Generation 1: 0 percent complete\n",
      "Generation 1 finished in 3.6601550579071045 s and contains:\n",
      "\t\t137 new compounds\n",
      "\t\t147 new reactions\n",
      "\n",
      "Done expanding Generation: 1.\n",
      "----------------------------------------\n",
      "\n",
      "\n",
      "No pathways found in 1 step/s from CCCC=C(O)C(=O)O to C=CC(=O)O\n",
      "\n",
      "Moving onto product from next best PKS design\n",
      "\n",
      "------\n",
      "PKS design 6: [[\"AT{'substrate': 'mxmal'}\", 'loading: True'], [\"AT{'substrate': 'hmal'}\", \"KR{'type': 'B1'}\", 'DH{}', 'loading: False']]\n",
      "\n",
      "PKS product from this PKS design is COCC=C(O)C(=O)O with a similarity score of 0.10714285714285714 to the target molecule C=CC(=O)O)\n",
      "\n",
      "Starting pickaxe expansion on COCC=C(O)C(=O)O\n",
      "\n",
      "----------------------------------------\n",
      "Intializing pickaxe object\n"
     ]
    },
    {
     "name": "stderr",
     "output_type": "stream",
     "text": [
      "[11:44:44] WARNING: not removing hydrogen atom without neighbors\n",
      "[11:44:44] WARNING: not removing hydrogen atom without neighbors\n"
     ]
    },
    {
     "name": "stdout",
     "output_type": "stream",
     "text": [
      "\n",
      "Done intializing pickaxe object\n",
      "----------------------------------------\n",
      "\n",
      "1 compounds loaded...\n",
      "(1 after removing stereochemistry)\n",
      "1 target compounds loaded\n",
      "\n",
      "----------------------------------------\n",
      "Expanding Generation 1\n",
      "\n",
      "Generation 1: 0 percent complete\n",
      "Generation 1 finished in 3.6118781566619873 s and contains:\n",
      "\t\t109 new compounds\n",
      "\t\t118 new reactions\n",
      "\n",
      "Done expanding Generation: 1.\n",
      "----------------------------------------\n",
      "\n",
      "\n",
      "No pathways found in 1 step/s from COCC=C(O)C(=O)O to C=CC(=O)O\n",
      "\n",
      "Moving onto product from next best PKS design\n"
     ]
    }
   ],
   "source": [
    "non_pks_pathways = biosynth_pipeline_object.run_non_pks_synthesis_post_pks(max_designs=5)"
   ]
  },
  {
   "cell_type": "markdown",
   "id": "96200f6f",
   "metadata": {},
   "source": [
    "#### Adipic acid "
   ]
  },
  {
   "cell_type": "code",
   "execution_count": 16,
   "id": "3b5521d9",
   "metadata": {},
   "outputs": [],
   "source": [
    "# create an instance of the biosynth_pipeline class\n",
    "pathway_sequence = ['pks', 'non_pks']  # do retrotide first then pickaxe\n",
    "target_smiles = 'O=C(O)CCCCC(=O)O' \n",
    "\n",
    "non_pks_steps = 1\n",
    "\n",
    "biosynth_pipeline_object = biosynth_pipeline(pathway_sequence=pathway_sequence,\n",
    "                                             target_smiles=target_smiles,\n",
    "                                             feasibility_classifier = PX,\n",
    "                                             non_pks_steps=non_pks_steps)"
   ]
  },
  {
   "cell_type": "code",
   "execution_count": 17,
   "id": "67396b22",
   "metadata": {},
   "outputs": [
    {
     "name": "stdout",
     "output_type": "stream",
     "text": [
      "\n",
      "Starting PKS retrobiosynthesis with retrotide\n",
      "---------------------------------------------\n",
      "computing module 1\n",
      "   testing 1404 designs\n",
      "   best score is 0.27586206896551724\n",
      "computing module 2\n",
      "   testing 1350 designs\n",
      "   best score is 0.36\n",
      "computing module 3\n",
      "   testing 1350 designs\n",
      "   best score is 0.32142857142857145\n",
      "\n",
      "Best PKS design: [[\"AT{'substrate': 'trans-1,2-CPDA'}\", 'loading: True'], [\"AT{'substrate': 'Malonyl-CoA'}\", \"KR{'type': 'B'}\", 'DH{}', 'ER{}', 'loading: False'], [\"AT{'substrate': 'Malonyl-CoA'}\", 'loading: False']]\n",
      "\n",
      "Closest final product is: O=C(O)CC(=O)CC[C@@H]1CCC[C@H]1C(=O)O\n",
      "\n",
      "Finished PKS synthesis - closest product to the target using the top PKS design of [[\"AT{'substrate': 'trans-1,2-CPDA'}\", 'loading: True'], [\"AT{'substrate': 'Malonyl-CoA'}\", \"KR{'type': 'B'}\", 'DH{}', 'ER{}', 'loading: False'], [\"AT{'substrate': 'Malonyl-CoA'}\", 'loading: False']] is O=C(O)CC(=O)CC[C@@H]1CCC[C@H]1C(=O)O. Moving onto non-PKS synthesis...\n"
     ]
    }
   ],
   "source": [
    "biosynth_pipeline_object.run_pks_synthesis(pks_release_mechanism='thiolysis')"
   ]
  },
  {
   "cell_type": "code",
   "execution_count": 18,
   "id": "31351ebc",
   "metadata": {},
   "outputs": [
    {
     "name": "stdout",
     "output_type": "stream",
     "text": [
      "\n",
      "Starting pickaxe expansion on O=C(O)CC(=O)CC[C@@H]1CCC[C@H]1C(=O)O\n",
      "\n",
      "----------------------------------------\n",
      "Intializing pickaxe object\n"
     ]
    },
    {
     "name": "stderr",
     "output_type": "stream",
     "text": [
      "[11:45:44] WARNING: not removing hydrogen atom without neighbors\n",
      "[11:45:44] WARNING: not removing hydrogen atom without neighbors\n"
     ]
    },
    {
     "name": "stdout",
     "output_type": "stream",
     "text": [
      "\n",
      "Done intializing pickaxe object\n",
      "----------------------------------------\n",
      "\n",
      "1 compounds loaded...\n",
      "(1 after removing stereochemistry)\n",
      "1 target compounds loaded\n",
      "\n",
      "----------------------------------------\n",
      "Expanding Generation 1\n",
      "\n",
      "Generation 1: 0 percent complete\n",
      "Generation 1 finished in 4.858274698257446 s and contains:\n",
      "\t\t331 new compounds\n",
      "\t\t348 new reactions\n",
      "\n",
      "Done expanding Generation: 1.\n",
      "----------------------------------------\n",
      "\n",
      "\n",
      "No pathways to target are found using non-PKS enzymes for 1 step/s and the top PKS module design\n",
      "\n",
      "Attempting non-PKS enzymes for 1 step/s on PKS product from the next 5 best PKS designs. Note you can also try increasing the number of non-PKS enzymatic steps\n",
      "\n",
      "------\n",
      "PKS design 2: [[\"AT{'substrate': 'trans-1,2-CPDA'}\", 'loading: True'], [\"AT{'substrate': 'Malonyl-CoA'}\", 'loading: False'], [\"AT{'substrate': 'Malonyl-CoA'}\", 'loading: False']]\n",
      "\n",
      "PKS product from this PKS design is O=C(O)CC(=O)CC(=O)[C@@H]1CCC[C@H]1C(=O)O with a similarity score of 0.30434782608695654 to the target molecule O=C(O)CCCCC(=O)O)\n",
      "\n",
      "Starting pickaxe expansion on O=C(O)CC(=O)CC(=O)[C@@H]1CCC[C@H]1C(=O)O\n",
      "\n",
      "----------------------------------------\n",
      "Intializing pickaxe object\n"
     ]
    },
    {
     "name": "stderr",
     "output_type": "stream",
     "text": [
      "[11:45:53] WARNING: not removing hydrogen atom without neighbors\n",
      "[11:45:53] WARNING: not removing hydrogen atom without neighbors\n"
     ]
    },
    {
     "name": "stdout",
     "output_type": "stream",
     "text": [
      "\n",
      "Done intializing pickaxe object\n",
      "----------------------------------------\n",
      "\n",
      "1 compounds loaded...\n",
      "(1 after removing stereochemistry)\n",
      "1 target compounds loaded\n",
      "\n",
      "----------------------------------------\n",
      "Expanding Generation 1\n",
      "\n",
      "Generation 1: 0 percent complete\n",
      "Generation 1 finished in 12.844379186630249 s and contains:\n",
      "\t\t379 new compounds\n",
      "\t\t398 new reactions\n",
      "\n",
      "Done expanding Generation: 1.\n",
      "----------------------------------------\n",
      "\n",
      "\n",
      "No pathways found in 1 step/s from O=C(O)CC(=O)CC(=O)[C@@H]1CCC[C@H]1C(=O)O to O=C(O)CCCCC(=O)O\n",
      "\n",
      "Moving onto product from next best PKS design\n",
      "\n",
      "------\n",
      "PKS design 3: [[\"AT{'substrate': 'trans-1,2-CPDA'}\", 'loading: True'], [\"AT{'substrate': 'Malonyl-CoA'}\", \"KR{'type': 'B'}\", 'DH{}', 'ER{}', 'loading: False'], [\"AT{'substrate': 'hmal'}\", 'loading: False']]\n",
      "\n",
      "PKS product from this PKS design is O=C(O)C(O)C(=O)CC[C@@H]1CCC[C@H]1C(=O)O with a similarity score of 0.30434782608695654 to the target molecule O=C(O)CCCCC(=O)O)\n",
      "\n",
      "Starting pickaxe expansion on O=C(O)C(O)C(=O)CC[C@@H]1CCC[C@H]1C(=O)O\n",
      "\n",
      "----------------------------------------\n",
      "Intializing pickaxe object\n"
     ]
    },
    {
     "name": "stderr",
     "output_type": "stream",
     "text": [
      "[11:46:13] WARNING: not removing hydrogen atom without neighbors\n",
      "[11:46:13] WARNING: not removing hydrogen atom without neighbors\n"
     ]
    },
    {
     "name": "stdout",
     "output_type": "stream",
     "text": [
      "\n",
      "Done intializing pickaxe object\n",
      "----------------------------------------\n",
      "\n",
      "1 compounds loaded...\n",
      "(1 after removing stereochemistry)\n",
      "1 target compounds loaded\n",
      "\n",
      "----------------------------------------\n",
      "Expanding Generation 1\n",
      "\n",
      "Generation 1: 0 percent complete\n",
      "Generation 1 finished in 7.246089935302734 s and contains:\n",
      "\t\t398 new compounds\n",
      "\t\t425 new reactions\n",
      "\n",
      "Done expanding Generation: 1.\n",
      "----------------------------------------\n",
      "\n",
      "\n",
      "No pathways found in 1 step/s from O=C(O)C(O)C(=O)CC[C@@H]1CCC[C@H]1C(=O)O to O=C(O)CCCCC(=O)O\n",
      "\n",
      "Moving onto product from next best PKS design\n",
      "\n",
      "------\n",
      "PKS design 4: [[\"AT{'substrate': 'trans-1,2-CPDA'}\", 'loading: True'], [\"AT{'substrate': 'Malonyl-CoA'}\", \"KR{'type': 'B'}\", 'DH{}', 'ER{}', 'loading: False'], [\"AT{'substrate': 'hmal'}\", \"KR{'type': 'C1'}\", 'loading: False']]\n",
      "\n",
      "PKS product from this PKS design is O=C(O)[C@H](O)C(=O)CC[C@@H]1CCC[C@H]1C(=O)O with a similarity score of 0.30434782608695654 to the target molecule O=C(O)CCCCC(=O)O)\n",
      "\n",
      "Starting pickaxe expansion on O=C(O)[C@H](O)C(=O)CC[C@@H]1CCC[C@H]1C(=O)O\n",
      "\n",
      "----------------------------------------\n",
      "Intializing pickaxe object\n"
     ]
    },
    {
     "name": "stderr",
     "output_type": "stream",
     "text": [
      "[11:46:24] WARNING: not removing hydrogen atom without neighbors\n",
      "[11:46:24] WARNING: not removing hydrogen atom without neighbors\n"
     ]
    },
    {
     "name": "stdout",
     "output_type": "stream",
     "text": [
      "\n",
      "Done intializing pickaxe object\n",
      "----------------------------------------\n",
      "\n",
      "1 compounds loaded...\n",
      "(1 after removing stereochemistry)\n",
      "1 target compounds loaded\n",
      "\n",
      "----------------------------------------\n",
      "Expanding Generation 1\n",
      "\n",
      "Generation 1: 0 percent complete\n",
      "Generation 1 finished in 5.912757158279419 s and contains:\n",
      "\t\t398 new compounds\n",
      "\t\t425 new reactions\n",
      "\n",
      "Done expanding Generation: 1.\n",
      "----------------------------------------\n",
      "\n",
      "\n",
      "No pathways found in 1 step/s from O=C(O)[C@H](O)C(=O)CC[C@@H]1CCC[C@H]1C(=O)O to O=C(O)CCCCC(=O)O\n",
      "\n",
      "Moving onto product from next best PKS design\n",
      "\n",
      "------\n",
      "PKS design 5: [[\"AT{'substrate': 'trans-1,2-CPDA'}\", 'loading: True'], [\"AT{'substrate': 'Malonyl-CoA'}\", \"KR{'type': 'B'}\", 'loading: False'], [\"AT{'substrate': 'Malonyl-CoA'}\", 'loading: False']]\n",
      "\n",
      "PKS product from this PKS design is O=C(O)CC(=O)C[C@H](O)[C@@H]1CCC[C@H]1C(=O)O with a similarity score of 0.30434782608695654 to the target molecule O=C(O)CCCCC(=O)O)\n",
      "\n",
      "Starting pickaxe expansion on O=C(O)CC(=O)C[C@H](O)[C@@H]1CCC[C@H]1C(=O)O\n",
      "\n",
      "----------------------------------------\n",
      "Intializing pickaxe object\n"
     ]
    },
    {
     "name": "stderr",
     "output_type": "stream",
     "text": [
      "[11:46:36] WARNING: not removing hydrogen atom without neighbors\n",
      "[11:46:36] WARNING: not removing hydrogen atom without neighbors\n"
     ]
    },
    {
     "name": "stdout",
     "output_type": "stream",
     "text": [
      "\n",
      "Done intializing pickaxe object\n",
      "----------------------------------------\n",
      "\n",
      "1 compounds loaded...\n",
      "(1 after removing stereochemistry)\n",
      "1 target compounds loaded\n",
      "\n",
      "----------------------------------------\n",
      "Expanding Generation 1\n",
      "\n",
      "Generation 1: 0 percent complete\n",
      "Generation 1 finished in 5.537227153778076 s and contains:\n",
      "\t\t396 new compounds\n",
      "\t\t420 new reactions\n",
      "\n",
      "Done expanding Generation: 1.\n",
      "----------------------------------------\n",
      "\n",
      "\n",
      "No pathways found in 1 step/s from O=C(O)CC(=O)C[C@H](O)[C@@H]1CCC[C@H]1C(=O)O to O=C(O)CCCCC(=O)O\n",
      "\n",
      "Moving onto product from next best PKS design\n",
      "\n",
      "------\n",
      "PKS design 6: [[\"AT{'substrate': 'trans-1,2-CPDA'}\", 'loading: True'], [\"AT{'substrate': 'Malonyl-CoA'}\", \"KR{'type': 'B'}\", 'DH{}', 'ER{}', 'loading: False'], [\"AT{'substrate': 'Methylmalonyl-CoA'}\", \"KR{'type': 'C1'}\", 'loading: False']]\n",
      "\n",
      "PKS product from this PKS design is C[C@@H](C(=O)O)C(=O)CC[C@@H]1CCC[C@H]1C(=O)O with a similarity score of 0.29310344827586204 to the target molecule O=C(O)CCCCC(=O)O)\n",
      "\n",
      "Starting pickaxe expansion on C[C@@H](C(=O)O)C(=O)CC[C@@H]1CCC[C@H]1C(=O)O\n",
      "\n",
      "----------------------------------------\n",
      "Intializing pickaxe object\n"
     ]
    },
    {
     "name": "stderr",
     "output_type": "stream",
     "text": [
      "[11:46:47] WARNING: not removing hydrogen atom without neighbors\n",
      "[11:46:47] WARNING: not removing hydrogen atom without neighbors\n"
     ]
    },
    {
     "name": "stdout",
     "output_type": "stream",
     "text": [
      "\n",
      "Done intializing pickaxe object\n",
      "----------------------------------------\n",
      "\n",
      "1 compounds loaded...\n",
      "(1 after removing stereochemistry)\n",
      "1 target compounds loaded\n",
      "\n",
      "----------------------------------------\n",
      "Expanding Generation 1\n",
      "\n",
      "Generation 1: 0 percent complete\n",
      "Generation 1 finished in 10.123380899429321 s and contains:\n",
      "\t\t389 new compounds\n",
      "\t\t408 new reactions\n",
      "\n",
      "Done expanding Generation: 1.\n",
      "----------------------------------------\n",
      "\n",
      "\n",
      "No pathways found in 1 step/s from C[C@@H](C(=O)O)C(=O)CC[C@@H]1CCC[C@H]1C(=O)O to O=C(O)CCCCC(=O)O\n",
      "\n",
      "Moving onto product from next best PKS design\n"
     ]
    }
   ],
   "source": [
    "non_pks_pathways = biosynth_pipeline_object.run_non_pks_synthesis_post_pks(max_designs=5)"
   ]
  },
  {
   "cell_type": "markdown",
   "id": "ef36863a",
   "metadata": {},
   "source": [
    "####     Maleic acid\n"
   ]
  },
  {
   "cell_type": "code",
   "execution_count": 19,
   "id": "c132af61",
   "metadata": {},
   "outputs": [],
   "source": [
    "# create an instance of the biosynth_pipeline class\n",
    "pathway_sequence = ['pks', 'non_pks']  # do retrotide first then pickaxe\n",
    "target_smiles = 'O=C(O)\\C=C/C(=O)OO' \n",
    "\n",
    "non_pks_steps = 1\n",
    "\n",
    "biosynth_pipeline_object = biosynth_pipeline(pathway_sequence=pathway_sequence,\n",
    "                                             target_smiles=target_smiles,\n",
    "                                             feasibility_classifier = PX,\n",
    "                                             non_pks_steps=non_pks_steps)"
   ]
  },
  {
   "cell_type": "code",
   "execution_count": 20,
   "id": "138e9fa4",
   "metadata": {},
   "outputs": [
    {
     "name": "stdout",
     "output_type": "stream",
     "text": [
      "\n",
      "Starting PKS retrobiosynthesis with retrotide\n",
      "---------------------------------------------\n",
      "computing module 1\n",
      "   testing 1404 designs\n",
      "   best score is 0.208955223880597\n",
      "computing module 2\n",
      "   testing 1350 designs\n",
      "   best score is 0.1875\n",
      "\n",
      "Best PKS design: [[\"AT{'substrate': 'cyclopentene'}\", 'loading: True'], [\"AT{'substrate': 'hmal'}\", \"KR{'type': 'B1'}\", 'DH{}', 'loading: False']]\n",
      "\n",
      "Closest final product is: O=C(O)C(O)=CC1=CCCC1=O\n",
      "\n",
      "Finished PKS synthesis - closest product to the target using the top PKS design of [[\"AT{'substrate': 'cyclopentene'}\", 'loading: True'], [\"AT{'substrate': 'hmal'}\", \"KR{'type': 'B1'}\", 'DH{}', 'loading: False']] is O=C(O)C(O)=CC1=CCCC1=O. Moving onto non-PKS synthesis...\n"
     ]
    }
   ],
   "source": [
    "biosynth_pipeline_object.run_pks_synthesis(pks_release_mechanism='thiolysis')"
   ]
  },
  {
   "cell_type": "code",
   "execution_count": 21,
   "id": "9d7a8974",
   "metadata": {},
   "outputs": [
    {
     "name": "stdout",
     "output_type": "stream",
     "text": [
      "\n",
      "Starting pickaxe expansion on O=C(O)C(O)=CC1=CCCC1=O\n",
      "\n"
     ]
    },
    {
     "ename": "FileNotFoundError",
     "evalue": "[Errno 2] No such file or directory: '../data/coreactants_and_rules/O=C(O)/C=C\\\\C(=O)OO.tsv'",
     "output_type": "error",
     "traceback": [
      "\u001b[0;31m---------------------------------------------------------------------------\u001b[0m",
      "\u001b[0;31mFileNotFoundError\u001b[0m                         Traceback (most recent call last)",
      "Cell \u001b[0;32mIn[21], line 1\u001b[0m\n\u001b[0;32m----> 1\u001b[0m non_pks_pathways \u001b[38;5;241m=\u001b[39m \u001b[43mbiosynth_pipeline_object\u001b[49m\u001b[38;5;241;43m.\u001b[39;49m\u001b[43mrun_non_pks_synthesis_post_pks\u001b[49m\u001b[43m(\u001b[49m\u001b[43mmax_designs\u001b[49m\u001b[38;5;241;43m=\u001b[39;49m\u001b[38;5;241;43m5\u001b[39;49m\u001b[43m)\u001b[49m\n",
      "File \u001b[0;32m~/PycharmProjects/retrobiosynthesisPipeline/notebooks/../biosynth_pipeline/biosynth_pipeline.py:469\u001b[0m, in \u001b[0;36mrun_non_pks_synthesis_post_pks\u001b[0;34m(self, max_designs)\u001b[0m\n\u001b[1;32m    467\u001b[0m \"\"\"\n\u001b[1;32m    468\u001b[0m \n\u001b[0;32m--> 469\u001b[0m non_pks_pathways = self.run_non_pks_synthesis(precursor_smiles = self.pks_top_final_product)\n\u001b[1;32m    470\u001b[0m \n\u001b[1;32m    471\u001b[0m if non_pks_pathways:\n",
      "File \u001b[0;32m~/PycharmProjects/retrobiosynthesisPipeline/notebooks/../biosynth_pipeline/biosynth_pipeline.py:367\u001b[0m, in \u001b[0;36mrun_non_pks_synthesis\u001b[0;34m(self, precursor_smiles)\u001b[0m\n\u001b[1;32m    365\u001b[0m \n\u001b[1;32m    366\u001b[0m         # write target compound (expected Pickaxe product) to a tsv file\n\u001b[0;32m--> 367\u001b[0m         target_filepath = pickaxe_utils.write_cpds_to_tsv(cpd_name = self.target_smiles,\n\u001b[1;32m    368\u001b[0m                                                           cpd_smi = self.target_smiles)\n\u001b[1;32m    369\u001b[0m \n",
      "File \u001b[0;32m~/PycharmProjects/retrobiosynthesisPipeline/notebooks/../pickaxe_utils/pickaxe_utils.py:64\u001b[0m, in \u001b[0;36mwrite_cpds_to_tsv\u001b[0;34m(cpd_name, cpd_smi)\u001b[0m\n\u001b[1;32m     55\u001b[0m \u001b[38;5;250m\u001b[39m\u001b[38;5;124;03m\"\"\"\u001b[39;00m\n\u001b[1;32m     56\u001b[0m \u001b[38;5;124;03mWrite a compound name and SMILES to a .tsv extension file for use in Pickaxe\u001b[39;00m\n\u001b[1;32m     57\u001b[0m \u001b[38;5;124;03m:param cpd_name: compound name\u001b[39;00m\n\u001b[1;32m     58\u001b[0m \u001b[38;5;124;03m:param cpd_smi: compound SMILES (does not need to be canonicalized)\u001b[39;00m\n\u001b[1;32m     59\u001b[0m \u001b[38;5;124;03m:return: filepath of this compound\u001b[39;00m\n\u001b[1;32m     60\u001b[0m \u001b[38;5;124;03m\"\"\"\u001b[39;00m\n\u001b[1;32m     62\u001b[0m cpd_filepath \u001b[38;5;241m=\u001b[39m \u001b[38;5;124m\"\u001b[39m\u001b[38;5;124m../data/coreactants_and_rules/\u001b[39m\u001b[38;5;124m\"\u001b[39m \u001b[38;5;241m+\u001b[39m cpd_name \u001b[38;5;241m+\u001b[39m \u001b[38;5;124m\"\u001b[39m\u001b[38;5;124m.tsv\u001b[39m\u001b[38;5;124m\"\u001b[39m\n\u001b[0;32m---> 64\u001b[0m \u001b[38;5;28;01mwith\u001b[39;00m \u001b[38;5;28;43mopen\u001b[39;49m\u001b[43m(\u001b[49m\u001b[43mcpd_filepath\u001b[49m\u001b[43m,\u001b[49m\u001b[43m \u001b[49m\u001b[38;5;124;43m\"\u001b[39;49m\u001b[38;5;124;43mwt\u001b[39;49m\u001b[38;5;124;43m\"\u001b[39;49m\u001b[43m,\u001b[49m\u001b[43m \u001b[49m\u001b[43mencoding\u001b[49m\u001b[38;5;241;43m=\u001b[39;49m\u001b[38;5;124;43m\"\u001b[39;49m\u001b[38;5;124;43mutf-8\u001b[39;49m\u001b[38;5;124;43m\"\u001b[39;49m\u001b[43m)\u001b[49m \u001b[38;5;28;01mas\u001b[39;00m out_file:\n\u001b[1;32m     65\u001b[0m     tsv_writer \u001b[38;5;241m=\u001b[39m csv\u001b[38;5;241m.\u001b[39mwriter(out_file, delimiter\u001b[38;5;241m=\u001b[39m\u001b[38;5;124m\"\u001b[39m\u001b[38;5;130;01m\\t\u001b[39;00m\u001b[38;5;124m\"\u001b[39m)\n\u001b[1;32m     66\u001b[0m     tsv_writer\u001b[38;5;241m.\u001b[39mwriterow([\u001b[38;5;124m\"\u001b[39m\u001b[38;5;124mid\u001b[39m\u001b[38;5;124m\"\u001b[39m, \u001b[38;5;124m\"\u001b[39m\u001b[38;5;124msmiles\u001b[39m\u001b[38;5;124m\"\u001b[39m])\n",
      "\u001b[0;31mFileNotFoundError\u001b[0m: [Errno 2] No such file or directory: '../data/coreactants_and_rules/O=C(O)/C=C\\\\C(=O)OO.tsv'"
     ]
    }
   ],
   "source": [
    "non_pks_pathways = biosynth_pipeline_object.run_non_pks_synthesis_post_pks(max_designs=5)"
   ]
  },
  {
   "cell_type": "code",
   "execution_count": null,
   "id": "95702f48",
   "metadata": {},
   "outputs": [],
   "source": []
  }
 ],
 "metadata": {
  "kernelspec": {
   "display_name": "equilibrator_env",
   "language": "python",
   "name": "equilibrator_env"
  },
  "language_info": {
   "codemirror_mode": {
    "name": "ipython",
    "version": 3
   },
   "file_extension": ".py",
   "mimetype": "text/x-python",
   "name": "python",
   "nbconvert_exporter": "python",
   "pygments_lexer": "ipython3",
   "version": "3.9.17"
  }
 },
 "nbformat": 4,
 "nbformat_minor": 5
}
