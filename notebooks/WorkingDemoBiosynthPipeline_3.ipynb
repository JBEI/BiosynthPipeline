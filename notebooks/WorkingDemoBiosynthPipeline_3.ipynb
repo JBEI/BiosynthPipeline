{
 "cells": [
  {
   "cell_type": "markdown",
   "id": "39b405a6-8ac2-4ef7-88b1-6df3afb44b34",
   "metadata": {},
   "source": [
    "# Biosynthesis Pipeline Demo 3"
   ]
  },
  {
   "cell_type": "markdown",
   "id": "9b850f43-1e6c-4b2d-9205-245ed79dea1c",
   "metadata": {},
   "source": [
    "#### Biosynthesis of 2-pentanone starting with PKS and 1 step of non-PKS modifications"
   ]
  },
  {
   "cell_type": "markdown",
   "id": "3c42ddb8-6d6f-4480-abc3-c2af33d76b31",
   "metadata": {},
   "source": [
    "Authors: Tyler Backman and Yash Chainani"
   ]
  },
  {
   "cell_type": "markdown",
   "id": "8f132dd5-5621-4dff-8d7d-430fd4bdf343",
   "metadata": {},
   "source": [
    "In the previous demo, we were not able to get feasible pathways to propionic acid using a combination of PKSs and non-PKSs for a non-PKS pathway comprising just one reaction. Here, we will try to synthesize 2-pentanone"
   ]
  },
  {
   "cell_type": "markdown",
   "id": "8db5d0cf-db09-4e32-a51e-0ebe6d860e7b",
   "metadata": {},
   "source": [
    "### Import key dependencies"
   ]
  },
  {
   "cell_type": "code",
   "execution_count": 1,
   "id": "f824dacf-0983-4108-b85e-227cc80db169",
   "metadata": {},
   "outputs": [],
   "source": [
    "import json\n",
    "import pandas as pd\n",
    "from biosynth_pipeline import biosynth_pipeline\n",
    "from retrotide import structureDB, designPKS\n",
    "from rdkit import Chem"
   ]
  },
  {
   "cell_type": "code",
   "execution_count": 2,
   "id": "d76cae58-45fb-4b51-aa3b-5232c81242be",
   "metadata": {},
   "outputs": [],
   "source": [
    "### initialize the feasibility classifier to plug into biosynth_pipeline object later\n",
    "feasibility_model_path = '../models/updated_model_Apr28' # can pick the '.pkl' or '.dat' file too\n",
    "calibration_model_path = '../models/updated_model_Apr28_calibration'\n",
    "cofactors_path = '../data/coreactants_and_rules/all_cofactors_updated.csv'\n",
    "fp_type = 'ecfp4'\n",
    "nBits = 2048\n",
    "max_species = 4\n",
    "cofactor_positioning = 'by_descending_MW'\n",
    "\n",
    "PX = biosynth_pipeline.feasibility_classifier(feasibility_model_path = feasibility_model_path,\n",
    "                                                   calibration_model_path = calibration_model_path,\n",
    "                                                   cofactors_path = cofactors_path,\n",
    "                                                   fp_type = fp_type,\n",
    "                                                   nBits = nBits,\n",
    "                                                   max_species = max_species,\n",
    "                                                   cofactor_positioning = cofactor_positioning)"
   ]
  },
  {
   "cell_type": "markdown",
   "id": "4b89e256-be46-4fc7-9bea-855aea60d705",
   "metadata": {},
   "source": [
    "### Combined 2-pentanone biosynthesis example via a 1 step non-PKS enzymatic reaction"
   ]
  },
  {
   "cell_type": "code",
   "execution_count": 14,
   "id": "9be0ac20-de12-48bb-a222-ac55e9e4673e",
   "metadata": {},
   "outputs": [],
   "source": [
    "# create an instance of the biosynth_pipeline class\n",
    "pathway_sequence = ['pks', 'non_pks']  # run retrotide first then pickaxe\n",
    "target_smiles = 'CC(CCC)=O' # 2-pentanone\n",
    "\n",
    "non_pks_steps = 1\n",
    "\n",
    "biosynth_pipeline_object = biosynth_pipeline.biosynth_pipeline(pathway_sequence=pathway_sequence,\n",
    "                                             target_smiles=target_smiles,\n",
    "                                             feasibility_classifier = PX,\n",
    "                                             non_pks_steps=non_pks_steps)"
   ]
  },
  {
   "cell_type": "code",
   "execution_count": 15,
   "id": "226c9dd6-e658-4377-b67a-06c27c352842",
   "metadata": {},
   "outputs": [
    {
     "name": "stdout",
     "output_type": "stream",
     "text": [
      "\n",
      "Starting PKS retrobiosynthesis with retrotide\n",
      "---------------------------------------------\n",
      "computing module 1\n",
      "   testing 1404 designs\n",
      "   best score is 0.44\n",
      "computing module 2\n",
      "   testing 1350 designs\n",
      "   best score is 0.5\n",
      "computing module 3\n",
      "   testing 1350 designs\n",
      "   best score is 0.3076923076923077\n",
      "\n",
      "Best PKS design: [[\"AT{'substrate': 'Methylmalonyl-CoA'}\", 'loading: True'], [\"AT{'substrate': 'Malonyl-CoA'}\", 'loading: False'], [\"AT{'substrate': 'Malonyl-CoA'}\", \"KR{'type': 'B'}\", 'DH{}', 'ER{}', 'loading: False']]\n",
      "\n",
      "Closest final product is: CC(=O)CCCC(=O)O\n",
      "\n",
      "Finished PKS synthesis - closest product to the target using the top PKS design of [[\"AT{'substrate': 'Methylmalonyl-CoA'}\", 'loading: True'], [\"AT{'substrate': 'Malonyl-CoA'}\", 'loading: False'], [\"AT{'substrate': 'Malonyl-CoA'}\", \"KR{'type': 'B'}\", 'DH{}', 'ER{}', 'loading: False']] is CC(=O)CCCC(=O)O. Moving onto non-PKS synthesis...\n"
     ]
    }
   ],
   "source": [
    "biosynth_pipeline_object.run_pks_synthesis(pks_release_mechanism='thiolysis')"
   ]
  },
  {
   "cell_type": "code",
   "execution_count": 17,
   "id": "20bb67c5-e5c8-4ab2-aeea-e177c6080110",
   "metadata": {},
   "outputs": [
    {
     "data": {
      "image/png": "[encoded data removed]",
      "text/plain": [
       "<rdkit.Chem.rdchem.Mol at 0x7fb3b9e4ac80>"
      ]
     },
     "execution_count": 17,
     "metadata": {},
     "output_type": "execute_result"
    }
   ],
   "source": [
    "Chem.MolFromSmiles('CC(CCC)=O')"
   ]
  },
  {
   "cell_type": "code",
   "execution_count": 18,
   "id": "e15c015c-51ed-463f-8084-cce111975e10",
   "metadata": {},
   "outputs": [
    {
     "data": {
      "image/png": "[encoded data removed]",
      "text/plain": [
       "<rdkit.Chem.rdchem.Mol at 0x7fb3b9e4a660>"
      ]
     },
     "execution_count": 18,
     "metadata": {},
     "output_type": "execute_result"
    }
   ],
   "source": [
    "Chem.MolFromSmiles('CC(=O)CCCC(=O)O')"
   ]
  },
  {
   "cell_type": "markdown",
   "id": "40eb8b15-fcb3-491c-9704-fe28feb722d9",
   "metadata": {},
   "source": [
    "#### Examining PKS designs"
   ]
  },
  {
   "cell_type": "markdown",
   "id": "74de915c-81ca-4246-b669-92c6d99e8728",
   "metadata": {},
   "source": [
    "We can print out the modules in the top PKS design:"
   ]
  },
  {
   "cell_type": "code",
   "execution_count": 16,
   "id": "7d4c8ed0-5646-48b7-96ae-1cc59f786403",
   "metadata": {},
   "outputs": [
    {
     "data": {
      "text/plain": [
       "'[[\"AT{\\'substrate\\': \\'Methylmalonyl-CoA\\'}\", \\'loading: True\\'], [\"AT{\\'substrate\\': \\'Malonyl-CoA\\'}\", \\'loading: False\\'], [\"AT{\\'substrate\\': \\'Malonyl-CoA\\'}\", \"KR{\\'type\\': \\'B\\'}\", \\'DH{}\\', \\'ER{}\\', \\'loading: False\\']]'"
      ]
     },
     "execution_count": 16,
     "metadata": {},
     "output_type": "execute_result"
    }
   ],
   "source": [
    "repr(biosynth_pipeline_object.pks_designs[-1][0][0].modules)"
   ]
  },
  {
   "cell_type": "markdown",
   "id": "cf59313e-e15e-4842-9988-0aab012bfdf2",
   "metadata": {},
   "source": [
    "#### Run non-PKS tailorings"
   ]
  },
  {
   "cell_type": "code",
   "execution_count": 6,
   "id": "cc12bd2c-fb9c-4a89-bd40-4ac267970362",
   "metadata": {},
   "outputs": [
    {
     "name": "stdout",
     "output_type": "stream",
     "text": [
      "\n",
      "Starting pickaxe expansion on CC(=O)CCCC(=O)O\n",
      "\n",
      "----------------------------------------\n",
      "Intializing pickaxe object\n"
     ]
    },
    {
     "name": "stderr",
     "output_type": "stream",
     "text": [
      "[19:05:31] WARNING: not removing hydrogen atom without neighbors\n",
      "[19:05:31] WARNING: not removing hydrogen atom without neighbors\n"
     ]
    },
    {
     "name": "stdout",
     "output_type": "stream",
     "text": [
      "\n",
      "Done intializing pickaxe object\n",
      "----------------------------------------\n",
      "\n",
      "1 compounds loaded...\n",
      "(1 after removing stereochemistry)\n",
      "1 target compounds loaded\n",
      "\n",
      "----------------------------------------\n",
      "Expanding Generation 1\n",
      "\n",
      "Generation 1: 0 percent complete\n",
      "Generation 1 finished in 4.9136269092559814 s and contains:\n",
      "\t\t165 new compounds\n",
      "\t\t180 new reactions\n",
      "\n",
      "Done expanding Generation: 1.\n",
      "----------------------------------------\n",
      "\n",
      "Pathways found in 1 step/s between the top PKS product CC(=O)CCCC(=O)O and the eventual target product CCCC(C)=O\n"
     ]
    }
   ],
   "source": [
    "non_pks_pathways = biosynth_pipeline_object.run_non_pks_synthesis_post_pks(max_designs=5)"
   ]
  },
  {
   "cell_type": "code",
   "execution_count": null,
   "id": "e8c40889-57a5-4d00-8895-ad4ca64dcc0a",
   "metadata": {},
   "outputs": [],
   "source": []
  },
  {
   "cell_type": "code",
   "execution_count": null,
   "id": "9193741f-e6ca-43fa-b0b4-71067948d393",
   "metadata": {},
   "outputs": [],
   "source": []
  },
  {
   "cell_type": "code",
   "execution_count": null,
   "id": "27e2b864-f51d-45ea-9b1e-c6c46e7b6bef",
   "metadata": {},
   "outputs": [],
   "source": []
  },
  {
   "cell_type": "code",
   "execution_count": null,
   "id": "17c52bb7-5222-42e6-af5c-2684eb048962",
   "metadata": {},
   "outputs": [],
   "source": []
  },
  {
   "cell_type": "code",
   "execution_count": null,
   "id": "92940ca6-acae-4f30-9f8b-40d88f3f25c6",
   "metadata": {},
   "outputs": [],
   "source": []
  }
 ],
 "metadata": {
  "kernelspec": {
   "display_name": "equilibrator_env",
   "language": "python",
   "name": "equilibrator_env"
  },
  "language_info": {
   "codemirror_mode": {
    "name": "ipython",
    "version": 3
   },
   "file_extension": ".py",
   "mimetype": "text/x-python",
   "name": "python",
   "nbconvert_exporter": "python",
   "pygments_lexer": "ipython3",
   "version": "3.9.17"
  }
 },
 "nbformat": 4,
 "nbformat_minor": 5
}
