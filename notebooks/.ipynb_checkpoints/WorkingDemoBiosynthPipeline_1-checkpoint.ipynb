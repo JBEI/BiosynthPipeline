{
 "cells": [
  {
   "cell_type": "markdown",
   "metadata": {},
   "source": [
    "### random tests"
   ]
  },
  {
   "cell_type": "code",
   "execution_count": 4,
   "metadata": {},
   "outputs": [],
   "source": [
    "from biosynth_pipeline import biosynth_pipeline"
   ]
  },
  {
   "cell_type": "code",
   "execution_count": 5,
   "metadata": {},
   "outputs": [],
   "source": [
    "from biosynth_pipeline import retrotide"
   ]
  },
  {
   "cell_type": "code",
   "execution_count": 6,
   "metadata": {},
   "outputs": [],
   "source": [
    "from biosynth_pipeline.retrotide import structureDB, designPKS"
   ]
  },
  {
   "cell_type": "code",
   "execution_count": 7,
   "metadata": {},
   "outputs": [],
   "source": [
    "testcluster = retrotide.Cluster(modules=[retrotide.allStarterTypes[0], \n",
    "                                         retrotide.allModuleTypes[0], \n",
    "                                         retrotide.allModuleTypes[1]])"
   ]
  },
  {
   "cell_type": "code",
   "execution_count": 8,
   "metadata": {},
   "outputs": [
    {
     "data": {
      "image/png": "[encoded data removed]",
      "text/plain": [
       "<rdkit.Chem.rdchem.Mol at 0x7fc75a4aaac0>"
      ]
     },
     "execution_count": 8,
     "metadata": {},
     "output_type": "execute_result"
    }
   ],
   "source": [
    "testcluster.computeProduct(structureDB)"
   ]
  },
  {
   "cell_type": "code",
   "execution_count": 21,
   "metadata": {},
   "outputs": [],
   "source": [
    "def select_extenders(extenders):\n",
    "    \n",
    "    molecules_data = [\n",
    "    {\"smiles\": \"O=C(O)CC(=O)[S]\", \"id\": \"Malonyl-CoA\", \"type\": \"CoA\", \"shortName\": \"mal\"},\n",
    "    {\"smiles\": \"C[C@@H](C(=O)O)C(=O)[S]\", \"id\": \"Methylmalonyl-CoA\", \"type\": \"CoA\", \"shortName\": \"mmal\"},\n",
    "    {\"smiles\": \"C=CC[C@@H](C(=O)O)C(=O)[S]\", \"id\": \"Allylmalonyl-CoA\", \"type\": \"CoA\", \"shortName\": \"allylmal\"},\n",
    "    {\"smiles\": \"CO[C@@H](C(=O)O)C(=O)[S]\", \"id\": \"Methoxymalonyl-CoA\", \"type\": \"CoA\", \"shortName\": \"mxmal\"},\n",
    "    {\"smiles\": \"CC[C@@H](C(=O)O)C(=O)[S]\", \"id\": \"Ethylmalonyl-CoA\", \"type\": \"CoA\", \"shortName\": \"emal\"},\n",
    "    {\"smiles\": \"CCCC[C@@H](C(=O)O)C(=O)[S]\", \"id\": \"Butyrylmalonyl-CoA\", \"type\": \"CoA\", \"shortName\": \"butmal\"},\n",
    "    {\"smiles\": \"OC(C(C([S])=O)O)=O\", \"id\": \"Hmal\", \"type\": \"CoA\", \"shortName\": \"hmal\"},\n",
    "    {\"smiles\": \"CC(C)[C@@H](C([S])=O)C(O)=O\", \"id\": \"Isobutyrylmalonyl-CoA\", \"type\": \"CoA\", \"shortName\": \"isobutmal\"},\n",
    "    {\"smiles\": \"CC(C)[C@H](C([S])=O)C(O)=O\", \"id\": \"D-isobutyrylmalonyl-CoA\", \"type\": \"CoA\", \"shortName\": \"d-isobutmal\"},\n",
    "    {\"smiles\": \"ClC1=C(Cl)NC=C1CCCCC(C(O)=O)C([S])=O\", \"id\": \"DCP\", \"type\": \"CoA\", \"shortName\":\"DCP\"},\n",
    "    {\"smiles\": \"CCCCCC[C@@H](C(=O)O)C(=O)[S]\", \"id\":\"Hexylmalonyl-CoA\", \"type\":\"CoA\", \"shortName\": \"hexmal\"}]\n",
    "    \n",
    "    with open(\"../biosynth_pipeline/retrotide/data/extenders.smi\", \"w\") as file:\n",
    "        file.write(\"smiles\\tid\\ttype\\tshortName\\n\")\n",
    "        \n",
    "        if extenders == \"all\":\n",
    "            for molecule in molecules_data:\n",
    "                smiles = molecule[\"smiles\"]\n",
    "            \n",
    "                mol = Chem.MolFromSmiles(smiles)\n",
    "                if mol is None:\n",
    "                    print(f\"Warning: Invalid SMILES string for {molecule['id']}\")\n",
    "                    continue\n",
    "\n",
    "                file.write(f\"{smiles}\\t{molecule['id']}\\t{molecule['type']}\\t{molecule['shortName']}\\n\")\n",
    "                \n",
    "        else:\n",
    "            for molecule in molecules_data:\n",
    "                if molecule[\"shortName\"] in extenders:\n",
    "                    smiles = molecule[\"smiles\"]\n",
    "                    \n",
    "                    mol = Chem.MolFromSmiles(smiles)\n",
    "                    if mol is None:\n",
    "                        print(f\"Warning: Invalid SMILES string for {molecule['id']}\")\n",
    "                        continue\n",
    "                    \n",
    "                    file.write(f\"{smiles}\\t{molecule['id']}\\t{molecule['type']}\\t{molecule['shortName']}\\n\")\n",
    "\n",
    "            \n",
    "    print(\"Extenders SMI file created successfully.\")"
   ]
  },
  {
   "cell_type": "code",
   "execution_count": 25,
   "metadata": {},
   "outputs": [],
   "source": [
    "def select_starters(starters):\n",
    "    \n",
    "    molecules_data = [\n",
    "    {\"smiles\": \"CC(=O)[S]\", \"id\": \"Malonyl-CoA\", \"type\": \"CoA\", \"shortName\": \"mal\"},\n",
    "    {\"smiles\": \"CCC(=O)[S]\", \"id\": \"Methylmalonyl-CoA\", \"type\": \"CoA\", \"shortName\": \"mmal\"},\n",
    "    {}\n",
    "    ]"
   ]
  },
  {
   "cell_type": "code",
   "execution_count": null,
   "metadata": {},
   "outputs": [],
   "source": [
    "smiles\tid\ttype\tshortName\n",
    "CCCC(=O)[S]\tbutmal\tCoA\tbutmal\n",
    "COCC(=O)[S]\tmxmal\tCoA\tmxmal\n",
    "CC(=O)[S]\tcemal\tCoA\tcemal\n",
    "CC(=O)[S]\tAcetyl-CoA\tCoA\tAcetyl-CoA\n",
    "CCC(=O)[S]\tprop\tCoA\tprop\n",
    "CC(C)C(=O)[S]\tisobut\tCoA\tisobut\n",
    "CCC(C)C(=O)[S]\t2metbut\tCoA\t2metbut\n",
    "C1CCCCC1C(=O)[S]\tCHC-CoA\tCoA\tCHC-CoA\n",
    "C1CC[C@@H](C(=O)O)[C@@H]1C(=O)[S]\ttrans-1,2-CPDA\tCoA\ttrans-1,2-CPDA\n",
    "C1(=O)C(=CCC1)C(=O)[S]\tcyclopentene\tCoA\tcyclopentene\n",
    "[S]C(C1=CC=CN1)=O\tpyr\tCoA\tpyr\n",
    "O=C([S])/C=C/C1=CC=CC=C1\tcin\tCoA\tcin\n",
    "[S]C(C1=CC(O)=CC(N)=C1)=O\tAHBA\tCoA\tAHBA\n",
    "CC(CC([S])=O)C\tisoval\tCoA\tisoval\n",
    "NC1=CC=C(C([S])=O)C=C1\tPABA\tCoA\tPABA\n",
    "[S]C(C1=CNC(Cl)=C1Cl)=O\tDCP\tCoA\tDCP\n",
    "NC(NCC([S])=O)=[NH2+]\tguan\tCoA\tguan\n",
    "CC1=NC(C([S])=O)=CS1\tmthz\tCoA\tmthz\n",
    "O[C@H]1[C@H](O)CCC(C([S])=O)C1\tDHCH\tCoA\tDHCH\n",
    "O[C@H]1[C@H](O)CC=C(C([S])=O)C1\tDHCHene\tCoA\tDHCHene\n",
    "O=C([S])CC1=CC=CC=C1\tplac\tCoA\tplac\n",
    "[S]C(C1=CC=CC=C1)=O\tbenz\tCoA\tbenz\n",
    "[S]C(C1=CC=C([N+]([O-])=O)C=C1)=O\tPNBA\tCoA\tPNBA\n",
    "[S]C([C@@H](CC)C(N)=O)=O\tema\tCoA\tema\n",
    "[S]C([C@@H](C)CNC([C@@H](N)C)=O)=O\t3measp\tCoA\t3measp"
   ]
  },
  {
   "cell_type": "code",
   "execution_count": 11,
   "metadata": {},
   "outputs": [
    {
     "name": "stdout",
     "output_type": "stream",
     "text": [
      "Extenders SMI file created successfully.\n"
     ]
    }
   ],
   "source": [
    "from rdkit import Chem\n",
    "### extender units\n",
    "molecules_data = [\n",
    "    {\"smiles\": \"O=C(O)CC(=O)[S]\", \"id\": \"Malonyl-CoA\", \"type\": \"CoA\", \"shortName\": \"mal\"},\n",
    "    {\"smiles\": \"C[C@@H](C(=O)O)C(=O)[S]\", \"id\": \"Methylmalonyl-CoA\", \"type\": \"CoA\", \"shortName\": \"mmal\"},\n",
    "    {\"smiles\": \"C=CC[C@@H](C(=O)O)C(=O)[S]\", \"id\":\"allylmal\", \"type\": \"CoA\", \"shortName\": \"allylmal\"}\n",
    "]\n",
    "\n",
    "with open(\"../biosynth_pipeline/retrotide/data/extenders.smi\", \"w\") as file:\n",
    "    file.write(\"smiles\\tid\\ttype\\tshortName\\n\")\n",
    "    \n",
    "    for molecule in molecules_data:\n",
    "        smiles = molecule[\"smiles\"]\n",
    "        \n",
    "        mol = Chem.MolFromSmiles(smiles)\n",
    "        if mol is None:\n",
    "            print(f\"Warning: Invalid SMILES string for {molecule['id']}\")\n",
    "            continue\n",
    "        \n",
    "        file.write(f\"{smiles}\\t{molecule['id']}\\t{molecule['type']}\\t{molecule['shortName']}\\n\")\n",
    "\n",
    "print(\"Extenders SMI file created successfully.\")"
   ]
  },
  {
   "cell_type": "code",
   "execution_count": 12,
   "metadata": {},
   "outputs": [
    {
     "name": "stdout",
     "output_type": "stream",
     "text": [
      "Starters SMI file created successfully.\n"
     ]
    }
   ],
   "source": [
    "### starter units\n",
    "molecules_data = [\n",
    "    {\"smiles\": \"CC(=O)[S]\", \"id\": \"Malonyl-CoA\", \"type\": \"CoA\", \"shortName\": \"mal\"},\n",
    "    {\"smiles\": \"CCC(=O)[S]\", \"id\": \"Methylmalonyl-CoA\", \"type\": \"CoA\", \"shortName\": \"mmal\"},\n",
    "    {\"smiles\": \"C=CCC(=O)[S]\", \"id\":\"allylmal\", \"type\": \"CoA\", \"shortName\": \"allylmal\"}\n",
    "]\n",
    "\n",
    "with open(\"../biosynth_pipeline/retrotide/data/starters.smi\", \"w\") as file:\n",
    "    file.write(\"smiles\\tid\\ttype\\tshortName\\n\")\n",
    "    \n",
    "    for molecule in molecules_data:\n",
    "        smiles = molecule[\"smiles\"]\n",
    "        \n",
    "        mol = Chem.MolFromSmiles(smiles)\n",
    "        if mol is None:\n",
    "            print(f\"Warning: Invalid SMILES string for {molecule['id']}\")\n",
    "            continue\n",
    "        \n",
    "        file.write(f\"{smiles}\\t{molecule['id']}\\t{molecule['type']}\\t{molecule['shortName']}\\n\")\n",
    "\n",
    "print(\"Starters SMI file created successfully.\")"
   ]
  },
  {
   "cell_type": "code",
   "execution_count": 13,
   "metadata": {},
   "outputs": [
    {
     "name": "stdout",
     "output_type": "stream",
     "text": [
      "computing module 1\n",
      "   testing 42 designs\n",
      "   best score is 0.029850746268656716\n",
      "computing module 2\n",
      "   testing 350 designs\n",
      "   best score is 0.07570621468926554\n",
      "computing module 3\n",
      "   testing 350 designs\n",
      "   best score is 0.135498320268757\n",
      "computing module 4\n",
      "   testing 350 designs\n",
      "   best score is 0.19810326659641728\n",
      "computing module 5\n",
      "   testing 350 designs\n",
      "   best score is 0.2738990332975295\n",
      "computing module 6\n",
      "   testing 350 designs\n",
      "   best score is 0.3416149068322981\n",
      "computing module 7\n",
      "   testing 350 designs\n",
      "   best score is 0.4044489383215369\n",
      "computing module 8\n",
      "   testing 350 designs\n",
      "   best score is 0.4570610687022901\n",
      "computing module 9\n",
      "   testing 350 designs\n",
      "   best score is 0.5\n",
      "computing module 10\n",
      "   testing 350 designs\n",
      "   best score is 0.5039301310043668\n",
      "computing module 11\n",
      "   testing 350 designs\n",
      "   best score is 0.508347245409015\n",
      "computing module 12\n",
      "   testing 350 designs\n",
      "   best score is 0.49614791987673346\n"
     ]
    }
   ],
   "source": [
    "from rdkit import Chem\n",
    "target = ('C[C@H]1[C@H](C[C@H](O)/C=C\\[C@@H]([C@H](O)[C@H](/C=C(C[C@@H]([C@@H](O)[C@@H]([C@@H](OC(N)=O)[C@H](/C=C\\C=C)C)C)C)/C)C)C)OC([C@H](C)[C@H]1O)=O')\n",
    "\n",
    "designs = designPKS(Chem.MolFromSmiles(target))\n",
    "#repr(designs[-1][0][0].modules)"
   ]
  },
  {
   "cell_type": "code",
   "execution_count": 14,
   "metadata": {},
   "outputs": [
    {
     "data": {
      "image/png": "[encoded data removed]",
      "text/plain": [
       "<rdkit.Chem.rdchem.Mol at 0x7fc75aa96820>"
      ]
     },
     "execution_count": 14,
     "metadata": {},
     "output_type": "execute_result"
    }
   ],
   "source": [
    "designs[-1][0][0].computeProduct(structureDB)"
   ]
  },
  {
   "cell_type": "code",
   "execution_count": 15,
   "metadata": {},
   "outputs": [
    {
     "data": {
      "text/plain": [
       "[[\"AT{'substrate': 'allylmal'}\", 'loading: True'],\n",
       " [\"AT{'substrate': 'Methylmalonyl-CoA'}\", \"KR{'type': 'B1'}\", 'loading: False'],\n",
       " [\"AT{'substrate': 'Methylmalonyl-CoA'}\", \"KR{'type': 'B1'}\", 'loading: False'],\n",
       " [\"AT{'substrate': 'allylmal'}\", 'loading: False'],\n",
       " [\"AT{'substrate': 'Methylmalonyl-CoA'}\", \"KR{'type': 'B1'}\", 'loading: False'],\n",
       " [\"AT{'substrate': 'Methylmalonyl-CoA'}\", \"KR{'type': 'B1'}\", 'loading: False'],\n",
       " [\"AT{'substrate': 'Methylmalonyl-CoA'}\", \"KR{'type': 'B1'}\", 'loading: False'],\n",
       " [\"AT{'substrate': 'Methylmalonyl-CoA'}\", \"KR{'type': 'B1'}\", 'DH{}', 'loading: False'],\n",
       " [\"AT{'substrate': 'Methylmalonyl-CoA'}\", \"KR{'type': 'B1'}\", 'DH{}', 'ER{}', 'loading: False'],\n",
       " [\"AT{'substrate': 'Malonyl-CoA'}\", \"KR{'type': 'B'}\", 'DH{}', 'loading: False'],\n",
       " [\"AT{'substrate': 'Methylmalonyl-CoA'}\", \"KR{'type': 'C1'}\", 'loading: False'],\n",
       " [\"AT{'substrate': 'Malonyl-CoA'}\", \"KR{'type': 'B'}\", 'DH{}', 'loading: False']]"
      ]
     },
     "execution_count": 15,
     "metadata": {},
     "output_type": "execute_result"
    }
   ],
   "source": [
    "designs[-1][0][0].modules"
   ]
  },
  {
   "cell_type": "code",
   "execution_count": null,
   "metadata": {},
   "outputs": [],
   "source": []
  },
  {
   "cell_type": "code",
   "execution_count": null,
   "metadata": {},
   "outputs": [],
   "source": []
  },
  {
   "cell_type": "markdown",
   "metadata": {
    "jupyter": {
     "outputs_hidden": false
    },
    "pycharm": {
     "name": "#%% md\n"
    }
   },
   "source": [
    "# Biosynth Pipeline Demo 1"
   ]
  },
  {
   "cell_type": "markdown",
   "metadata": {
    "pycharm": {
     "name": "#%% md\n"
    }
   },
   "source": [
    "#### Biosynthesis of propionic acid starting with PKSs and 2 steps of non-PKS modifications"
   ]
  },
  {
   "cell_type": "markdown",
   "metadata": {
    "jupyter": {
     "outputs_hidden": false
    },
    "pycharm": {
     "name": "#%% md\n"
    }
   },
   "source": [
    "Authors: Tyler Backman and Yash Chainani"
   ]
  },
  {
   "cell_type": "markdown",
   "metadata": {
    "jupyter": {
     "outputs_hidden": false
    },
    "pycharm": {
     "name": "#%% md\n"
    }
   },
   "source": [
    "This is the first notebook to demonstrate using the `biosynth_pipeline` software which combines Retrotide and Pickaxe into a single biosynthesis pipeline. In this example, Retrotide performs a forward synthesis of the target product first chimeric type I Polyketide Synthases (PKSs). If PKSs/ Retrotide cannot reach this target, then Pickaxe will take over and find non-PKS pathways comprising regular, monofunction enzymes to ideally transform the target PKS product into the final downstream target product"
   ]
  },
  {
   "cell_type": "markdown",
   "metadata": {
    "pycharm": {
     "name": "#%% md\n"
    }
   },
   "source": [
    "### Import key dependencies"
   ]
  },
  {
   "cell_type": "markdown",
   "metadata": {
    "pycharm": {
     "name": "#%% md\n"
    }
   },
   "source": [
    "If you don't have chemaxon installed or have chemaxon installed but do not possess a valid license, you will likely get the following error message: *\"No valid license for cxcalc installed, operating in read-only mode. A local cache may be loaded, but no compounds can be created.\"* Don't worry, you'll still be able to generate pathways and calculate the reaction thermodynamics for a number of reactions. In fact, because getting a chemaxon license on the cluster is difficult, you can also comment out the line `from biosynth_pipeline import thermo` and perform the thermodynamic calculations of pathways locally instead."
   ]
  },
  {
   "cell_type": "code",
   "execution_count": null,
   "metadata": {
    "jupyter": {
     "outputs_hidden": false
    },
    "pycharm": {
     "is_executing": true,
     "name": "#%%\n"
    }
   },
   "outputs": [],
   "source": [
    "import json\n",
    "import pandas as pd\n",
    "from biosynth_pipeline import biosynth_pipeline\n",
    "from retrotide import structureDB, designPKS\n",
    "from rdkit import Chem"
   ]
  },
  {
   "cell_type": "markdown",
   "metadata": {
    "pycharm": {
     "name": "#%% md\n"
    }
   },
   "source": [
    "Initialize the reaction feasibility classifier to plug into `Biosynth_pipeline`. This is a machine learning model that helps to calculate the likelihood of enzymatic reactions predicted by Pickaxe in terms of a feasibility/ probability score between 0 and 1. This score is a function of both the thermodynamic feasibility of a reaction as well as its chemical probability. For large expansions, the number of pathways suggested by Pickaxe can increase exponentially in number, rendering it far too cumbersome to manually sieve through pathways and pick one that would be feasible to implement experimentally. Thus, this `feasibility_classifier` can be initialized to rank the feasibility of single enzymatic reactions and consequently, pathways, eventually helping to pick the most feasible pathway that should be implemented experimentally."
   ]
  },
  {
   "cell_type": "code",
   "execution_count": null,
   "metadata": {
    "jupyter": {
     "outputs_hidden": false
    },
    "pycharm": {
     "name": "#%%\n"
    }
   },
   "outputs": [],
   "source": [
    "### initialize the feasibility classifier to plug into biosynth_pipeline object later\n",
    "\n",
    "feasibility_model_path = '../models/updated_model_Apr28' # can pick the '.pkl' or '.dat' file too\n",
    "calibration_model_path = '../models/updated_model_Apr28_calibration'\n",
    "cofactors_path = '../data/coreactants_and_rules/all_cofactors_updated.csv'\n",
    "fp_type = 'ecfp4'\n",
    "nBits = 2048\n",
    "max_species = 4\n",
    "cofactor_positioning = 'by_descending_MW'\n",
    "\n",
    "PX = biosynth_pipeline.feasibility_classifier(feasibility_model_path = feasibility_model_path,\n",
    "                                                   calibration_model_path = calibration_model_path,\n",
    "                                                   cofactors_path = cofactors_path,\n",
    "                                                   fp_type = fp_type,\n",
    "                                                   nBits = nBits,\n",
    "                                                   max_species = max_species,\n",
    "                                                   cofactor_positioning = cofactor_positioning)"
   ]
  },
  {
   "cell_type": "markdown",
   "metadata": {
    "jupyter": {
     "outputs_hidden": false
    },
    "pycharm": {
     "name": "#%% md\n"
    }
   },
   "source": [
    "### Setting up Biosynth Pipeline for combined propionic acid biosynthesis"
   ]
  },
  {
   "cell_type": "markdown",
   "metadata": {
    "jupyter": {
     "outputs_hidden": false
    },
    "pycharm": {
     "name": "#%% md\n"
    }
   },
   "source": [
    "Instantiate an object of the `biosynth_pipeline` class. Following is the set of arguments used to build each object"
   ]
  },
  {
   "cell_type": "markdown",
   "metadata": {
    "pycharm": {
     "name": "#%% md\n"
    }
   },
   "source": [
    "* `pathway_sequence`: Order of PKS and non-PKS transformations. If you wish to perform PKS transformations first (more common), then set to: `['pks','non_pks']`. if you wish to perform non-PKS transformations first, however, set this to: `['non_pks','pks']`."
   ]
  },
  {
   "cell_type": "markdown",
   "metadata": {
    "pycharm": {
     "name": "#%% md\n"
    }
   },
   "source": [
    "* `target_smiles`: Simplified Molecular Input Linear Entry System (SMILES) string for the downstream target molecule. For instance, 'CCO' corresponds to ethanol while 'CCCO' corresponds to propanol. You can use the following site to first draw your target molecular structure and obtain then its SMILES string: http://www.cheminfo.org/flavor/malaria/Utilities/SMILES_generator___checker/index.html"
   ]
  },
  {
   "cell_type": "markdown",
   "metadata": {
    "pycharm": {
     "name": "#%% md\n"
    }
   },
   "source": [
    "* `non_pks_rules`: Reaction rules/ operators to use for non-PKS enzymatic expansion. You can choose to set this to `biological_generalized` or you can set it to `biological_intermediate`. The generalized rules are a set of 1224 reaction operators that digitally encode enzyme-substrate promiscuity by templating the functional group changes directly occurring at the reactive site between a substrate and product. Meanwhile, the intermediate rules are a set of 3604 reaction operators that digitally encode enzyme-substrate promiscuity by not just templating functional group changes directly on a reactive site but also the chemical environments neighboring a reaction site. If you wish to perform a hybrid synthesis instead, you can also set this argument to `chemical` (default: `biological_intermediate`)."
   ]
  },
  {
   "cell_type": "markdown",
   "metadata": {
    "pycharm": {
     "name": "#%% md\n"
    }
   },
   "source": [
    "* `non_pks_cores`: Number of computing cores to run Pickaxe (default: `1`)."
   ]
  },
  {
   "cell_type": "markdown",
   "metadata": {
    "pycharm": {
     "name": "#%% md\n"
    }
   },
   "source": [
    "* `non_pks_sim_score_filter`: Decide if a similarity threshold filter should be used prune Pickaxe expansions. If set to `True`, you will need to provide a list of Tanimoto similarity thresholds in the next argument. Intermediate metabolites that are similar to the product (i.e. their Tanimoto similarity to the target exceeds this threshold) will progress onto future reactions while dissimilar metbaolites will be discarded (default: `False`)."
   ]
  },
  {
   "cell_type": "markdown",
   "metadata": {
    "pycharm": {
     "name": "#%% md\n"
    }
   },
   "source": [
    "* `non_pks_sim_score_cutoffs`: List of Tanimoto similarity thresholds for each generation, e.g.: `[0.2,0.4]` (default: `None`). "
   ]
  },
  {
   "cell_type": "markdown",
   "metadata": {
    "pycharm": {
     "name": "#%% md\n"
    }
   },
   "source": [
    "* `non_pks_sim_sample`: If set to `True`, similarity sampling will be used during Pickaxe expansion to prune the reaction network. This filter first calculates the distribution of Tanimoto similarities amongst intermediate metabolites and then weights this distribution towards metabolites most similar to the target. Once this weighted distribution has been created, metabolites that will progress onto the next reaction step are sampled with a skew towards metabolites most similar to the target (default: `False`)."
   ]
  },
  {
   "cell_type": "markdown",
   "metadata": {
    "pycharm": {
     "name": "#%% md\n"
    }
   },
   "source": [
    "* `non_pks_sim_sample_size`: Number of Pickaxe intermediates to be sampled if similarity sampling is used. Typically 1000 is a suitable sampling size (default: `None`)."
   ]
  },
  {
   "cell_type": "markdown",
   "metadata": {
    "pycharm": {
     "name": "#%% md\n"
    }
   },
   "source": [
    "* `feasibility classifier`: Reaction feasibility model object, i.e. `PX` defined above"
   ]
  },
  {
   "cell_type": "markdown",
   "metadata": {
    "pycharm": {
     "name": "#%% md\n"
    }
   },
   "source": [
    "* `remove_stero`: If set to `False`, stereochemistry will be considered in Retrotide. This is an important metric for evaluating similarity with Retrotide (default: `False`). "
   ]
  },
  {
   "cell_type": "markdown",
   "metadata": {
    "pycharm": {
     "name": "#%% md\n"
    }
   },
   "source": [
    "* `cofactors_filepath`, `known_metabolites_filepath`: Filepaths for the set of cofactors to use for Pickaxe and the set of metabolites present across Brenda, Kegg, and MetaCyc"
   ]
  },
  {
   "cell_type": "code",
   "execution_count": null,
   "metadata": {
    "jupyter": {
     "outputs_hidden": false
    },
    "pycharm": {
     "name": "#%%\n"
    }
   },
   "outputs": [],
   "source": [
    "# these are the most important inputs to decide on\n",
    "pathway_sequence = ['pks', 'non_pks']  # do retrotide first then pickaxe\n",
    "target_smiles = 'CCC(=O)O' # propionic acid\n",
    "\n",
    "non_pks_rules = 'biological_intermediate'  # intermediate enzymatic reaction rules for pickaxe (can choose chemical too)\n",
    "non_pks_steps = 2\n",
    "non_pks_cores = 5\n",
    "non_pks_sim_score_filter = False\n",
    "non_pks_sim_score_cutoffs = None\n",
    "non_pks_sim_sample = False\n",
    "non_pks_sim_sample_size = None\n",
    "\n",
    "# the following arguments would typically always be fixed\n",
    "remove_stereo = False # since retrotide relies on stereochemistry\n",
    "cofactors_filepath = '../data/coreactants_and_rules/all_cofactors.tsv' \n",
    "known_metabolites_filepath = '../data/all_known_metabolites.txt' "
   ]
  },
  {
   "cell_type": "markdown",
   "metadata": {
    "pycharm": {
     "name": "#%% md\n"
    }
   },
   "source": [
    "With these arguments defined, let's go ahead and instantiate an object of the `biosyth_pipeline` class in a bit of a verbose fashion:"
   ]
  },
  {
   "cell_type": "code",
   "execution_count": null,
   "metadata": {
    "pycharm": {
     "name": "#%%\n"
    }
   },
   "outputs": [],
   "source": [
    "# create an instance of the biosynth_pipeline class\n",
    "biosynth_pipeline_object_verbose = biosynth_pipeline.biosynth_pipeline(pathway_sequence=pathway_sequence,\n",
    "                                             target_smiles = target_smiles,\n",
    "                                             feasibility_classifier = PX,\n",
    "                                             remove_stereo = remove_stereo,\n",
    "                                             known_metabolites = known_metabolites_filepath,\n",
    "                                             non_pks_cofactors = cofactors_filepath,\n",
    "                                             non_pks_rules = non_pks_rules,\n",
    "                                             non_pks_steps = non_pks_steps,\n",
    "                                             non_pks_cores = non_pks_cores,\n",
    "                                             non_pks_sim_score_filter = non_pks_sim_score_filter,\n",
    "                                             non_pks_sim_score_cutoffs = non_pks_sim_score_cutoffs,\n",
    "                                             non_pks_sim_sample = non_pks_sim_sample,\n",
    "                                             non_pks_sim_sample_size = non_pks_sim_sample_size)"
   ]
  },
  {
   "cell_type": "markdown",
   "metadata": {
    "jupyter": {
     "outputs_hidden": false
    },
    "pycharm": {
     "name": "#%% md\n"
    }
   },
   "source": [
    "Many of these are also optional arguments so an object of the `biosynth_pipeline` class can also be instantiated as shown below. The most important parameters are really just pathway sequence (`pathway_sequence`), the SMILES string of the eventual target product (`target_smiles`) and the number of non-PKS enzymatic steps between the PKS product and eventual target product"
   ]
  },
  {
   "cell_type": "code",
   "execution_count": null,
   "metadata": {
    "jupyter": {
     "outputs_hidden": false
    },
    "pycharm": {
     "name": "#%%\n"
    }
   },
   "outputs": [],
   "source": [
    "# create an instance of the biosynth_pipeline class\n",
    "pathway_sequence = ['pks', 'non_pks']  # do retrotide first then pickaxe\n",
    "target_smiles = 'CCC(=O)O' # propionic acid\n",
    "\n",
    "non_pks_steps = 2\n",
    "\n",
    "biosynth_pipeline_object = biosynth_pipeline.biosynth_pipeline(pathway_sequence=pathway_sequence,\n",
    "                                             target_smiles=target_smiles,\n",
    "                                             feasibility_classifier = PX,\n",
    "                                             non_pks_steps=non_pks_steps)"
   ]
  },
  {
   "cell_type": "markdown",
   "metadata": {
    "jupyter": {
     "outputs_hidden": false
    },
    "pycharm": {
     "name": "#%% md\n"
    }
   },
   "source": [
    "Run a PKS synthesis first. The release mechanism via which a bound product will detach from the PKS modules must be specified via the `pks_release_mechanism` parameter."
   ]
  },
  {
   "cell_type": "code",
   "execution_count": null,
   "metadata": {
    "jupyter": {
     "outputs_hidden": false
    },
    "pycharm": {
     "name": "#%%\n"
    }
   },
   "outputs": [],
   "source": [
    "biosynth_pipeline_object.run_pks_synthesis(pks_release_mechanism='thiolysis')"
   ]
  },
  {
   "cell_type": "markdown",
   "metadata": {
    "pycharm": {
     "name": "#%% md\n"
    }
   },
   "source": [
    "This results tells us that the PKS design comprises of two modules: a loading module, which accepts Methylmalonly-CoA as the starter unit and a module 1, which accepts Malonyl-CoA as an extender unit."
   ]
  },
  {
   "cell_type": "markdown",
   "metadata": {
    "jupyter": {
     "outputs_hidden": false
    },
    "pycharm": {
     "name": "#%% md\n"
    }
   },
   "source": [
    "#### Examining PKS designs"
   ]
  },
  {
   "cell_type": "markdown",
   "metadata": {
    "jupyter": {
     "outputs_hidden": false
    },
    "pycharm": {
     "name": "#%% md\n"
    }
   },
   "source": [
    "If you are familiar with the documentation behind `Retrotide`, much of `Retrotide`'s functionalities have already been built into `biosynth_pipeline`. For instance, in order to access the details of the top-ranked PKS design, you can simply run `repr(biosynth_pipeline_object.pks_designs[-1][0][0].modules)`, just like how in `Retrotide`, you can run `repr(designs[-1][0][0].modules`."
   ]
  },
  {
   "cell_type": "code",
   "execution_count": null,
   "metadata": {
    "jupyter": {
     "outputs_hidden": false
    },
    "pycharm": {
     "name": "#%%\n"
    }
   },
   "outputs": [],
   "source": [
    "repr(biosynth_pipeline_object.pks_designs[-1][0][0].modules)"
   ]
  },
  {
   "cell_type": "markdown",
   "metadata": {
    "jupyter": {
     "outputs_hidden": false
    },
    "pycharm": {
     "name": "#%% md\n"
    }
   },
   "source": [
    "Again, just like `Retrotide`, you can also compute the structure of the final PKS product using `.computeProduct(structureDB)`"
   ]
  },
  {
   "cell_type": "code",
   "execution_count": null,
   "metadata": {
    "jupyter": {
     "outputs_hidden": false
    },
    "pycharm": {
     "name": "#%%\n"
    }
   },
   "outputs": [],
   "source": [
    "biosynth_pipeline_object.pks_designs[-1][0][0].computeProduct(structureDB)"
   ]
  },
  {
   "cell_type": "markdown",
   "metadata": {
    "jupyter": {
     "outputs_hidden": false
    },
    "pycharm": {
     "name": "#%% md\n"
    }
   },
   "source": [
    "Notice how this PKS product has a sulfur radical attached to it. This is because in this form, the product is still tethered to the PKS domain. A common mechanism for termination is thiolysis, which you have already set in passing the argument `pks_release_mechanism = 'thiolysis'` to `biosynth_pipeline_object.run_pks_synthesis(pks_release_mechanism='thiolysis')`. There also exist other mechanisms of chain termination, such as `lactonization` and `macrocyclization`. These additional chain termination mechanism reactions have not been built into this release of `biosynth_pipeline` yet but will be in future releases."
   ]
  },
  {
   "cell_type": "code",
   "execution_count": null,
   "metadata": {
    "jupyter": {
     "outputs_hidden": false
    },
    "pycharm": {
     "name": "#%%\n"
    }
   },
   "outputs": [],
   "source": [
    "Chem.MolFromSmiles(biosynth_pipeline_object.pks_top_final_product)"
   ]
  },
  {
   "cell_type": "markdown",
   "metadata": {
    "pycharm": {
     "name": "#%% md\n"
    }
   },
   "source": [
    "We have accessed the top PKS design so far. Let us try to access the next best PKS design and see if we can compute the final PKS product from it using a thiolysis termination."
   ]
  },
  {
   "cell_type": "markdown",
   "metadata": {
    "pycharm": {
     "name": "#%% md\n"
    }
   },
   "source": [
    "The next best PKS design can be accessed by printing the attribute, `repr(biosynth_pipeline_object.pks_designs[-1][1][0].modules)`. Here, the `[-1][1][0]` index refers to the next best PKS design while the index `[-1][2][0]` would refer to the third best PKS design."
   ]
  },
  {
   "cell_type": "code",
   "execution_count": null,
   "metadata": {
    "pycharm": {
     "name": "#%%\n"
    }
   },
   "outputs": [],
   "source": [
    "repr(biosynth_pipeline_object.pks_designs[-1][1][0].modules)"
   ]
  },
  {
   "cell_type": "markdown",
   "metadata": {
    "pycharm": {
     "name": "#%% md\n"
    }
   },
   "source": [
    "and just like with the top PKS product above, running the method `biosynth_pipeline_object.pks_designs[-1][1][0].computeProduct(structureDB)` will show the final PKS structure but while it is still bound to the PKS chain."
   ]
  },
  {
   "cell_type": "code",
   "execution_count": null,
   "metadata": {
    "pycharm": {
     "name": "#%%\n"
    }
   },
   "outputs": [],
   "source": [
    "biosynth_pipeline_object.pks_designs[-1][1][0].computeProduct(structureDB)"
   ]
  },
  {
   "cell_type": "markdown",
   "metadata": {
    "pycharm": {
     "name": "#%% md\n"
    }
   },
   "source": [
    "In order to view the final unbound product, we can run the method `run_pks_termination` to "
   ]
  },
  {
   "cell_type": "code",
   "execution_count": null,
   "metadata": {
    "pycharm": {
     "name": "#%%\n"
    }
   },
   "outputs": [],
   "source": [
    "biosynth_pipeline_object.pks_designs[-1][1][0].computeProduct(structureDB)"
   ]
  },
  {
   "cell_type": "markdown",
   "metadata": {
    "jupyter": {
     "outputs_hidden": false
    },
    "pycharm": {
     "name": "#%% md\n"
    }
   },
   "source": [
    "#### Non-PKS enzymatic synthesis"
   ]
  },
  {
   "cell_type": "code",
   "execution_count": null,
   "metadata": {
    "pycharm": {
     "name": "#%%\n"
    }
   },
   "outputs": [],
   "source": [
    "Chem.MolFromSmiles(biosynth_pipeline_object.pks_top_final_product)"
   ]
  },
  {
   "cell_type": "markdown",
   "metadata": {
    "pycharm": {
     "name": "#%% md\n"
    }
   },
   "source": [
    "#### Non-PKS enzymatic synthesis"
   ]
  },
  {
   "cell_type": "markdown",
   "metadata": {
    "jupyter": {
     "outputs_hidden": false
    },
    "pycharm": {
     "name": "#%% md\n"
    }
   },
   "source": [
    "Once the PKS synthesis is complete, a non-PKS synthesis can be run via Pickaxe using the `.run_non_pks_synthesis_post_pks` method. This function takes the `max_designs` to try as an input parameter. If the target product cannot be reached by non-PKS enzymes within the specified number of non-PKS steps, the next best N PKS designs will be used instead as starting points for non-PKS synthesis."
   ]
  },
  {
   "cell_type": "code",
   "execution_count": null,
   "metadata": {
    "jupyter": {
     "outputs_hidden": false
    },
    "pycharm": {
     "name": "#%%\n"
    }
   },
   "outputs": [],
   "source": [
    "non_pks_pathways = biosynth_pipeline_object.run_non_pks_synthesis_post_pks(max_designs=5)"
   ]
  },
  {
   "cell_type": "markdown",
   "metadata": {
    "jupyter": {
     "outputs_hidden": false
    },
    "pycharm": {
     "name": "#%% md\n"
    }
   },
   "source": [
    "Print out pathways generated by Pickaxe using non-PKS enzymes between the top PKS product and propionic acid. This is a dictionary where each key is the pathway number and the corresponding value is another dictionary comprising details about the pathway"
   ]
  },
  {
   "cell_type": "code",
   "execution_count": null,
   "metadata": {
    "jupyter": {
     "outputs_hidden": false
    },
    "pycharm": {
     "name": "#%%\n"
    }
   },
   "outputs": [],
   "source": [
    "non_pks_pathways"
   ]
  },
  {
   "cell_type": "markdown",
   "metadata": {
    "pycharm": {
     "name": "#%% md\n"
    }
   },
   "source": [
    "These pathways can now be ranked using the reaction feasibility machine learning model. Notice how under each pathway, a list of feasibility scores has been added. The list of values under the key `feasibilities` represent the feasibility of each reaction in a pathway while the value under the key `net feasibility` represents the aggregate feasibility of the pathway, which is calculated by taking the product of each reaction's feasibility"
   ]
  },
  {
   "cell_type": "code",
   "execution_count": null,
   "metadata": {
    "pycharm": {
     "name": "#%%\n"
    }
   },
   "outputs": [],
   "source": [
    "non_pks_pathways = biosynth_pipeline_object.rank_non_pks_pathways(non_pks_pathways)"
   ]
  },
  {
   "cell_type": "code",
   "execution_count": null,
   "metadata": {
    "pycharm": {
     "name": "#%%\n"
    }
   },
   "outputs": [],
   "source": [
    "non_pks_pathways"
   ]
  },
  {
   "cell_type": "markdown",
   "metadata": {
    "pycharm": {
     "name": "#%% md\n"
    }
   },
   "source": [
    "We can run a simple sorting algorithm to now rank these pathways using their `net feasibility` from most to least feasible"
   ]
  },
  {
   "cell_type": "code",
   "execution_count": null,
   "metadata": {
    "pycharm": {
     "name": "#%%\n"
    }
   },
   "outputs": [],
   "source": [
    "# Convert 'net feasibility' strings to floats for sorting\n",
    "sorted_data = sorted(non_pks_pathways.items(), key=lambda x: float(x[1]['net feasibility']), reverse=True)\n",
    "\n",
    "# Convert the sorted list of tuples back to a dictionary\n",
    "sorted_dict = dict(sorted_data)\n",
    "\n",
    "print(sorted_dict)"
   ]
  },
  {
   "cell_type": "markdown",
   "metadata": {
    "pycharm": {
     "name": "#%% md\n"
    }
   },
   "source": [
    "### Examining pathways further"
   ]
  },
  {
   "cell_type": "markdown",
   "metadata": {
    "pycharm": {
     "name": "#%% md\n"
    }
   },
   "source": [
    "We can see from the dictionary above that the pathways have been rearranged from highest `net feasibility` to lowest `net feasibility`. Let's pick the top pathway, `Pathway 12` and examine it further:"
   ]
  },
  {
   "cell_type": "code",
   "execution_count": null,
   "metadata": {
    "pycharm": {
     "name": "#%%\n"
    }
   },
   "outputs": [],
   "source": [
    "sorted_dict['Pathway 12']"
   ]
  },
  {
   "cell_type": "markdown",
   "metadata": {
    "pycharm": {
     "name": "#%% md\n"
    }
   },
   "source": [
    "We can see that this pathway starts with the compound `CC(=O)CC(=O)O`, goes through the intermediate `CC(=O)C(C)C(=O)O`, and then reaches the final propionic acid target, `CCC(=O)O`. The two reactions in this pathway are:  \n",
    "\n",
    "(1) CC(=O)CC(=O)O + C[S+](CCC(N)C(=O)O)CC1OC(n2cnc3c(N)ncnc32)C(O)C1O >> CC(=O)C(C)C(=O)O + Nc1ncnc2c1ncn2C1OC(CSCCC(N)C(=O)O)C(O)C1O',\n",
    "\n",
    "and:\n",
    "\n",
    "CC(=O)C(C)C(=O)O + O >> CCC(=O)O + CC(=O)O.\n",
    "\n",
    "The first reaction has a feasibility score of 0.8636364 and the second has a feasibility score of 0.98273575. This means that the pathway has a net feasibility score of 0.8636364 x 0.98273575 = 0.8487263652813"
   ]
  },
  {
   "cell_type": "markdown",
   "metadata": {
    "pycharm": {
     "name": "#%% md\n"
    }
   },
   "source": [
    "We can also print out the enzymes associated with each reaction rule that "
   ]
  },
  {
   "cell_type": "code",
   "execution_count": null,
   "metadata": {
    "pycharm": {
     "name": "#%%\n"
    }
   },
   "outputs": [],
   "source": [
    "intermediate_rules_df = pd.read_csv('../data/coreactants_and_rules/JN3604IMT_rules.tsv',delimiter='\\t')"
   ]
  },
  {
   "cell_type": "code",
   "execution_count": null,
   "metadata": {
    "pycharm": {
     "name": "#%%\n"
    }
   },
   "outputs": [],
   "source": [
    "rxn_1_rule = 'rule0043_12'"
   ]
  },
  {
   "cell_type": "code",
   "execution_count": null,
   "metadata": {
    "pycharm": {
     "name": "#%%\n"
    }
   },
   "outputs": [],
   "source": [
    "rxn_1_enzymes = list(intermediate_rules_df[intermediate_rules_df['Name'] == rxn_1_rule]['Comments'])"
   ]
  },
  {
   "cell_type": "code",
   "execution_count": null,
   "metadata": {
    "pycharm": {
     "name": "#%%\n"
    }
   },
   "outputs": [],
   "source": [
    "rxn_1_enzymes"
   ]
  },
  {
   "cell_type": "code",
   "execution_count": null,
   "metadata": {
    "pycharm": {
     "name": "#%%\n"
    }
   },
   "outputs": [],
   "source": [
    "rxn_2_rule = 'rule0085_2'"
   ]
  },
  {
   "cell_type": "code",
   "execution_count": null,
   "metadata": {
    "pycharm": {
     "name": "#%%\n"
    }
   },
   "outputs": [],
   "source": [
    "rxn_2_enzymes = list(intermediate_rules_df[intermediate_rules_df['Name'] == rxn_2_rule]['Comments'])"
   ]
  },
  {
   "cell_type": "code",
   "execution_count": null,
   "metadata": {
    "pycharm": {
     "name": "#%%\n"
    }
   },
   "outputs": [],
   "source": [
    "rxn_2_enzymes"
   ]
  },
  {
   "cell_type": "markdown",
   "metadata": {
    "pycharm": {
     "name": "#%% md\n"
    }
   },
   "source": [
    "The enzymes above are all listed in terms of their UNIPROT IDs. We can search uniprot.org to see if the documented, native reactions are similar to the ones predicted by Pickaxe"
   ]
  },
  {
   "cell_type": "markdown",
   "metadata": {
    "pycharm": {
     "name": "#%% md\n"
    }
   },
   "source": [
    "### Calculating reaction thermodynamics"
   ]
  },
  {
   "cell_type": "markdown",
   "metadata": {
    "pycharm": {
     "name": "#%% md\n"
    }
   },
   "source": [
    "Additionally, we can calculate the thermodynamics of reactions in the pathway with the following function. Reaction thermodynamics are calculated with eQuilibrator. This in turn requires a valid ChemAxon license. If you don't have a ChemAxon license, don't worry. Recall that the feasibility classifier already takes thermodynamics into account with its predictions"
   ]
  },
  {
   "cell_type": "code",
   "execution_count": null,
   "metadata": {
    "pycharm": {
     "name": "#%%\n"
    }
   },
   "outputs": [],
   "source": [
    "from biosynth_pipeline import thermo\n",
    "non_pks_pathways = biosynth_pipeline_object.calc_pathway_thermo(non_pks_pathways, ub = 1e-2, lb = 1e-4)"
   ]
  },
  {
   "cell_type": "markdown",
   "metadata": {
    "pycharm": {
     "name": "#%% md\n"
    }
   },
   "source": [
    "If I were to print out the dictionary `non_pks_pathways` now, an extra field, `dG`, i.e. the reaction gibbs free energy has been added as a value under each pathway."
   ]
  },
  {
   "cell_type": "code",
   "execution_count": null,
   "metadata": {
    "pycharm": {
     "name": "#%%\n"
    }
   },
   "outputs": [],
   "source": [
    "non_pks_pathways"
   ]
  },
  {
   "cell_type": "markdown",
   "metadata": {
    "pycharm": {
     "name": "#%% md\n"
    }
   },
   "source": [
    "Sorting this again from highest to lowest feasibility scores gives:"
   ]
  },
  {
   "cell_type": "code",
   "execution_count": null,
   "metadata": {
    "pycharm": {
     "name": "#%%\n"
    }
   },
   "outputs": [],
   "source": [
    "# Convert 'net feasibility' strings to floats for sorting\n",
    "sorted_data = sorted(non_pks_pathways.items(), key=lambda x: float(x[1]['net feasibility']), reverse=True)\n",
    "\n",
    "# Convert the sorted list of tuples back to a dictionary\n",
    "sorted_dict = dict(sorted_data)\n",
    "\n",
    "print(sorted_dict)"
   ]
  },
  {
   "cell_type": "markdown",
   "metadata": {
    "pycharm": {
     "name": "#%% md\n"
    }
   },
   "source": [
    "### Save pathways locally"
   ]
  },
  {
   "cell_type": "code",
   "execution_count": null,
   "metadata": {
    "pycharm": {
     "name": "#%%\n"
    }
   },
   "outputs": [],
   "source": [
    "with open('biosynth_pipeline_demo.json', 'w') as json_file:\n",
    "    json.dump(non_pks_pathways, json_file)"
   ]
  },
  {
   "cell_type": "markdown",
   "metadata": {
    "pycharm": {
     "name": "#%% md\n"
    }
   },
   "source": [
    "### Accessing attributes"
   ]
  },
  {
   "cell_type": "markdown",
   "metadata": {
    "pycharm": {
     "name": "#%% md\n"
    }
   },
   "source": [
    "The `biosynth_pipeline_object` that we instantiated has attributes that we can access as follows:"
   ]
  },
  {
   "cell_type": "code",
   "execution_count": null,
   "metadata": {
    "pycharm": {
     "name": "#%%\n"
    }
   },
   "outputs": [],
   "source": [
    "# SMILES string of the final, downstream target molecule\n",
    "biosynth_pipeline_object.target_smiles"
   ]
  },
  {
   "cell_type": "code",
   "execution_count": null,
   "metadata": {
    "pycharm": {
     "name": "#%%\n"
    }
   },
   "outputs": [],
   "source": [
    "# list of reaction operators used for non-PKS reaction network expansion\n",
    "biosynth_pipeline_object.rule_filepath"
   ]
  },
  {
   "cell_type": "code",
   "execution_count": null,
   "metadata": {
    "pycharm": {
     "name": "#%%\n"
    }
   },
   "outputs": [],
   "source": [
    "# set of all known metabolites across Brenda, Kegg, and MetaCyc\n",
    "biosynth_pipeline_object.known_metabolites"
   ]
  },
  {
   "cell_type": "code",
   "execution_count": null,
   "metadata": {
    "pycharm": {
     "name": "#%%\n"
    }
   },
   "outputs": [],
   "source": [
    "# display the final product from the best PKS design\n",
    "biosynth_pipeline_object.pks_top_final_product"
   ]
  },
  {
   "cell_type": "code",
   "execution_count": null,
   "metadata": {
    "pycharm": {
     "name": "#%%\n"
    }
   },
   "outputs": [],
   "source": [
    "repr(biosynth_pipeline_object.pks_designs[0][0])"
   ]
  },
  {
   "cell_type": "code",
   "execution_count": null,
   "metadata": {
    "pycharm": {
     "name": "#%%\n"
    }
   },
   "outputs": [],
   "source": [
    "# filepath of cofactors used for non-PKS reaction network expansion\n",
    "biosynth_pipeline_object.non_pks_cofactors"
   ]
  },
  {
   "cell_type": "code",
   "execution_count": null,
   "metadata": {
    "pycharm": {
     "name": "#%%\n"
    }
   },
   "outputs": [],
   "source": [
    "# number of non-PKS reaction steps used\n",
    "biosynth_pipeline_object.non_pks_steps"
   ]
  },
  {
   "cell_type": "code",
   "execution_count": null,
   "metadata": {
    "pycharm": {
     "name": "#%%\n"
    }
   },
   "outputs": [],
   "source": [
    "# number of computing cores for non-PKS reaction steps\n",
    "biosynth_pipeline_object.non_pks_cores"
   ]
  },
  {
   "cell_type": "code",
   "execution_count": null,
   "metadata": {
    "pycharm": {
     "name": "#%%\n"
    }
   },
   "outputs": [],
   "source": [
    "# display if similarity thresholds were used for non-PKS reaction network expansion\n",
    "biosynth_pipeline_object.non_pks_sim_score_filter"
   ]
  },
  {
   "cell_type": "code",
   "execution_count": null,
   "metadata": {
    "pycharm": {
     "name": "#%%\n"
    }
   },
   "outputs": [],
   "source": [
    "# display what the similarity thresholds are (if not None)\n",
    "biosynth_pipeline_object.non_pks_sim_score_cutoffs"
   ]
  },
  {
   "cell_type": "code",
   "execution_count": null,
   "metadata": {
    "pycharm": {
     "name": "#%%\n"
    }
   },
   "outputs": [],
   "source": [
    "# display if similarity sampling was used for non-PKS reaction network expansion\n",
    "biosynth_pipeline_object.non_pks_sim_sample"
   ]
  },
  {
   "cell_type": "code",
   "execution_count": null,
   "metadata": {
    "pycharm": {
     "name": "#%%\n"
    }
   },
   "outputs": [],
   "source": [
    "# display the similarity sampling size (if not None)\n",
    "biosynth_pipeline_object.non_pks_sim_sample_size"
   ]
  },
  {
   "cell_type": "code",
   "execution_count": null,
   "metadata": {
    "pycharm": {
     "name": "#%%\n"
    }
   },
   "outputs": [],
   "source": [
    "# print out non-PKS pathways\n",
    "biosynth_pipeline_object.non_pks_pathways"
   ]
  }
 ],
 "metadata": {
  "kernelspec": {
   "display_name": "comprehensive_env_py38",
   "language": "python",
   "name": "comprehensive_env_py38"
  },
  "language_info": {
   "codemirror_mode": {
    "name": "ipython",
    "version": 3
   },
   "file_extension": ".py",
   "mimetype": "text/x-python",
   "name": "python",
   "nbconvert_exporter": "python",
   "pygments_lexer": "ipython3",
   "version": "3.8.18"
  }
 },
 "nbformat": 4,
 "nbformat_minor": 4
}
