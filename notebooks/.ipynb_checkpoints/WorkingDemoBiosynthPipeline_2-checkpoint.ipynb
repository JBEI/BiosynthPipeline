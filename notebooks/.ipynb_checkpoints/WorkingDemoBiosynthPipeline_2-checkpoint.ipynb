{
 "cells": [
  {
   "cell_type": "markdown",
   "id": "1ecdd18a",
   "metadata": {},
   "source": [
    "# Biosynthesis Pipeline Demo 2"
   ]
  },
  {
   "cell_type": "markdown",
   "id": "5ca75c5e",
   "metadata": {},
   "source": [
    "Authors: Tyler Backman and Yash Chainani"
   ]
  },
  {
   "cell_type": "markdown",
   "id": "795e5b77",
   "metadata": {},
   "source": [
    "### Import key dependencies"
   ]
  },
  {
   "cell_type": "code",
   "execution_count": 1,
   "id": "6d822bee",
   "metadata": {},
   "outputs": [
    {
     "name": "stdout",
     "output_type": "stream",
     "text": [
      "No valid license for cxcalc installed, operating in read-only mode. A local cache may be loaded, but no compounds can be created. Please obtain a ChemAxon license to enable compound creation.\n",
      "Loading compounds from /Users/yashchainani96/PycharmProjects/pathway_discovery/chemaxon/equilibrator-assets-master/notebooks/compounds.sqlite\n"
     ]
    }
   ],
   "source": [
    "import pandas as pd\n",
    "import sys\n",
    "sys.path.append('../biosynth_pipeline')\n",
    "from biosynth_pipeline import biosynth_pipeline\n",
    "from biosynth_pipeline import feasibility_classifier"
   ]
  },
  {
   "cell_type": "code",
   "execution_count": 2,
   "id": "e45b22fe",
   "metadata": {},
   "outputs": [],
   "source": [
    "### initialize the feasibility classifier to plug into biosynth_pipeline object later\n",
    "feasibility_model_path = '../models/updated_model_Apr28' # can pick the '.pkl' or '.dat' file too\n",
    "calibration_model_path = '../models/updated_model_Apr28_calibration'\n",
    "cofactors_path = '../data/coreactants_and_rules/all_cofactors_updated.csv'\n",
    "fp_type = 'ecfp4'\n",
    "nBits = 2048\n",
    "max_species = 4\n",
    "cofactor_positioning = 'by_descending_MW'\n",
    "\n",
    "PX = feasibility_classifier(feasibility_model_path = feasibility_model_path,\n",
    "                                                   calibration_model_path = calibration_model_path,\n",
    "                                                   cofactors_path = cofactors_path,\n",
    "                                                   fp_type = fp_type,\n",
    "                                                   nBits = nBits,\n",
    "                                                   max_species = max_species,\n",
    "                                                   cofactor_positioning = cofactor_positioning)"
   ]
  },
  {
   "cell_type": "markdown",
   "id": "be47ceff",
   "metadata": {},
   "source": [
    "#### Combined propionic acid synthesis example via 1 step non-PKS enzymatic reaction"
   ]
  },
  {
   "cell_type": "markdown",
   "id": "c780230c",
   "metadata": {},
   "source": [
    "In the previous demo, we were able to get feasible pathways to propionic acid using a combination of PKSs and non-PKSs for a non-PKS pathway comprising two reactions. Here, we will reduce the number of non-PKS enzymatic steps to 1 instead of 2 as we had before. This will not lead to any pathways using the top PKS design returned by Retrotide. Thus, Biosynth Pipeline will run through the next N number of PKS designs to see if a complete pathway can be obtained. Here, N is defined by the user under the `max_designs` argument when the function `biosynth_pipeline.run_non_pks_synthesis_post_pks(max_designs = N)` is called."
   ]
  },
  {
   "cell_type": "code",
   "execution_count": 3,
   "id": "92135078",
   "metadata": {},
   "outputs": [],
   "source": [
    "# create an instance of the biosynth_pipeline class\n",
    "pathway_sequence = ['pks', 'non_pks']  # do retrotide first then pickaxe\n",
    "target_smiles = 'CCC(=O)O' # propionic acid\n",
    "\n",
    "non_pks_steps = 1\n",
    "\n",
    "biosynth_pipeline_object = biosynth_pipeline(pathway_sequence=pathway_sequence,\n",
    "                                             target_smiles=target_smiles,\n",
    "                                             feasibility_classifier = PX,\n",
    "                                             non_pks_steps=non_pks_steps)"
   ]
  },
  {
   "cell_type": "code",
   "execution_count": 4,
   "id": "39f1a9d2",
   "metadata": {},
   "outputs": [
    {
     "name": "stdout",
     "output_type": "stream",
     "text": [
      "\n",
      "Starting PKS retrobiosynthesis with retrotide\n",
      "---------------------------------------------\n",
      "computing module 1\n",
      "   testing 1404 designs\n",
      "   best score is 0.42857142857142855\n",
      "computing module 2\n",
      "   testing 1350 designs\n",
      "   best score is 0.21052631578947367\n",
      "\n",
      "Best PKS design: [[\"AT{'substrate': 'Methylmalonyl-CoA'}\", 'loading: True'], [\"AT{'substrate': 'Malonyl-CoA'}\", 'loading: False']]\n",
      "\n",
      "Closest final product is: CC(=O)CC(=O)O\n"
     ]
    },
    {
     "data": {
      "text/plain": [
       "'Finished PKS synthesis - closest product to the target using the top PKS design of [[\"AT{\\'substrate\\': \\'Methylmalonyl-CoA\\'}\", \\'loading: True\\'], [\"AT{\\'substrate\\': \\'Malonyl-CoA\\'}\", \\'loading: False\\']] is CC(=O)CC(=O)O and it has a similarity score of: 0.42857142857142855 to the target. Moving onto non-PKS synthesis...'"
      ]
     },
     "execution_count": 4,
     "metadata": {},
     "output_type": "execute_result"
    }
   ],
   "source": [
    "biosynth_pipeline_object.run_pks_synthesis(pks_release_mechanism='thiolysis')"
   ]
  },
  {
   "cell_type": "code",
   "execution_count": 5,
   "id": "dd87e20d",
   "metadata": {
    "scrolled": false
   },
   "outputs": [
    {
     "name": "stdout",
     "output_type": "stream",
     "text": [
      "\n",
      "Starting pickaxe expansion on CC(=O)CC(=O)O\n",
      "\n",
      "----------------------------------------\n",
      "Intializing pickaxe object\n"
     ]
    },
    {
     "name": "stderr",
     "output_type": "stream",
     "text": [
      "[01:53:48] WARNING: not removing hydrogen atom without neighbors\n",
      "[01:53:48] WARNING: not removing hydrogen atom without neighbors\n"
     ]
    },
    {
     "name": "stdout",
     "output_type": "stream",
     "text": [
      "\n",
      "Done intializing pickaxe object\n",
      "----------------------------------------\n",
      "\n",
      "1 compounds loaded...\n",
      "(1 after removing stereochemistry)\n",
      "1 target compounds loaded\n",
      "\n",
      "----------------------------------------\n",
      "Expanding Generation 1\n",
      "\n",
      "Generation 1: 0 percent complete\n",
      "Generation 1 finished in 3.729077100753784 s and contains:\n",
      "\t\t109 new compounds\n",
      "\t\t124 new reactions\n",
      "\n",
      "Done expanding Generation: 1.\n",
      "----------------------------------------\n",
      "\n",
      "\n",
      "No pathways to target are found using non-PKS enzymes for 1 step/s and the top PKS module design\n",
      "\n",
      "Attempting non-PKS enzymes for 1 step/s on PKS product from the next 5 best PKS designs. Note you can also try increasing the number of non-PKS enzymatic steps\n",
      "\n",
      "------\n",
      "PKS design 2: [[\"AT{'substrate': 'cemal'}\", 'loading: True'], [\"AT{'substrate': 'Malonyl-CoA'}\", 'loading: False']]\n",
      "\n",
      "PKS product from this PKS design is CC(=O)CC(=O)O with a similarity score of 0.42857142857142855 to the target molecule CCC(=O)O)\n",
      "\n",
      "Starting pickaxe expansion on CC(=O)CC(=O)O\n",
      "\n",
      "----------------------------------------\n",
      "Intializing pickaxe object\n"
     ]
    },
    {
     "name": "stderr",
     "output_type": "stream",
     "text": [
      "[01:53:57] WARNING: not removing hydrogen atom without neighbors\n",
      "[01:53:57] WARNING: not removing hydrogen atom without neighbors\n"
     ]
    },
    {
     "name": "stdout",
     "output_type": "stream",
     "text": [
      "\n",
      "Done intializing pickaxe object\n",
      "----------------------------------------\n",
      "\n",
      "1 compounds loaded...\n",
      "(1 after removing stereochemistry)\n",
      "1 target compounds loaded\n",
      "\n",
      "----------------------------------------\n",
      "Expanding Generation 1\n",
      "\n",
      "Generation 1: 0 percent complete\n",
      "Generation 1 finished in 2.915437936782837 s and contains:\n",
      "\t\t109 new compounds\n",
      "\t\t124 new reactions\n",
      "\n",
      "Done expanding Generation: 1.\n",
      "----------------------------------------\n",
      "\n",
      "\n",
      "No pathways found in 1 step/s from CC(=O)CC(=O)O to CCC(=O)O\n",
      "\n",
      "Moving onto product from next best PKS design\n",
      "\n",
      "------\n",
      "PKS design 3: [[\"AT{'substrate': 'Acetyl-CoA'}\", 'loading: True'], [\"AT{'substrate': 'Malonyl-CoA'}\", 'loading: False']]\n",
      "\n",
      "PKS product from this PKS design is CC(=O)CC(=O)O with a similarity score of 0.42857142857142855 to the target molecule CCC(=O)O)\n",
      "\n",
      "Starting pickaxe expansion on CC(=O)CC(=O)O\n",
      "\n",
      "----------------------------------------\n",
      "Intializing pickaxe object\n"
     ]
    },
    {
     "name": "stderr",
     "output_type": "stream",
     "text": [
      "[01:54:03] WARNING: not removing hydrogen atom without neighbors\n",
      "[01:54:03] WARNING: not removing hydrogen atom without neighbors\n"
     ]
    },
    {
     "name": "stdout",
     "output_type": "stream",
     "text": [
      "\n",
      "Done intializing pickaxe object\n",
      "----------------------------------------\n",
      "\n",
      "1 compounds loaded...\n",
      "(1 after removing stereochemistry)\n",
      "1 target compounds loaded\n",
      "\n",
      "----------------------------------------\n",
      "Expanding Generation 1\n",
      "\n",
      "Generation 1: 0 percent complete\n",
      "Generation 1 finished in 2.8071231842041016 s and contains:\n",
      "\t\t109 new compounds\n",
      "\t\t124 new reactions\n",
      "\n",
      "Done expanding Generation: 1.\n",
      "----------------------------------------\n",
      "\n",
      "\n",
      "No pathways found in 1 step/s from CC(=O)CC(=O)O to CCC(=O)O\n",
      "\n",
      "Moving onto product from next best PKS design\n",
      "\n",
      "------\n",
      "PKS design 4: [[\"AT{'substrate': 'prop'}\", 'loading: True'], [\"AT{'substrate': 'Malonyl-CoA'}\", 'loading: False']]\n",
      "\n",
      "PKS product from this PKS design is CCC(=O)CC(=O)O with a similarity score of 0.3157894736842105 to the target molecule CCC(=O)O)\n",
      "\n",
      "Starting pickaxe expansion on CCC(=O)CC(=O)O\n",
      "\n",
      "----------------------------------------\n",
      "Intializing pickaxe object\n"
     ]
    },
    {
     "name": "stderr",
     "output_type": "stream",
     "text": [
      "[01:54:10] WARNING: not removing hydrogen atom without neighbors\n",
      "[01:54:10] WARNING: not removing hydrogen atom without neighbors\n"
     ]
    },
    {
     "name": "stdout",
     "output_type": "stream",
     "text": [
      "\n",
      "Done intializing pickaxe object\n",
      "----------------------------------------\n",
      "\n",
      "1 compounds loaded...\n",
      "(1 after removing stereochemistry)\n",
      "1 target compounds loaded\n",
      "\n",
      "----------------------------------------\n",
      "Expanding Generation 1\n",
      "\n",
      "Generation 1: 0 percent complete\n",
      "Generation 1 finished in 3.2297561168670654 s and contains:\n",
      "\t\t137 new compounds\n",
      "\t\t151 new reactions\n",
      "\n",
      "Done expanding Generation: 1.\n",
      "----------------------------------------\n",
      "\n",
      "\n",
      "No pathways found in 1 step/s from CCC(=O)CC(=O)O to CCC(=O)O\n",
      "\n",
      "Moving onto product from next best PKS design\n",
      "\n",
      "------\n",
      "PKS design 5: [[\"AT{'substrate': 'butmal'}\", 'loading: True'], [\"AT{'substrate': 'Malonyl-CoA'}\", 'loading: False']]\n",
      "\n",
      "PKS product from this PKS design is CCCC(=O)CC(=O)O with a similarity score of 0.24 to the target molecule CCC(=O)O)\n",
      "\n",
      "Starting pickaxe expansion on CCCC(=O)CC(=O)O\n",
      "\n",
      "----------------------------------------\n",
      "Intializing pickaxe object\n"
     ]
    },
    {
     "name": "stderr",
     "output_type": "stream",
     "text": [
      "[01:54:19] WARNING: not removing hydrogen atom without neighbors\n",
      "[01:54:19] WARNING: not removing hydrogen atom without neighbors\n"
     ]
    },
    {
     "name": "stdout",
     "output_type": "stream",
     "text": [
      "\n",
      "Done intializing pickaxe object\n",
      "----------------------------------------\n",
      "\n",
      "1 compounds loaded...\n",
      "(1 after removing stereochemistry)\n",
      "1 target compounds loaded\n",
      "\n",
      "----------------------------------------\n",
      "Expanding Generation 1\n",
      "\n",
      "Generation 1: 0 percent complete\n",
      "Generation 1 finished in 3.5285630226135254 s and contains:\n",
      "\t\t169 new compounds\n",
      "\t\t183 new reactions\n",
      "\n",
      "Done expanding Generation: 1.\n",
      "----------------------------------------\n",
      "\n",
      "\n",
      "No pathways found in 1 step/s from CCCC(=O)CC(=O)O to CCC(=O)O\n",
      "\n",
      "Moving onto product from next best PKS design\n",
      "\n",
      "------\n",
      "PKS design 6: [[\"AT{'substrate': 'mxmal'}\", 'loading: True'], [\"AT{'substrate': 'Malonyl-CoA'}\", 'loading: False']]\n",
      "\n",
      "PKS product from this PKS design is COCC(=O)CC(=O)O with a similarity score of 0.24 to the target molecule CCC(=O)O)\n",
      "\n",
      "Starting pickaxe expansion on COCC(=O)CC(=O)O\n",
      "\n",
      "----------------------------------------\n",
      "Intializing pickaxe object\n"
     ]
    },
    {
     "name": "stderr",
     "output_type": "stream",
     "text": [
      "[01:54:28] WARNING: not removing hydrogen atom without neighbors\n",
      "[01:54:28] WARNING: not removing hydrogen atom without neighbors\n"
     ]
    },
    {
     "name": "stdout",
     "output_type": "stream",
     "text": [
      "\n",
      "Done intializing pickaxe object\n",
      "----------------------------------------\n",
      "\n",
      "1 compounds loaded...\n",
      "(1 after removing stereochemistry)\n",
      "1 target compounds loaded\n",
      "\n",
      "----------------------------------------\n",
      "Expanding Generation 1\n",
      "\n",
      "Generation 1: 0 percent complete\n",
      "Generation 1 finished in 3.2867090702056885 s and contains:\n",
      "\t\t132 new compounds\n",
      "\t\t144 new reactions\n",
      "\n",
      "Done expanding Generation: 1.\n",
      "----------------------------------------\n",
      "\n",
      "\n",
      "No pathways found in 1 step/s from COCC(=O)CC(=O)O to CCC(=O)O\n",
      "\n",
      "Moving onto product from next best PKS design\n"
     ]
    }
   ],
   "source": [
    "non_pks_pathways = biosynth_pipeline_object.run_non_pks_synthesis_post_pks(max_designs=5)"
   ]
  },
  {
   "cell_type": "code",
   "execution_count": null,
   "id": "f8e18c06",
   "metadata": {},
   "outputs": [],
   "source": []
  }
 ],
 "metadata": {
  "kernelspec": {
   "display_name": "equilibrator_env",
   "language": "python",
   "name": "equilibrator_env"
  },
  "language_info": {
   "codemirror_mode": {
    "name": "ipython",
    "version": 3
   },
   "file_extension": ".py",
   "mimetype": "text/x-python",
   "name": "python",
   "nbconvert_exporter": "python",
   "pygments_lexer": "ipython3",
   "version": "3.9.17"
  }
 },
 "nbformat": 4,
 "nbformat_minor": 5
}
