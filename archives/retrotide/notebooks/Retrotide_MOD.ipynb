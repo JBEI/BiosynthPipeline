{
 "cells": [
  {
   "cell_type": "code",
   "execution_count": 1,
   "id": "6bd17141",
   "metadata": {},
   "outputs": [
    {
     "name": "stderr",
     "output_type": "stream",
     "text": [
      "[18:07:55] product atom-mapping number 10 not found in reactants.\n",
      "[18:07:55] product atom-mapping number 10 not found in reactants.\n"
     ]
    }
   ],
   "source": [
    "from retrotide import structureDB, designPKS\n",
    "import retrotide\n",
    "from rdkit import Chem\n",
    "from rdkit.Chem import AllChem\n",
    "from rdkit.Chem import Draw, rdFMCS\n",
    "from rdkit.Chem.Draw import IPythonConsole\n",
    "%matplotlib inline\n",
    "from collections import OrderedDict\n",
    "from IPython.display import SVG\n",
    "from copy import deepcopy\n",
    "from rdkit.Chem import rdDepictor\n",
    "from rdkit.Chem.Draw import rdMolDraw2D"
   ]
  },
  {
   "cell_type": "code",
   "execution_count": null,
   "id": "03d55207",
   "metadata": {},
   "outputs": [],
   "source": [
    "KS_rxn = AllChem.ReactionFromSmarts(('[#8:4]=[#6:3](-[#8:5])-[#6@:2]-[#6:1].[#6:6](=[#8:7])-[#16:8]>>[#8:4]=[#6:3]=[#8:5].[#6@@:2](-[#6:1])-[#6:6]=[#8:7].[#16:8]'))\n",
    "starter_unit = Chem.MolFromSmiles((starters_dict['mal'])) # malonly-CoA starter\n",
    "extender_unit = Chem.MolFromSmiles(extenders_dict['mal']) # malonyl-CoA extender\n",
    "products = KS_rxn.RunReactants((extender_unit,starter_unit))"
   ]
  },
  {
   "cell_type": "code",
   "execution_count": 32,
   "id": "bf290044",
   "metadata": {},
   "outputs": [],
   "source": [
    "cyanohydrin_rxn = AllChem.ReactionFromSmarts((\"[CX3!$(*[O,S,N])+0:1]=[O+0:2].[C+0H:3]#[N+0:4]>>[*:1]([*:3]#[*:4])[*:2]\"))\n",
    "acetonitrile = Chem.MolFromSmiles(('C#N'))\n",
    "substrate = Chem.MolFromSmiles(('CCC(C(C)C(CC)=O)=O'))\n",
    "products = cyanohydrin_rxn.RunReactants((substrate,acetonitrile))"
   ]
  },
  {
   "cell_type": "code",
   "execution_count": 33,
   "id": "b2d6fcca",
   "metadata": {},
   "outputs": [
    {
     "data": {
      "text/plain": [
       "((<rdkit.Chem.rdchem.Mol at 0x7fb06bb0f270>,),\n",
       " (<rdkit.Chem.rdchem.Mol at 0x7fb06bb0fa50>,))"
      ]
     },
     "execution_count": 33,
     "metadata": {},
     "output_type": "execute_result"
    }
   ],
   "source": [
    "products"
   ]
  },
  {
   "cell_type": "code",
   "execution_count": 34,
   "id": "a4a55abe",
   "metadata": {},
   "outputs": [
    {
     "data": {
      "image/png": "[encoded data removed]",
      "text/plain": [
       "<rdkit.Chem.rdchem.Mol at 0x7fb06bb0f270>"
      ]
     },
     "execution_count": 34,
     "metadata": {},
     "output_type": "execute_result"
    }
   ],
   "source": [
    "products[0][0]"
   ]
  },
  {
   "cell_type": "code",
   "execution_count": 35,
   "id": "6693f0ca",
   "metadata": {},
   "outputs": [
    {
     "data": {
      "text/plain": [
       "'CCC(=O)C(C)C(O)(C#N)CC'"
      ]
     },
     "execution_count": 35,
     "metadata": {},
     "output_type": "execute_result"
    }
   ],
   "source": [
    "Chem.MolToSmiles(products[0][0])"
   ]
  },
  {
   "cell_type": "code",
   "execution_count": 19,
   "id": "510d13ec",
   "metadata": {},
   "outputs": [
    {
     "ename": "SyntaxError",
     "evalue": "invalid syntax (4038714161.py, line 1)",
     "output_type": "error",
     "traceback": [
      "\u001b[0;36m  Cell \u001b[0;32mIn[19], line 1\u001b[0;36m\u001b[0m\n\u001b[0;31m    r'C#N'.'CC(=O)CC(C)=O'>>'CC(=O)CC(C)(O)C#N'\u001b[0m\n\u001b[0m           ^\u001b[0m\n\u001b[0;31mSyntaxError\u001b[0m\u001b[0;31m:\u001b[0m invalid syntax\n"
     ]
    }
   ],
   "source": [
    "r'C#N'.'CC(=O)CC(C)=O'>>'CC(=O)CC(C)(O)C#N'"
   ]
  },
  {
   "cell_type": "markdown",
   "id": "fb6d476c",
   "metadata": {},
   "source": [
    "#### Some RDKit helper functions"
   ]
  },
  {
   "cell_type": "code",
   "execution_count": 2,
   "id": "c0c0cf06",
   "metadata": {},
   "outputs": [],
   "source": [
    "def get_atom_mappings(smiles):\n",
    "    \"\"\"\n",
    "    Assigns unique atom map numbers to each atom in a molecule represented by SMILES.\n",
    "\n",
    "    Parameters:\n",
    "    - smiles (str): A SMILES string representing a molecule.\n",
    "\n",
    "    Returns:\n",
    "    - rdkit.Chem.Mol: A RDKit Mol object with \"molAtomMapNumber\" properties set for each atom.\n",
    "    \n",
    "    Example:\n",
    "    >>> smiles = \"CCO\"\n",
    "    >>> mol = get_atom_mappings(smiles)\n",
    "    >>> Chem.MolToSmiles(mol)\n",
    "    'C[CH2:1]O'\n",
    "    \n",
    "    Note:\n",
    "    The function modifies the input molecule by setting the \"molAtomMapNumber\" property\n",
    "    for each atom to its index in the molecule plus 1.\n",
    "    \"\"\"\n",
    "    mol = Chem.MolFromSmiles(smiles)\n",
    "\n",
    "    # Iterate over the atoms\n",
    "    for i, atom in enumerate(mol.GetAtoms()):\n",
    "        # For each atom, set the property \"molAtomMapNumber\" to a custom number\n",
    "        # Say, the index of the atom in the molecule\n",
    "        atom.SetProp(\"molAtomMapNumber\", str(atom.GetIdx() + 1))\n",
    "\n",
    "    return mol"
   ]
  },
  {
   "cell_type": "code",
   "execution_count": 3,
   "id": "f7ad1b13",
   "metadata": {},
   "outputs": [
    {
     "data": {
      "image/png": "[encoded data removed]",
      "text/plain": [
       "<rdkit.Chem.rdchem.Mol at 0x7fb9fa6c0c80>"
      ]
     },
     "execution_count": 3,
     "metadata": {},
     "output_type": "execute_result"
    }
   ],
   "source": [
    "### Example usage\n",
    "mol = get_atom_mappings('CCC(=O)CC(=O)[S]')\n",
    "mol"
   ]
  },
  {
   "cell_type": "code",
   "execution_count": 4,
   "id": "e4691fe2",
   "metadata": {},
   "outputs": [],
   "source": [
    "def is_substructure_present(smiles_list,substructure):\n",
    "    for idx,smiles in enumerate(smiles_list):\n",
    "        m = Chem.MolFromSmiles(smiles)\n",
    "        print(\"Structure {}: pattern found {}\".format(idx+1,m.HasSubstructMatch(substructure)))"
   ]
  },
  {
   "cell_type": "code",
   "execution_count": 5,
   "id": "38847197",
   "metadata": {},
   "outputs": [
    {
     "name": "stdout",
     "output_type": "stream",
     "text": [
      "Structure 1: pattern found True\n"
     ]
    }
   ],
   "source": [
    "### Example usage\n",
    "smiles_list = ['CC(=O)CC(=O)[S]']\n",
    "substructure = Chem.MolFromSmarts('[C:1]-[C:2](=[O:3])-[C:4]-[C:5](=[O:6])-[S:7]')\n",
    "is_substructure_present(smiles_list,substructure)"
   ]
  },
  {
   "cell_type": "code",
   "execution_count": 6,
   "id": "3aa5523d",
   "metadata": {},
   "outputs": [],
   "source": [
    "def draw_substruct_match(mol, substructure, size=(400, 200)):\n",
    "    \"\"\"\n",
    "    Draws the provided substructure match within the given molecule and returns the SVG representation.\n",
    "\n",
    "    Parameters:\n",
    "    - mol (rdkit.Chem.Mol): The RDKit Mol object representing the molecule.\n",
    "    - substructure (rdkit.Chem.Mol): The RDKit Mol object representing the substructure to be highlighted.\n",
    "    - size (tuple, optional): The size of the drawing in pixels. Default is (400, 200).\n",
    "\n",
    "    Returns:\n",
    "    - str: SVG representation of the molecule with the specified substructure highlighted.\n",
    "\n",
    "    Example:\n",
    "    >>> mol = Chem.MolFromSmiles(\"CCO\")\n",
    "    >>> substructure = Chem.MolFromSmarts(\"[CH2:1]\")\n",
    "    >>> svg_representation = draw_substruct_match(mol, substructure)\n",
    "    >>> SVG(svg_representation)\n",
    "    \n",
    "    Note:\n",
    "    The function creates a copy of the input molecule and substructure to avoid modifying the original objects.\n",
    "    The returned SVG representation includes the highlighting of atoms in the specified substructure match.\n",
    "    \"\"\"\n",
    "    mol = deepcopy(mol)\n",
    "    substructure = deepcopy(substructure)\n",
    "    drawer = rdMolDraw2D.MolDraw2DSVG(size[0], size[1])\n",
    "\n",
    "    # highlightAtoms expects only one tuple, not tuple of tuples.\n",
    "    # So it needs to be merged into a single tuple\n",
    "    matches = sum(mol.GetSubstructMatches(substructure), ())\n",
    "    drawer.DrawMolecule(mol, highlightAtoms=matches)\n",
    "    drawer.FinishDrawing()\n",
    "    svg = drawer.GetDrawingText()\n",
    "\n",
    "    return svg.replace('svg:', '')"
   ]
  },
  {
   "cell_type": "code",
   "execution_count": 7,
   "id": "430c019a",
   "metadata": {
    "scrolled": true
   },
   "outputs": [
    {
     "data": {
      "image/svg+xml": [
       "<svg xmlns=\"http://www.w3.org/2000/svg\" xmlns:rdkit=\"http://www.rdkit.org/xml\" xmlns:xlink=\"http://www.w3.org/1999/xlink\" version=\"1.1\" baseProfile=\"full\" xml:space=\"preserve\" width=\"400px\" height=\"200px\" viewBox=\"0 0 400 200\">\n",
       "<!-- END OF HEADER -->\n",
       "<rect style=\"opacity:1.0;fill:#FFFFFF;stroke:none\" width=\"400.0\" height=\"200.0\" x=\"0.0\" y=\"0.0\"> </rect>\n",
       "<path class=\"bond-1 atom-1 atom-2\" d=\"M 250.6,113.3 L 315.8,149.8 L 307.5,164.6 L 242.3,128.1 L 242.2,118.3 Z\" style=\"fill:#FF7F7F;fill-rule:evenodd;fill-opacity:1;stroke:#FF7F7F;stroke-width:0.0px;stroke-linecap:butt;stroke-linejoin:miter;stroke-opacity:1;\"/>\n",
       "<path class=\"bond-2 atom-2 atom-3\" d=\"M 249.6,38.6 L 250.6,113.3 L 242.2,118.3 L 233.6,113.6 L 232.6,38.9 Z\" style=\"fill:#FF7F7F;fill-rule:evenodd;fill-opacity:1;stroke:#FF7F7F;stroke-width:0.0px;stroke-linecap:butt;stroke-linejoin:miter;stroke-opacity:1;\"/>\n",
       "<path class=\"bond-3 atom-2 atom-4\" d=\"M 233.6,113.6 L 242.2,118.3 L 242.3,128.1 L 173.9,168.9 L 173.6,149.3 Z\" style=\"fill:#FF7F7F;fill-rule:evenodd;fill-opacity:1;stroke:#FF7F7F;stroke-width:0.0px;stroke-linecap:butt;stroke-linejoin:miter;stroke-opacity:1;\"/>\n",
       "<path class=\"bond-4 atom-4 atom-5\" d=\"M 112.7,115.2 L 173.6,149.3 L 173.9,168.9 L 104.4,130.0 L 104.3,120.2 Z\" style=\"fill:#FF7F7F;fill-rule:evenodd;fill-opacity:1;stroke:#FF7F7F;stroke-width:0.0px;stroke-linecap:butt;stroke-linejoin:miter;stroke-opacity:1;\"/>\n",
       "<path class=\"bond-5 atom-5 atom-6\" d=\"M 95.8,115.4 L 104.3,120.2 L 104.4,130.0 L 40.3,168.2 L 31.6,153.6 Z\" style=\"fill:#FF7F7F;fill-rule:evenodd;fill-opacity:1;stroke:#FF7F7F;stroke-width:0.0px;stroke-linecap:butt;stroke-linejoin:miter;stroke-opacity:1;\"/>\n",
       "<path class=\"bond-6 atom-5 atom-7\" d=\"M 111.7,40.5 L 112.7,115.2 L 104.3,120.2 L 95.8,115.4 L 94.8,40.7 Z\" style=\"fill:#FF7F7F;fill-rule:evenodd;fill-opacity:1;stroke:#FF7F7F;stroke-width:0.0px;stroke-linecap:butt;stroke-linejoin:miter;stroke-opacity:1;\"/>\n",
       "<ellipse cx=\"311.6\" cy=\"157.2\" rx=\"15.9\" ry=\"15.9\" class=\"atom-1\" style=\"fill:#FF7F7F;fill-rule:evenodd;stroke:#FF7F7F;stroke-width:1.0px;stroke-linecap:butt;stroke-linejoin:miter;stroke-opacity:1\"/>\n",
       "<ellipse cx=\"242.2\" cy=\"118.3\" rx=\"15.9\" ry=\"15.9\" class=\"atom-2\" style=\"fill:#FF7F7F;fill-rule:evenodd;stroke:#FF7F7F;stroke-width:1.0px;stroke-linecap:butt;stroke-linejoin:miter;stroke-opacity:1\"/>\n",
       "<ellipse cx=\"241.1\" cy=\"38.9\" rx=\"15.9\" ry=\"16.4\" class=\"atom-3\" style=\"fill:#FF7F7F;fill-rule:evenodd;stroke:#FF7F7F;stroke-width:1.0px;stroke-linecap:butt;stroke-linejoin:miter;stroke-opacity:1\"/>\n",
       "<ellipse cx=\"173.8\" cy=\"159.1\" rx=\"15.9\" ry=\"15.9\" class=\"atom-4\" style=\"fill:#FF7F7F;fill-rule:evenodd;stroke:#FF7F7F;stroke-width:1.0px;stroke-linecap:butt;stroke-linejoin:miter;stroke-opacity:1\"/>\n",
       "<ellipse cx=\"104.3\" cy=\"120.2\" rx=\"15.9\" ry=\"15.9\" class=\"atom-5\" style=\"fill:#FF7F7F;fill-rule:evenodd;stroke:#FF7F7F;stroke-width:1.0px;stroke-linecap:butt;stroke-linejoin:miter;stroke-opacity:1\"/>\n",
       "<ellipse cx=\"35.9\" cy=\"161.1\" rx=\"15.9\" ry=\"16.4\" class=\"atom-6\" style=\"fill:#FF7F7F;fill-rule:evenodd;stroke:#FF7F7F;stroke-width:1.0px;stroke-linecap:butt;stroke-linejoin:miter;stroke-opacity:1\"/>\n",
       "<ellipse cx=\"103.3\" cy=\"40.9\" rx=\"15.9\" ry=\"16.3\" class=\"atom-7\" style=\"fill:#FF7F7F;fill-rule:evenodd;stroke:#FF7F7F;stroke-width:1.0px;stroke-linecap:butt;stroke-linejoin:miter;stroke-opacity:1\"/>\n",
       "<path class=\"bond-0 atom-0 atom-1\" d=\"M 380.0,116.5 L 311.6,157.2\" style=\"fill:none;fill-rule:evenodd;stroke:#000000;stroke-width:2.0px;stroke-linecap:butt;stroke-linejoin:miter;stroke-opacity:1\"/>\n",
       "<path class=\"bond-1 atom-1 atom-2\" d=\"M 311.6,157.2 L 242.2,118.3\" style=\"fill:none;fill-rule:evenodd;stroke:#000000;stroke-width:2.0px;stroke-linecap:butt;stroke-linejoin:miter;stroke-opacity:1\"/>\n",
       "<path class=\"bond-2 atom-2 atom-3\" d=\"M 248.2,121.7 L 247.7,87.4\" style=\"fill:none;fill-rule:evenodd;stroke:#000000;stroke-width:2.0px;stroke-linecap:butt;stroke-linejoin:miter;stroke-opacity:1\"/>\n",
       "<path class=\"bond-2 atom-2 atom-3\" d=\"M 247.7,87.4 L 247.3,53.1\" style=\"fill:none;fill-rule:evenodd;stroke:#FF0000;stroke-width:2.0px;stroke-linecap:butt;stroke-linejoin:miter;stroke-opacity:1\"/>\n",
       "<path class=\"bond-2 atom-2 atom-3\" d=\"M 236.2,121.9 L 235.8,87.5\" style=\"fill:none;fill-rule:evenodd;stroke:#000000;stroke-width:2.0px;stroke-linecap:butt;stroke-linejoin:miter;stroke-opacity:1\"/>\n",
       "<path class=\"bond-2 atom-2 atom-3\" d=\"M 235.8,87.5 L 235.3,53.2\" style=\"fill:none;fill-rule:evenodd;stroke:#FF0000;stroke-width:2.0px;stroke-linecap:butt;stroke-linejoin:miter;stroke-opacity:1\"/>\n",
       "<path class=\"bond-3 atom-2 atom-4\" d=\"M 242.2,118.3 L 173.8,159.1\" style=\"fill:none;fill-rule:evenodd;stroke:#000000;stroke-width:2.0px;stroke-linecap:butt;stroke-linejoin:miter;stroke-opacity:1\"/>\n",
       "<path class=\"bond-4 atom-4 atom-5\" d=\"M 173.8,159.1 L 104.3,120.2\" style=\"fill:none;fill-rule:evenodd;stroke:#000000;stroke-width:2.0px;stroke-linecap:butt;stroke-linejoin:miter;stroke-opacity:1\"/>\n",
       "<path class=\"bond-5 atom-5 atom-6\" d=\"M 104.2,113.3 L 75.0,130.7\" style=\"fill:none;fill-rule:evenodd;stroke:#000000;stroke-width:2.0px;stroke-linecap:butt;stroke-linejoin:miter;stroke-opacity:1\"/>\n",
       "<path class=\"bond-5 atom-5 atom-6\" d=\"M 75.0,130.7 L 45.8,148.0\" style=\"fill:none;fill-rule:evenodd;stroke:#FF0000;stroke-width:2.0px;stroke-linecap:butt;stroke-linejoin:miter;stroke-opacity:1\"/>\n",
       "<path class=\"bond-5 atom-5 atom-6\" d=\"M 110.3,123.5 L 81.1,140.9\" style=\"fill:none;fill-rule:evenodd;stroke:#000000;stroke-width:2.0px;stroke-linecap:butt;stroke-linejoin:miter;stroke-opacity:1\"/>\n",
       "<path class=\"bond-5 atom-5 atom-6\" d=\"M 81.1,140.9 L 51.9,158.3\" style=\"fill:none;fill-rule:evenodd;stroke:#FF0000;stroke-width:2.0px;stroke-linecap:butt;stroke-linejoin:miter;stroke-opacity:1\"/>\n",
       "<path class=\"bond-6 atom-5 atom-7\" d=\"M 104.3,120.2 L 103.9,87.6\" style=\"fill:none;fill-rule:evenodd;stroke:#000000;stroke-width:2.0px;stroke-linecap:butt;stroke-linejoin:miter;stroke-opacity:1\"/>\n",
       "<path class=\"bond-6 atom-5 atom-7\" d=\"M 103.9,87.6 L 103.4,55.1\" style=\"fill:none;fill-rule:evenodd;stroke:#CCCC00;stroke-width:2.0px;stroke-linecap:butt;stroke-linejoin:miter;stroke-opacity:1\"/>\n",
       "<path d=\"M 315.0,155.2 L 311.6,157.2 L 308.1,155.3\" style=\"fill:none;stroke:#000000;stroke-width:2.0px;stroke-linecap:butt;stroke-linejoin:miter;stroke-opacity:1;\"/>\n",
       "<path d=\"M 245.6,120.3 L 242.2,118.3 L 238.7,120.4\" style=\"fill:none;stroke:#000000;stroke-width:2.0px;stroke-linecap:butt;stroke-linejoin:miter;stroke-opacity:1;\"/>\n",
       "<path d=\"M 177.2,157.0 L 173.8,159.1 L 170.3,157.1\" style=\"fill:none;stroke:#000000;stroke-width:2.0px;stroke-linecap:butt;stroke-linejoin:miter;stroke-opacity:1;\"/>\n",
       "<path d=\"M 107.8,122.1 L 104.3,120.2 L 104.3,118.6\" style=\"fill:none;stroke:#000000;stroke-width:2.0px;stroke-linecap:butt;stroke-linejoin:miter;stroke-opacity:1;\"/>\n",
       "<path class=\"atom-3\" d=\"M 230.7 38.8 Q 230.7 33.4, 233.4 30.4 Q 236.1 27.4, 241.1 27.4 Q 246.1 27.4, 248.8 30.4 Q 251.4 33.4, 251.4 38.8 Q 251.4 44.3, 248.7 47.4 Q 246.0 50.5, 241.1 50.5 Q 236.1 50.5, 233.4 47.4 Q 230.7 44.3, 230.7 38.8 M 241.1 48.0 Q 244.5 48.0, 246.4 45.7 Q 248.3 43.3, 248.3 38.8 Q 248.3 34.4, 246.4 32.2 Q 244.5 29.9, 241.1 29.9 Q 237.7 29.9, 235.8 32.1 Q 233.9 34.4, 233.9 38.8 Q 233.9 43.4, 235.8 45.7 Q 237.7 48.0, 241.1 48.0 \" fill=\"#FF0000\"/>\n",
       "<path class=\"atom-6\" d=\"M 25.6 161.0 Q 25.6 155.5, 28.2 152.5 Q 30.9 149.5, 35.9 149.5 Q 40.9 149.5, 43.6 152.5 Q 46.3 155.5, 46.3 161.0 Q 46.3 166.4, 43.6 169.6 Q 40.9 172.6, 35.9 172.6 Q 31.0 172.6, 28.2 169.6 Q 25.6 166.5, 25.6 161.0 M 35.9 170.1 Q 39.4 170.1, 41.2 167.8 Q 43.1 165.5, 43.1 161.0 Q 43.1 156.5, 41.2 154.3 Q 39.4 152.0, 35.9 152.0 Q 32.5 152.0, 30.6 154.3 Q 28.8 156.5, 28.8 161.0 Q 28.8 165.5, 30.6 167.8 Q 32.5 170.1, 35.9 170.1 \" fill=\"#FF0000\"/>\n",
       "<path class=\"atom-7\" d=\"M 96.9 48.3 Q 97.1 48.4, 98.2 48.9 Q 99.2 49.3, 100.4 49.6 Q 101.6 49.9, 102.7 49.9 Q 104.8 49.9, 106.1 48.8 Q 107.3 47.8, 107.3 46.0 Q 107.3 44.7, 106.7 44.0 Q 106.1 43.2, 105.1 42.8 Q 104.2 42.4, 102.6 41.9 Q 100.6 41.3, 99.4 40.7 Q 98.2 40.1, 97.3 38.9 Q 96.5 37.7, 96.5 35.7 Q 96.5 32.9, 98.4 31.1 Q 100.4 29.4, 104.2 29.4 Q 106.8 29.4, 109.7 30.6 L 109.0 33.1 Q 106.3 31.9, 104.3 31.9 Q 102.1 31.9, 100.9 32.9 Q 99.7 33.8, 99.7 35.3 Q 99.7 36.5, 100.3 37.3 Q 100.9 38.0, 101.8 38.4 Q 102.7 38.8, 104.3 39.3 Q 106.3 39.9, 107.5 40.6 Q 108.7 41.2, 109.6 42.5 Q 110.5 43.8, 110.5 46.0 Q 110.5 49.1, 108.4 50.8 Q 106.3 52.4, 102.8 52.4 Q 100.8 52.4, 99.3 52.0 Q 97.8 51.6, 96.0 50.8 L 96.9 48.3 \" fill=\"#CCCC00\"/>\n",
       "<path class=\"atom-7\" d=\"M 116.8,40.6 L 116.8,40.7 L 116.8,40.9 L 116.8,41.0 L 116.8,41.1 L 116.7,41.3 L 116.6,41.4 L 116.6,41.5 L 116.5,41.6 L 116.4,41.7 L 116.3,41.8 L 116.2,41.9 L 116.1,42.0 L 115.9,42.0 L 115.8,42.1 L 115.7,42.1 L 115.6,42.2 L 115.4,42.2 L 115.3,42.2 L 115.2,42.2 L 115.0,42.2 L 114.9,42.1 L 114.7,42.1 L 114.6,42.1 L 114.5,42.0 L 114.4,41.9 L 114.3,41.8 L 114.2,41.8 L 114.1,41.7 L 114.0,41.6 L 113.9,41.4 L 113.8,41.3 L 113.8,41.2 L 113.7,41.1 L 113.7,40.9 L 113.7,40.8 L 113.7,40.7 L 113.7,40.5 L 113.7,40.4 L 113.7,40.3 L 113.7,40.1 L 113.8,40.0 L 113.8,39.9 L 113.9,39.8 L 114.0,39.6 L 114.1,39.5 L 114.2,39.4 L 114.3,39.3 L 114.4,39.3 L 114.5,39.2 L 114.6,39.1 L 114.7,39.1 L 114.9,39.0 L 115.0,39.0 L 115.2,39.0 L 115.3,39.0 L 115.4,39.0 L 115.6,39.0 L 115.7,39.1 L 115.8,39.1 L 115.9,39.2 L 116.1,39.2 L 116.2,39.3 L 116.3,39.4 L 116.4,39.5 L 116.5,39.6 L 116.6,39.7 L 116.6,39.8 L 116.7,39.9 L 116.8,40.1 L 116.8,40.2 L 116.8,40.3 L 116.8,40.5 L 116.8,40.6 L 115.3,40.6 Z\" style=\"fill:#000000;fill-rule:evenodd;fill-opacity:1;stroke:#000000;stroke-width:0.0px;stroke-linecap:butt;stroke-linejoin:miter;stroke-opacity:1;\"/>\n",
       "</svg>"
      ],
      "text/plain": [
       "<IPython.core.display.SVG object>"
      ]
     },
     "execution_count": 7,
     "metadata": {},
     "output_type": "execute_result"
    }
   ],
   "source": [
    "### Example usage\n",
    "substructure = Chem.MolFromSmarts('[C:1]-[C:2](=[O:3])-[C:4]-[C:5](=[O:6])-[S:7]')\n",
    "mol = Chem.MolFromSmiles('CCC(=O)CC(=O)[S]')\n",
    "SVG(draw_substruct_match(mol,substructure))"
   ]
  },
  {
   "cell_type": "markdown",
   "id": "da2a312d",
   "metadata": {},
   "source": [
    "### Type I PKS starters and extenders"
   ]
  },
  {
   "cell_type": "markdown",
   "id": "7e15b612",
   "metadata": {},
   "source": [
    "#### malonyl-CoA as a starter unit"
   ]
  },
  {
   "cell_type": "markdown",
   "id": "2f562da1",
   "metadata": {},
   "source": [
    "Malonyl-CoA has 3 carbon atoms and the following structure but recall that in the loading module, the Ketosynthase-like `KSq` domain will decarboxylate malonyl-CoA such that only two carbon atoms are loaded. Read more about the `KSq` domain here: https://pubs.acs.org/doi/full/10.1021/acschembio.1c00856"
   ]
  },
  {
   "cell_type": "code",
   "execution_count": 8,
   "id": "9b10bba8",
   "metadata": {
    "scrolled": true
   },
   "outputs": [
    {
     "data": {
      "image/png": "[encoded data removed]",
      "text/plain": [
       "<rdkit.Chem.rdchem.Mol at 0x7fb9fb049580>"
      ]
     },
     "execution_count": 8,
     "metadata": {},
     "output_type": "execute_result"
    }
   ],
   "source": [
    "Chem.MolFromSmiles('O=C(O)CC(=O)[S]')"
   ]
  },
  {
   "cell_type": "markdown",
   "id": "1c193589",
   "metadata": {},
   "source": [
    "Thus, as the starter unit, we will write the SMILES of the decarboxylated malonyl-CoA as `CC(=O)[S]`"
   ]
  },
  {
   "cell_type": "code",
   "execution_count": 9,
   "id": "e99845ea",
   "metadata": {},
   "outputs": [
    {
     "data": {
      "image/png": "[encoded data removed]",
      "text/plain": [
       "<rdkit.Chem.rdchem.Mol at 0x7fb9fb0495f0>"
      ]
     },
     "execution_count": 9,
     "metadata": {},
     "output_type": "execute_result"
    }
   ],
   "source": [
    "Chem.MolFromSmiles('CC(=O)[S]')"
   ]
  },
  {
   "cell_type": "markdown",
   "id": "795fc94d",
   "metadata": {},
   "source": [
    "#### methylmalonyl-CoA as a starter unit"
   ]
  },
  {
   "cell_type": "markdown",
   "id": "4ddf2592",
   "metadata": {},
   "source": [
    "Similarly, even though methylmalonyl-CoA has four carbon atoms and the following structure (drawn without stereochemistry), it also undergoes decarboxylation with the `KSq` domain to load only three carbon atoms"
   ]
  },
  {
   "cell_type": "code",
   "execution_count": 10,
   "id": "0f12661b",
   "metadata": {},
   "outputs": [
    {
     "data": {
      "image/png": "[encoded data removed]",
      "text/plain": [
       "<rdkit.Chem.rdchem.Mol at 0x7fb9fb0494a0>"
      ]
     },
     "execution_count": 10,
     "metadata": {},
     "output_type": "execute_result"
    }
   ],
   "source": [
    "Chem.MolFromSmiles('CC(C(=O)O)C(=O)[S]')"
   ]
  },
  {
   "cell_type": "markdown",
   "id": "2b5e4d2b",
   "metadata": {},
   "source": [
    "Thus, as the starter unit, we will write the SMILES of the decarboxylated methylmalonyl-CoA as `CCC(=O)[S]`"
   ]
  },
  {
   "cell_type": "code",
   "execution_count": 11,
   "id": "87d32473",
   "metadata": {},
   "outputs": [
    {
     "data": {
      "image/png": "[encoded data removed]",
      "text/plain": [
       "<rdkit.Chem.rdchem.Mol at 0x7fb9fb049970>"
      ]
     },
     "execution_count": 11,
     "metadata": {},
     "output_type": "execute_result"
    }
   ],
   "source": [
    "Chem.MolFromSmiles('CCC(=O)[S]')"
   ]
  },
  {
   "cell_type": "markdown",
   "id": "5ec61d8a",
   "metadata": {},
   "source": [
    "#### Dictionary of various starter and extender units"
   ]
  },
  {
   "cell_type": "code",
   "execution_count": 12,
   "id": "730f6f97",
   "metadata": {},
   "outputs": [],
   "source": [
    "starters_dict = {'mal':'CC(=O)[S]',\n",
    "                 'mmal':'CCC(=O)[S]',\n",
    "                 'allylmal': 'C=CCC(=O)[S]'}\n",
    "\n",
    "\n",
    "extenders_dict = {'mal':'O=C(O)CC(=O)[S]',\n",
    "                  'mmal':'C[C@@H](C(=O)O)C(=O)[S]',\n",
    "                  'allylmal': 'C=CCC(C(=O)O)C(=O)[S]'}"
   ]
  },
  {
   "cell_type": "code",
   "execution_count": 97,
   "id": "a08bed86",
   "metadata": {},
   "outputs": [
    {
     "data": {
      "image/png": "[encoded data removed]",
      "text/plain": [
       "<rdkit.Chem.rdchem.Mol at 0x7fb9dbe7d660>"
      ]
     },
     "execution_count": 97,
     "metadata": {},
     "output_type": "execute_result"
    }
   ],
   "source": [
    "Chem.MolFromSmiles('C=CCC(=O)[S]')"
   ]
  },
  {
   "cell_type": "markdown",
   "id": "ce60496f",
   "metadata": {},
   "source": [
    "#### malonyl-CoA as an extender unit"
   ]
  },
  {
   "cell_type": "code",
   "execution_count": 13,
   "id": "63a9809b",
   "metadata": {},
   "outputs": [
    {
     "data": {
      "image/png": "[encoded data removed]",
      "text/plain": [
       "<rdkit.Chem.rdchem.Mol at 0x7fb9fb049890>"
      ]
     },
     "execution_count": 13,
     "metadata": {},
     "output_type": "execute_result"
    }
   ],
   "source": [
    "Chem.MolFromSmiles('O=C(O)CC(=O)[S]')"
   ]
  },
  {
   "cell_type": "markdown",
   "id": "2da3cac1",
   "metadata": {},
   "source": [
    "#### methylmalonyl-CoA as an extender unit"
   ]
  },
  {
   "cell_type": "code",
   "execution_count": 14,
   "id": "75867007",
   "metadata": {},
   "outputs": [
    {
     "data": {
      "image/png": "[encoded data removed]",
      "text/plain": [
       "<rdkit.Chem.rdchem.Mol at 0x7fb9fb049740>"
      ]
     },
     "execution_count": 14,
     "metadata": {},
     "output_type": "execute_result"
    }
   ],
   "source": [
    "Chem.MolFromSmiles('C[C@@H](C(=O)O)C(=O)[S]')"
   ]
  },
  {
   "cell_type": "markdown",
   "id": "109c71d1",
   "metadata": {},
   "source": [
    "### PKS operators"
   ]
  },
  {
   "cell_type": "markdown",
   "id": "61837d6e",
   "metadata": {},
   "source": [
    "### Ketosynthases (KS)"
   ]
  },
  {
   "cell_type": "markdown",
   "id": "00557f7b",
   "metadata": {},
   "source": [
    "#### Writing SMARTS operators with stereochemistry"
   ]
  },
  {
   "cell_type": "markdown",
   "id": "271c0058",
   "metadata": {},
   "source": [
    "Not sure what the Retrotide operator for KS is but could it be written as a decarboxylation first and then a addition?"
   ]
  },
  {
   "cell_type": "markdown",
   "id": "afad960b",
   "metadata": {},
   "source": [
    "First, let's extract the atom mappings of methylmalonyl-CoA"
   ]
  },
  {
   "cell_type": "code",
   "execution_count": 15,
   "id": "dc41125f",
   "metadata": {},
   "outputs": [
    {
     "data": {
      "image/png": "[encoded data removed]",
      "text/plain": [
       "<rdkit.Chem.rdchem.Mol at 0x7fb9fb049ac0>"
      ]
     },
     "execution_count": 15,
     "metadata": {},
     "output_type": "execute_result"
    }
   ],
   "source": [
    "get_atom_mappings('C[C@@H](C(=O)O)C(=O)[S]')"
   ]
  },
  {
   "cell_type": "markdown",
   "id": "8b323a43",
   "metadata": {},
   "source": [
    "Subsequently, let's try to represent stereochemistry with SMARTS. To indicate stereochemistry, use BOTH the `@` and the `-` operators in the SMARTS string"
   ]
  },
  {
   "cell_type": "code",
   "execution_count": 16,
   "id": "be003fa9",
   "metadata": {},
   "outputs": [
    {
     "data": {
      "image/png": "[encoded data removed]",
      "text/plain": [
       "<rdkit.Chem.rdchem.Mol at 0x7fb9fb049ba0>"
      ]
     },
     "execution_count": 16,
     "metadata": {},
     "output_type": "execute_result"
    }
   ],
   "source": [
    "# one stereoisomer\n",
    "Chem.MolFromSmarts('[#6@@:2](-[#6:1])-[#6:6]=[#8:7]-[S:8]')"
   ]
  },
  {
   "cell_type": "code",
   "execution_count": 17,
   "id": "c5980961",
   "metadata": {},
   "outputs": [
    {
     "data": {
      "image/png": "[encoded data removed]",
      "text/plain": [
       "<rdkit.Chem.rdchem.Mol at 0x7fb9fb049e40>"
      ]
     },
     "execution_count": 17,
     "metadata": {},
     "output_type": "execute_result"
    }
   ],
   "source": [
    "# the opposite stereoisomer/ enantiomer\n",
    "Chem.MolFromSmarts('[#6@:2](-[#6:1])-[#6:6]=[#8:7]-[S:8]')"
   ]
  },
  {
   "cell_type": "markdown",
   "id": "1f7e46bc",
   "metadata": {},
   "source": [
    "Without the `-` operator to the left of `[#6:1]`, the SMARTS string does NOT display stereochemistry"
   ]
  },
  {
   "cell_type": "code",
   "execution_count": 18,
   "id": "90871a1e",
   "metadata": {},
   "outputs": [
    {
     "data": {
      "image/png": "[encoded data removed]",
      "text/plain": [
       "<rdkit.Chem.rdchem.Mol at 0x7fb9fb05e270>"
      ]
     },
     "execution_count": 18,
     "metadata": {},
     "output_type": "execute_result"
    }
   ],
   "source": [
    "Chem.MolFromSmarts('[#6@:2]([#6:1])-[#6:6]=[#8:7]-[S:8]')"
   ]
  },
  {
   "cell_type": "markdown",
   "id": "19325e1e",
   "metadata": {},
   "source": [
    "The same is true if the `@` operator within `[#6:2]` were absent even if there was `-` operator to the left of `[#6:1]`"
   ]
  },
  {
   "cell_type": "markdown",
   "id": "a7abec28",
   "metadata": {},
   "source": [
    "Therefore, to indicate stereochemistry, we need BOTH `@` and `-` operators as observed in the following substructure:"
   ]
  },
  {
   "cell_type": "code",
   "execution_count": 19,
   "id": "6841016a",
   "metadata": {},
   "outputs": [
    {
     "data": {
      "image/png": "[encoded data removed]",
      "text/plain": [
       "<rdkit.Chem.rdchem.Mol at 0x7fb9fb05e430>"
      ]
     },
     "execution_count": 19,
     "metadata": {},
     "output_type": "execute_result"
    }
   ],
   "source": [
    "Chem.MolFromSmarts('[#8:4]=[#6:3](-[#8:5])-[#6@:2]-[#6:1]')"
   ]
  },
  {
   "cell_type": "markdown",
   "id": "54c96a66",
   "metadata": {},
   "source": [
    "Let's confirm that there is indeed a substructure match between the SMARTS string that we have written out and the stereochemical SMILES string for methylmalonyl-CoA (`C[C@@H](C(=O)O)C(=O)[S]`)"
   ]
  },
  {
   "cell_type": "code",
   "execution_count": 20,
   "id": "9f1040ce",
   "metadata": {},
   "outputs": [
    {
     "name": "stdout",
     "output_type": "stream",
     "text": [
      "Structure 1: pattern found True\n"
     ]
    }
   ],
   "source": [
    "substructure = Chem.MolFromSmarts('[#8:4]=[#6:3](-[#8:5])-[#6@:2]-[#6:1]')\n",
    "smiles_list = ['C[C@@H](C(=O)O)C(=O)[S]']\n",
    "is_substructure_present(smiles_list,substructure)"
   ]
  },
  {
   "cell_type": "code",
   "execution_count": 21,
   "id": "147ecf97",
   "metadata": {},
   "outputs": [
    {
     "data": {
      "image/svg+xml": [
       "<svg xmlns=\"http://www.w3.org/2000/svg\" xmlns:rdkit=\"http://www.rdkit.org/xml\" xmlns:xlink=\"http://www.w3.org/1999/xlink\" version=\"1.1\" baseProfile=\"full\" xml:space=\"preserve\" width=\"400px\" height=\"200px\" viewBox=\"0 0 400 200\">\n",
       "<!-- END OF HEADER -->\n",
       "<rect style=\"opacity:1.0;fill:#FFFFFF;stroke:none\" width=\"400.0\" height=\"200.0\" x=\"0.0\" y=\"0.0\"> </rect>\n",
       "<path class=\"bond-0 atom-0 atom-1\" d=\"M 194.5,22.4 L 207.7,22.4 L 207.7,80.5 L 201.1,84.3 L 194.5,80.5 Z\" style=\"fill:#FF7F7F;fill-rule:evenodd;fill-opacity:1;stroke:#FF7F7F;stroke-width:0.0px;stroke-linecap:butt;stroke-linejoin:miter;stroke-opacity:1;\"/>\n",
       "<path class=\"bond-1 atom-1 atom-2\" d=\"M 194.5,80.5 L 201.1,84.3 L 201.1,91.9 L 154.1,119.0 L 147.4,115.2 L 147.4,107.6 Z\" style=\"fill:#FF7F7F;fill-rule:evenodd;fill-opacity:1;stroke:#FF7F7F;stroke-width:0.0px;stroke-linecap:butt;stroke-linejoin:miter;stroke-opacity:1;\"/>\n",
       "<path class=\"bond-4 atom-1 atom-5\" d=\"M 207.7,80.5 L 258.0,109.5 L 251.4,121.0 L 201.1,91.9 L 201.1,84.3 Z\" style=\"fill:#FF7F7F;fill-rule:evenodd;fill-opacity:1;stroke:#FF7F7F;stroke-width:0.0px;stroke-linecap:butt;stroke-linejoin:miter;stroke-opacity:1;\"/>\n",
       "<path class=\"bond-2 atom-2 atom-3\" d=\"M 97.1,78.6 L 147.4,107.6 L 147.4,115.2 L 140.8,119.0 L 90.5,90.0 Z\" style=\"fill:#FF7F7F;fill-rule:evenodd;fill-opacity:1;stroke:#FF7F7F;stroke-width:0.0px;stroke-linecap:butt;stroke-linejoin:miter;stroke-opacity:1;\"/>\n",
       "<path class=\"bond-3 atom-2 atom-4\" d=\"M 147.4,115.2 L 154.1,119.0 L 154.1,177.1 L 140.8,177.1 L 140.8,119.0 Z\" style=\"fill:#FF7F7F;fill-rule:evenodd;fill-opacity:1;stroke:#FF7F7F;stroke-width:0.0px;stroke-linecap:butt;stroke-linejoin:miter;stroke-opacity:1;\"/>\n",
       "<ellipse cx=\"201.1\" cy=\"22.4\" rx=\"12.4\" ry=\"12.4\" class=\"atom-0\" style=\"fill:#FF7F7F;fill-rule:evenodd;stroke:#FF7F7F;stroke-width:1.0px;stroke-linecap:butt;stroke-linejoin:miter;stroke-opacity:1\"/>\n",
       "<ellipse cx=\"201.1\" cy=\"84.3\" rx=\"12.4\" ry=\"12.4\" class=\"atom-1\" style=\"fill:#FF7F7F;fill-rule:evenodd;stroke:#FF7F7F;stroke-width:1.0px;stroke-linecap:butt;stroke-linejoin:miter;stroke-opacity:1\"/>\n",
       "<ellipse cx=\"147.4\" cy=\"115.2\" rx=\"12.4\" ry=\"12.4\" class=\"atom-2\" style=\"fill:#FF7F7F;fill-rule:evenodd;stroke:#FF7F7F;stroke-width:1.0px;stroke-linecap:butt;stroke-linejoin:miter;stroke-opacity:1\"/>\n",
       "<ellipse cx=\"93.8\" cy=\"84.4\" rx=\"12.4\" ry=\"12.7\" class=\"atom-3\" style=\"fill:#FF7F7F;fill-rule:evenodd;stroke:#FF7F7F;stroke-width:1.0px;stroke-linecap:butt;stroke-linejoin:miter;stroke-opacity:1\"/>\n",
       "<ellipse cx=\"155.7\" cy=\"177.3\" rx=\"23.0\" ry=\"12.7\" class=\"atom-4\" style=\"fill:#FF7F7F;fill-rule:evenodd;stroke:#FF7F7F;stroke-width:1.0px;stroke-linecap:butt;stroke-linejoin:miter;stroke-opacity:1\"/>\n",
       "<ellipse cx=\"254.7\" cy=\"115.2\" rx=\"12.4\" ry=\"12.4\" class=\"atom-5\" style=\"fill:#FF7F7F;fill-rule:evenodd;stroke:#FF7F7F;stroke-width:1.0px;stroke-linecap:butt;stroke-linejoin:miter;stroke-opacity:1\"/>\n",
       "<path class=\"bond-0 atom-1 atom-0\" d=\"M 200.8,80.8 L 201.3,80.8\" style=\"fill:none;fill-rule:evenodd;stroke:#000000;stroke-width:1.0px;stroke-linecap:butt;stroke-linejoin:miter;stroke-opacity:1\"/>\n",
       "<path class=\"bond-0 atom-1 atom-0\" d=\"M 200.5,77.4 L 201.6,77.4\" style=\"fill:none;fill-rule:evenodd;stroke:#000000;stroke-width:1.0px;stroke-linecap:butt;stroke-linejoin:miter;stroke-opacity:1\"/>\n",
       "<path class=\"bond-0 atom-1 atom-0\" d=\"M 200.3,74.0 L 201.8,74.0\" style=\"fill:none;fill-rule:evenodd;stroke:#000000;stroke-width:1.0px;stroke-linecap:butt;stroke-linejoin:miter;stroke-opacity:1\"/>\n",
       "<path class=\"bond-0 atom-1 atom-0\" d=\"M 200.0,70.5 L 202.1,70.5\" style=\"fill:none;fill-rule:evenodd;stroke:#000000;stroke-width:1.0px;stroke-linecap:butt;stroke-linejoin:miter;stroke-opacity:1\"/>\n",
       "<path class=\"bond-0 atom-1 atom-0\" d=\"M 199.8,67.1 L 202.3,67.1\" style=\"fill:none;fill-rule:evenodd;stroke:#000000;stroke-width:1.0px;stroke-linecap:butt;stroke-linejoin:miter;stroke-opacity:1\"/>\n",
       "<path class=\"bond-0 atom-1 atom-0\" d=\"M 199.5,63.6 L 202.6,63.6\" style=\"fill:none;fill-rule:evenodd;stroke:#000000;stroke-width:1.0px;stroke-linecap:butt;stroke-linejoin:miter;stroke-opacity:1\"/>\n",
       "<path class=\"bond-0 atom-1 atom-0\" d=\"M 199.3,60.2 L 202.9,60.2\" style=\"fill:none;fill-rule:evenodd;stroke:#000000;stroke-width:1.0px;stroke-linecap:butt;stroke-linejoin:miter;stroke-opacity:1\"/>\n",
       "<path class=\"bond-0 atom-1 atom-0\" d=\"M 199.0,56.8 L 203.1,56.8\" style=\"fill:none;fill-rule:evenodd;stroke:#000000;stroke-width:1.0px;stroke-linecap:butt;stroke-linejoin:miter;stroke-opacity:1\"/>\n",
       "<path class=\"bond-0 atom-1 atom-0\" d=\"M 198.7,53.3 L 203.4,53.3\" style=\"fill:none;fill-rule:evenodd;stroke:#000000;stroke-width:1.0px;stroke-linecap:butt;stroke-linejoin:miter;stroke-opacity:1\"/>\n",
       "<path class=\"bond-0 atom-1 atom-0\" d=\"M 198.5,49.9 L 203.6,49.9\" style=\"fill:none;fill-rule:evenodd;stroke:#000000;stroke-width:1.0px;stroke-linecap:butt;stroke-linejoin:miter;stroke-opacity:1\"/>\n",
       "<path class=\"bond-0 atom-1 atom-0\" d=\"M 198.2,46.5 L 203.9,46.5\" style=\"fill:none;fill-rule:evenodd;stroke:#000000;stroke-width:1.0px;stroke-linecap:butt;stroke-linejoin:miter;stroke-opacity:1\"/>\n",
       "<path class=\"bond-0 atom-1 atom-0\" d=\"M 198.0,43.0 L 204.2,43.0\" style=\"fill:none;fill-rule:evenodd;stroke:#000000;stroke-width:1.0px;stroke-linecap:butt;stroke-linejoin:miter;stroke-opacity:1\"/>\n",
       "<path class=\"bond-0 atom-1 atom-0\" d=\"M 197.7,39.6 L 204.4,39.6\" style=\"fill:none;fill-rule:evenodd;stroke:#000000;stroke-width:1.0px;stroke-linecap:butt;stroke-linejoin:miter;stroke-opacity:1\"/>\n",
       "<path class=\"bond-0 atom-1 atom-0\" d=\"M 197.4,36.1 L 204.7,36.1\" style=\"fill:none;fill-rule:evenodd;stroke:#000000;stroke-width:1.0px;stroke-linecap:butt;stroke-linejoin:miter;stroke-opacity:1\"/>\n",
       "<path class=\"bond-0 atom-1 atom-0\" d=\"M 197.2,32.7 L 204.9,32.7\" style=\"fill:none;fill-rule:evenodd;stroke:#000000;stroke-width:1.0px;stroke-linecap:butt;stroke-linejoin:miter;stroke-opacity:1\"/>\n",
       "<path class=\"bond-0 atom-1 atom-0\" d=\"M 196.9,29.3 L 205.2,29.3\" style=\"fill:none;fill-rule:evenodd;stroke:#000000;stroke-width:1.0px;stroke-linecap:butt;stroke-linejoin:miter;stroke-opacity:1\"/>\n",
       "<path class=\"bond-0 atom-1 atom-0\" d=\"M 196.7,25.8 L 205.4,25.8\" style=\"fill:none;fill-rule:evenodd;stroke:#000000;stroke-width:1.0px;stroke-linecap:butt;stroke-linejoin:miter;stroke-opacity:1\"/>\n",
       "<path class=\"bond-0 atom-1 atom-0\" d=\"M 196.4,22.4 L 205.7,22.4\" style=\"fill:none;fill-rule:evenodd;stroke:#000000;stroke-width:1.0px;stroke-linecap:butt;stroke-linejoin:miter;stroke-opacity:1\"/>\n",
       "<path class=\"bond-1 atom-1 atom-2\" d=\"M 201.1,84.3 L 147.4,115.2\" style=\"fill:none;fill-rule:evenodd;stroke:#000000;stroke-width:2.0px;stroke-linecap:butt;stroke-linejoin:miter;stroke-opacity:1\"/>\n",
       "<path class=\"bond-2 atom-2 atom-3\" d=\"M 152.1,112.6 L 129.2,99.3\" style=\"fill:none;fill-rule:evenodd;stroke:#000000;stroke-width:2.0px;stroke-linecap:butt;stroke-linejoin:miter;stroke-opacity:1\"/>\n",
       "<path class=\"bond-2 atom-2 atom-3\" d=\"M 129.2,99.3 L 106.3,86.1\" style=\"fill:none;fill-rule:evenodd;stroke:#FF0000;stroke-width:2.0px;stroke-linecap:butt;stroke-linejoin:miter;stroke-opacity:1\"/>\n",
       "<path class=\"bond-2 atom-2 atom-3\" d=\"M 147.4,120.6 L 124.5,107.4\" style=\"fill:none;fill-rule:evenodd;stroke:#000000;stroke-width:2.0px;stroke-linecap:butt;stroke-linejoin:miter;stroke-opacity:1\"/>\n",
       "<path class=\"bond-2 atom-2 atom-3\" d=\"M 124.5,107.4 L 101.6,94.1\" style=\"fill:none;fill-rule:evenodd;stroke:#FF0000;stroke-width:2.0px;stroke-linecap:butt;stroke-linejoin:miter;stroke-opacity:1\"/>\n",
       "<path class=\"bond-3 atom-2 atom-4\" d=\"M 147.4,115.2 L 147.4,140.7\" style=\"fill:none;fill-rule:evenodd;stroke:#000000;stroke-width:2.0px;stroke-linecap:butt;stroke-linejoin:miter;stroke-opacity:1\"/>\n",
       "<path class=\"bond-3 atom-2 atom-4\" d=\"M 147.4,140.7 L 147.4,166.2\" style=\"fill:none;fill-rule:evenodd;stroke:#FF0000;stroke-width:2.0px;stroke-linecap:butt;stroke-linejoin:miter;stroke-opacity:1\"/>\n",
       "<path class=\"bond-4 atom-1 atom-5\" d=\"M 201.1,84.3 L 254.7,115.2\" style=\"fill:none;fill-rule:evenodd;stroke:#000000;stroke-width:2.0px;stroke-linecap:butt;stroke-linejoin:miter;stroke-opacity:1\"/>\n",
       "<path class=\"bond-5 atom-5 atom-6\" d=\"M 250.0,112.6 L 250.0,139.4\" style=\"fill:none;fill-rule:evenodd;stroke:#000000;stroke-width:2.0px;stroke-linecap:butt;stroke-linejoin:miter;stroke-opacity:1\"/>\n",
       "<path class=\"bond-5 atom-5 atom-6\" d=\"M 250.0,139.4 L 250.0,166.2\" style=\"fill:none;fill-rule:evenodd;stroke:#FF0000;stroke-width:2.0px;stroke-linecap:butt;stroke-linejoin:miter;stroke-opacity:1\"/>\n",
       "<path class=\"bond-5 atom-5 atom-6\" d=\"M 259.3,112.6 L 259.3,139.4\" style=\"fill:none;fill-rule:evenodd;stroke:#000000;stroke-width:2.0px;stroke-linecap:butt;stroke-linejoin:miter;stroke-opacity:1\"/>\n",
       "<path class=\"bond-5 atom-5 atom-6\" d=\"M 259.3,139.4 L 259.3,166.2\" style=\"fill:none;fill-rule:evenodd;stroke:#FF0000;stroke-width:2.0px;stroke-linecap:butt;stroke-linejoin:miter;stroke-opacity:1\"/>\n",
       "<path class=\"bond-6 atom-5 atom-7\" d=\"M 254.7,115.2 L 277.6,102.0\" style=\"fill:none;fill-rule:evenodd;stroke:#000000;stroke-width:2.0px;stroke-linecap:butt;stroke-linejoin:miter;stroke-opacity:1\"/>\n",
       "<path class=\"bond-6 atom-5 atom-7\" d=\"M 277.6,102.0 L 300.6,88.7\" style=\"fill:none;fill-rule:evenodd;stroke:#CCCC00;stroke-width:2.0px;stroke-linecap:butt;stroke-linejoin:miter;stroke-opacity:1\"/>\n",
       "<path d=\"M 198.4,85.8 L 201.1,84.3 L 203.7,85.8\" style=\"fill:none;stroke:#000000;stroke-width:2.0px;stroke-linecap:butt;stroke-linejoin:miter;stroke-opacity:1;\"/>\n",
       "<path d=\"M 150.1,113.7 L 147.4,115.2 L 147.4,116.5\" style=\"fill:none;stroke:#000000;stroke-width:2.0px;stroke-linecap:butt;stroke-linejoin:miter;stroke-opacity:1;\"/>\n",
       "<path d=\"M 252.0,113.7 L 254.7,115.2 L 255.8,114.6\" style=\"fill:none;stroke:#000000;stroke-width:2.0px;stroke-linecap:butt;stroke-linejoin:miter;stroke-opacity:1;\"/>\n",
       "<path class=\"atom-3\" d=\"M 85.8 84.3 Q 85.8 80.1, 87.9 77.8 Q 90.0 75.4, 93.8 75.4 Q 97.7 75.4, 99.8 77.8 Q 101.9 80.1, 101.9 84.3 Q 101.9 88.6, 99.8 91.0 Q 97.7 93.4, 93.8 93.4 Q 90.0 93.4, 87.9 91.0 Q 85.8 88.6, 85.8 84.3 M 93.8 91.4 Q 96.5 91.4, 98.0 89.7 Q 99.4 87.8, 99.4 84.3 Q 99.4 80.9, 98.0 79.2 Q 96.5 77.4, 93.8 77.4 Q 91.2 77.4, 89.7 79.1 Q 88.3 80.9, 88.3 84.3 Q 88.3 87.9, 89.7 89.7 Q 91.2 91.4, 93.8 91.4 \" fill=\"#FF0000\"/>\n",
       "<path class=\"atom-4\" d=\"M 139.4 177.2 Q 139.4 173.0, 141.5 170.6 Q 143.6 168.3, 147.4 168.3 Q 151.3 168.3, 153.4 170.6 Q 155.5 173.0, 155.5 177.2 Q 155.5 181.4, 153.4 183.9 Q 151.3 186.3, 147.4 186.3 Q 143.6 186.3, 141.5 183.9 Q 139.4 181.5, 139.4 177.2 M 147.4 184.3 Q 150.1 184.3, 151.6 182.5 Q 153.0 180.7, 153.0 177.2 Q 153.0 173.7, 151.6 172.0 Q 150.1 170.3, 147.4 170.3 Q 144.8 170.3, 143.3 172.0 Q 141.9 173.7, 141.9 177.2 Q 141.9 180.7, 143.3 182.5 Q 144.8 184.3, 147.4 184.3 \" fill=\"#FF0000\"/>\n",
       "<path class=\"atom-4\" d=\"M 158.2 168.5 L 160.6 168.5 L 160.6 175.9 L 169.6 175.9 L 169.6 168.5 L 171.9 168.5 L 171.9 186.0 L 169.6 186.0 L 169.6 177.9 L 160.6 177.9 L 160.6 186.0 L 158.2 186.0 L 158.2 168.5 \" fill=\"#FF0000\"/>\n",
       "<path class=\"atom-6\" d=\"M 246.6 177.2 Q 246.6 173.0, 248.7 170.6 Q 250.8 168.3, 254.7 168.3 Q 258.6 168.3, 260.6 170.6 Q 262.7 173.0, 262.7 177.2 Q 262.7 181.4, 260.6 183.9 Q 258.5 186.3, 254.7 186.3 Q 250.8 186.3, 248.7 183.9 Q 246.6 181.5, 246.6 177.2 M 254.7 184.3 Q 257.3 184.3, 258.8 182.5 Q 260.2 180.7, 260.2 177.2 Q 260.2 173.7, 258.8 172.0 Q 257.3 170.3, 254.7 170.3 Q 252.0 170.3, 250.5 172.0 Q 249.1 173.7, 249.1 177.2 Q 249.1 180.7, 250.5 182.5 Q 252.0 184.3, 254.7 184.3 \" fill=\"#FF0000\"/>\n",
       "<path class=\"atom-7\" d=\"M 303.3 90.3 Q 303.5 90.4, 304.3 90.7 Q 305.2 91.1, 306.0 91.3 Q 307.0 91.5, 307.9 91.5 Q 309.5 91.5, 310.5 90.7 Q 311.4 89.9, 311.4 88.5 Q 311.4 87.5, 310.9 86.9 Q 310.5 86.3, 309.7 86.0 Q 309.0 85.7, 307.8 85.3 Q 306.2 84.8, 305.3 84.4 Q 304.3 83.9, 303.7 83.0 Q 303.0 82.1, 303.0 80.5 Q 303.0 78.3, 304.5 76.9 Q 306.0 75.5, 309.0 75.5 Q 311.0 75.5, 313.3 76.5 L 312.8 78.4 Q 310.7 77.5, 309.1 77.5 Q 307.4 77.5, 306.4 78.3 Q 305.5 79.0, 305.5 80.2 Q 305.5 81.1, 306.0 81.7 Q 306.5 82.3, 307.2 82.6 Q 307.9 82.9, 309.1 83.3 Q 310.7 83.8, 311.6 84.3 Q 312.5 84.8, 313.2 85.8 Q 313.9 86.8, 313.9 88.5 Q 313.9 90.9, 312.3 92.2 Q 310.7 93.5, 308.0 93.5 Q 306.4 93.5, 305.2 93.1 Q 304.0 92.8, 302.7 92.3 L 303.3 90.3 \" fill=\"#CCCC00\"/>\n",
       "<path class=\"atom-7\" d=\"M 318.8,84.3 L 318.8,84.4 L 318.8,84.5 L 318.8,84.6 L 318.8,84.7 L 318.7,84.8 L 318.7,84.9 L 318.6,85.0 L 318.6,85.1 L 318.5,85.1 L 318.4,85.2 L 318.3,85.3 L 318.2,85.3 L 318.2,85.4 L 318.1,85.4 L 318.0,85.5 L 317.8,85.5 L 317.7,85.5 L 317.6,85.5 L 317.5,85.5 L 317.4,85.5 L 317.3,85.5 L 317.2,85.5 L 317.1,85.4 L 317.0,85.4 L 316.9,85.3 L 316.8,85.3 L 316.8,85.2 L 316.7,85.1 L 316.6,85.0 L 316.6,84.9 L 316.5,84.8 L 316.5,84.7 L 316.4,84.6 L 316.4,84.5 L 316.4,84.4 L 316.4,84.3 L 316.4,84.2 L 316.4,84.1 L 316.4,84.0 L 316.4,83.9 L 316.5,83.8 L 316.5,83.7 L 316.6,83.6 L 316.6,83.5 L 316.7,83.5 L 316.8,83.4 L 316.8,83.3 L 316.9,83.2 L 317.0,83.2 L 317.1,83.1 L 317.2,83.1 L 317.3,83.1 L 317.4,83.1 L 317.5,83.0 L 317.6,83.0 L 317.7,83.1 L 317.8,83.1 L 318.0,83.1 L 318.1,83.1 L 318.2,83.2 L 318.2,83.2 L 318.3,83.3 L 318.4,83.3 L 318.5,83.4 L 318.6,83.5 L 318.6,83.6 L 318.7,83.7 L 318.7,83.8 L 318.8,83.9 L 318.8,84.0 L 318.8,84.1 L 318.8,84.2 L 318.8,84.3 L 317.6,84.3 Z\" style=\"fill:#000000;fill-rule:evenodd;fill-opacity:1;stroke:#000000;stroke-width:0.0px;stroke-linecap:butt;stroke-linejoin:miter;stroke-opacity:1;\"/>\n",
       "</svg>"
      ],
      "text/plain": [
       "<IPython.core.display.SVG object>"
      ]
     },
     "execution_count": 21,
     "metadata": {},
     "output_type": "execute_result"
    }
   ],
   "source": [
    "### Example usage\n",
    "mol = Chem.MolFromSmiles('C[C@@H](C(=O)O)C(=O)[S]')\n",
    "SVG(draw_substruct_match(mol,substructure))"
   ]
  },
  {
   "cell_type": "markdown",
   "id": "78d10f42",
   "metadata": {},
   "source": [
    "#### Trying to run Ketosynthase reactions"
   ]
  },
  {
   "cell_type": "code",
   "execution_count": 22,
   "id": "faffc7c2",
   "metadata": {},
   "outputs": [],
   "source": [
    "KS_rxn = AllChem.ReactionFromSmarts(('[#8:4]=[#6:3](-[#8:5])-[#6@:2]-[#6:1].[#6:6](=[#8:7])-[#16:8]>>[#8:4]=[#6:3]=[#8:5].[#6@@:2](-[#6:1])-[#6:6]=[#8:7].[#16:8]'))"
   ]
  },
  {
   "cell_type": "code",
   "execution_count": 23,
   "id": "32de2936",
   "metadata": {},
   "outputs": [],
   "source": [
    "KS_rxn = AllChem.ReactionFromSmarts(('[#8:4]=[#6:3](-[#8:5])-[#6@:2]-[#6:1].[#6:6](=[#8:7])-[#16:8]>>[#8:4]=[#6:3]=[#8:5].[#6@@:2](-[#6:1])-[#6:6]=[#8:7].[#16:8]'))\n",
    "starter_unit = Chem.MolFromSmiles((starters_dict['mal'])) # malonly-CoA starter\n",
    "extender_unit = Chem.MolFromSmiles(extenders_dict['mal']) # malonyl-CoA extender\n",
    "products = KS_rxn.RunReactants((extender_unit,starter_unit))"
   ]
  },
  {
   "cell_type": "code",
   "execution_count": 24,
   "id": "d06efb25",
   "metadata": {},
   "outputs": [
    {
     "data": {
      "image/png": "[encoded data removed]",
      "text/plain": [
       "<rdkit.Chem.rdchem.Mol at 0x7fb9fb0440b0>"
      ]
     },
     "execution_count": 24,
     "metadata": {},
     "output_type": "execute_result"
    }
   ],
   "source": [
    "products[0][0]"
   ]
  },
  {
   "cell_type": "code",
   "execution_count": 25,
   "id": "a03fb94d",
   "metadata": {},
   "outputs": [
    {
     "data": {
      "image/png": "[encoded data removed]",
      "text/plain": [
       "<rdkit.Chem.rdchem.Mol at 0x7fb9fb044040>"
      ]
     },
     "execution_count": 25,
     "metadata": {},
     "output_type": "execute_result"
    }
   ],
   "source": [
    "products[0][1]"
   ]
  },
  {
   "cell_type": "code",
   "execution_count": 26,
   "id": "d654dc32",
   "metadata": {},
   "outputs": [
    {
     "data": {
      "image/png": "[encoded data removed]",
      "text/plain": [
       "<rdkit.Chem.rdchem.Mol at 0x7fb9fb06e040>"
      ]
     },
     "execution_count": 26,
     "metadata": {},
     "output_type": "execute_result"
    }
   ],
   "source": [
    "products[0][2]"
   ]
  },
  {
   "cell_type": "markdown",
   "id": "33e358b0",
   "metadata": {},
   "source": [
    "**After trying a couple of iterations, a possible SMARTS template representing a kethosynthase reaction with stereoinversion is: `[#8:4]=[#6:3](-[#8:5])-[#6@:2]-[#6:1].[#6:6](=[#8:7])-[#16:8]>>[#8:4]=[#6:3]=[#8:5].[#6@@:2](-[#6:1])-[#6:6]=[#8:7].[#16:8]`**. Here there are two periods on the LHS of the `>>` sign becasue we are specifying two species. The first is the extender unit while the second is the either starter unit or the final product from the previous module. Subsequently, there are three periods on the RHS of the `>>` sign because we are specifying three species - a decarboxylated product, a CO2, and a H2S group."
   ]
  },
  {
   "cell_type": "markdown",
   "id": "dae2b10a",
   "metadata": {},
   "source": [
    "#### Example 1: A 2 module type I PKS with the first (loading) module being KSq-AT-ACP and the second being KS-AT-ACP. The starter unit is a malonyl-CoA and extender unit is also a malonyl-CoA"
   ]
  },
  {
   "cell_type": "code",
   "execution_count": 27,
   "id": "3b06b27f",
   "metadata": {},
   "outputs": [],
   "source": [
    "starter_unit = Chem.MolFromSmiles((starters_dict['mal'])) # malonly-CoA starter\n",
    "extender_unit = Chem.MolFromSmiles(extenders_dict['mal']) # malonyl-CoA extender\n",
    "products = KS_rxn.RunReactants((extender_unit,starter_unit))\n",
    "\n",
    "for product in products[0]:\n",
    "    if Chem.MolToSmiles(product) != 'O=C=O' and Chem.MolToSmiles(product) != 'S':\n",
    "        final_product = product"
   ]
  },
  {
   "cell_type": "code",
   "execution_count": 28,
   "id": "5521d032",
   "metadata": {},
   "outputs": [
    {
     "data": {
      "image/png": "[encoded data removed]",
      "text/plain": [
       "<rdkit.Chem.rdchem.Mol at 0x7fb9fb06e2e0>"
      ]
     },
     "execution_count": 28,
     "metadata": {},
     "output_type": "execute_result"
    }
   ],
   "source": [
    "final_product"
   ]
  },
  {
   "cell_type": "markdown",
   "id": "cb9803a1",
   "metadata": {},
   "source": [
    "This is indeed the product we would expect after a loading module starting with malonyl-CoA and a single non-loading module that tacks on malonyl-CoA onto the growing carbon chain."
   ]
  },
  {
   "cell_type": "markdown",
   "id": "27786c5e",
   "metadata": {},
   "source": [
    "#### Example 2: A 3 module type I PKS with all 3 modules being KS-AT-ACP. The starter unit is a malonyl-CoA and the two extender units are also malonyl-CoA"
   ]
  },
  {
   "cell_type": "code",
   "execution_count": 29,
   "id": "2e861acd",
   "metadata": {},
   "outputs": [],
   "source": [
    "# Final product after the first non-loading module\n",
    "starter_unit = Chem.MolFromSmiles((starters_dict['mal'])) # malonly-CoA starter\n",
    "extender_unit = Chem.MolFromSmiles(extenders_dict['mal']) # malonyl-CoA extender\n",
    "products = KS_rxn.RunReactants((extender_unit,starter_unit))\n",
    "\n",
    "for product in products[0]:\n",
    "    if Chem.MolToSmiles(product) != 'O=C=O' and Chem.MolToSmiles(product) != 'S':\n",
    "        final_product = product\n",
    "        \n",
    "final_product_smiles = Chem.MolToSmiles(final_product)\n",
    "\n",
    "# Final product after the second non-loading module (pass in the final product from before as a starter)\n",
    "starter_unit = Chem.MolFromSmiles((final_product_smiles)) # starter unit is the final product from prior module\n",
    "extender_unit = Chem.MolFromSmiles(extenders_dict['mal']) # malonyl-CoA extender\n",
    "products = KS_rxn.RunReactants((extender_unit,starter_unit))\n",
    "\n",
    "for product in products[0]:\n",
    "    if Chem.MolToSmiles(product) != 'O=C=O' and Chem.MolToSmiles(product) != 'S':\n",
    "        final_product = product\n",
    "\n",
    "final_product_smiles = Chem.MolToSmiles(final_product)"
   ]
  },
  {
   "cell_type": "code",
   "execution_count": 30,
   "id": "158eb968",
   "metadata": {},
   "outputs": [
    {
     "data": {
      "text/plain": [
       "'CC(=O)CC(=O)CC(=O)[S]'"
      ]
     },
     "execution_count": 30,
     "metadata": {},
     "output_type": "execute_result"
    }
   ],
   "source": [
    "final_product_smiles"
   ]
  },
  {
   "cell_type": "code",
   "execution_count": 31,
   "id": "041b8815",
   "metadata": {},
   "outputs": [
    {
     "data": {
      "image/png": "[encoded data removed]",
      "text/plain": [
       "<rdkit.Chem.rdchem.Mol at 0x7fb9fb06e200>"
      ]
     },
     "execution_count": 31,
     "metadata": {},
     "output_type": "execute_result"
    }
   ],
   "source": [
    "Chem.MolFromSmiles(final_product_smiles)"
   ]
  },
  {
   "cell_type": "markdown",
   "id": "59558250",
   "metadata": {},
   "source": [
    "This is indeed the product that we would expect after a loading module starting with malonyl-CoA and two non-loading modules that also acept malonlyl-CoA extenders"
   ]
  },
  {
   "cell_type": "markdown",
   "id": "2c95612f",
   "metadata": {},
   "source": [
    "#### Example 3: A 2 module type I PKS with all 2 modules being KS-AT-ACP. Here, let's have both the starter and extender units be methylmalonyl-CoA this time"
   ]
  },
  {
   "cell_type": "code",
   "execution_count": 32,
   "id": "591aa358",
   "metadata": {},
   "outputs": [],
   "source": [
    "starter_unit = Chem.MolFromSmiles((starters_dict['mmal'])) # methylmalonly-CoA starter\n",
    "extender_unit = Chem.MolFromSmiles(extenders_dict['mmal']) # methylmalonyl-CoA extender\n",
    "products = KS_rxn.RunReactants((extender_unit,starter_unit))\n",
    "\n",
    "for product in products[0]:\n",
    "    if Chem.MolToSmiles(product) != 'O=C=O' and Chem.MolToSmiles(product) != 'S':\n",
    "        final_product = product"
   ]
  },
  {
   "cell_type": "code",
   "execution_count": 33,
   "id": "e7b1826b",
   "metadata": {},
   "outputs": [
    {
     "data": {
      "image/png": "[encoded data removed]",
      "text/plain": [
       "<rdkit.Chem.rdchem.Mol at 0x7fb9fb06e890>"
      ]
     },
     "execution_count": 33,
     "metadata": {},
     "output_type": "execute_result"
    }
   ],
   "source": [
    "final_product"
   ]
  },
  {
   "cell_type": "markdown",
   "id": "1f05c6f7",
   "metadata": {},
   "source": [
    "The first two carbon atoms closest to the sulfur atom come from the methylmalonyl-CoA extender unit. This extender unit also undergoes stereoinversion which changes the methyl group's stereochemistry from being in the \"dashed\" configuration to being in the \"solid wedge\" configuration. The three carbon atoms on the other end of the sulfur atom come from the loading of the methylmalonyl-CoA starter unit, which undergoes a decarboxlyation via the KSq domain in the loading module. So this product still seems to be what we would expect?"
   ]
  },
  {
   "cell_type": "markdown",
   "id": "ef513d6a",
   "metadata": {},
   "source": [
    "***Curiously, when I try to convert the `final_product` back to a smiles string and then from a smiles string back to a mol object, I lose stereochemistry information. Any thoughts why this happens and how we can prevent it?***"
   ]
  },
  {
   "cell_type": "code",
   "execution_count": 34,
   "id": "c052441e",
   "metadata": {},
   "outputs": [
    {
     "data": {
      "image/png": "[encoded data removed]",
      "text/plain": [
       "<rdkit.Chem.rdchem.Mol at 0x7fb9fb06ec80>"
      ]
     },
     "execution_count": 34,
     "metadata": {},
     "output_type": "execute_result"
    }
   ],
   "source": [
    "Chem.MolFromSmiles(Chem.MolToSmiles(final_product))"
   ]
  },
  {
   "cell_type": "markdown",
   "id": "3394da3f",
   "metadata": {},
   "source": [
    "#### Example 4: A 3 module type I PKS with all 3 modules being KS-AT-ACP. Here, let's have the starting unit being methylmalonyl-CoA and both extender units being methylmalonyl-CoA as well"
   ]
  },
  {
   "cell_type": "code",
   "execution_count": 35,
   "id": "06a1b27c",
   "metadata": {},
   "outputs": [
    {
     "data": {
      "image/png": "[encoded data removed]",
      "text/plain": [
       "<rdkit.Chem.rdchem.Mol at 0x7fb9fb06e3c0>"
      ]
     },
     "execution_count": 35,
     "metadata": {},
     "output_type": "execute_result"
    }
   ],
   "source": [
    "starter_unit = Chem.MolFromSmiles((starters_dict['mmal'])) # methylmalonly-CoA starter\n",
    "extender_unit = Chem.MolFromSmiles(extenders_dict['mmal']) # methylmalonyl-CoA extender\n",
    "products = KS_rxn.RunReactants((extender_unit,starter_unit))\n",
    "\n",
    "for product in products[0]:\n",
    "    if Chem.MolToSmiles(product) != 'O=C=O' and Chem.MolToSmiles(product) != 'S':\n",
    "        final_product = product\n",
    "        \n",
    "# Final product after the second non-loading module (pass in the final product from before as a starter)\n",
    "starter_unit = final_product\n",
    "extender_unit = Chem.MolFromSmiles(extenders_dict['mmal']) # methylmalonyl-CoA extender\n",
    "products = KS_rxn.RunReactants((extender_unit,starter_unit))\n",
    "\n",
    "for product in products[0]:\n",
    "    if Chem.MolToSmiles(product) != 'O=C=O' and Chem.MolToSmiles(product) != 'S':\n",
    "        final_product = product\n",
    "\n",
    "final_product"
   ]
  },
  {
   "cell_type": "markdown",
   "id": "ae7af48c",
   "metadata": {},
   "source": [
    "I think this product is what we would expect? The solid wedge present after the first two modules in example 3 would have its stereochemistry flipped and would become a dashed wedge? Meanwhile the dashed wedge from the latest methylmalonyl-CoA extender unit would be flipped to beocome a solid wedge?"
   ]
  },
  {
   "cell_type": "markdown",
   "id": "e3f367db",
   "metadata": {},
   "source": [
    "### Ketoreductases (KR)"
   ]
  },
  {
   "cell_type": "code",
   "execution_count": 36,
   "id": "5e680d68",
   "metadata": {},
   "outputs": [],
   "source": [
    "KR_type = 'B1'"
   ]
  },
  {
   "cell_type": "code",
   "execution_count": 37,
   "id": "3c5912d1",
   "metadata": {},
   "outputs": [],
   "source": [
    "### Type A1\n",
    "KR_type_A1 = AllChem.ReactionFromSmarts(('[#0:1][C:2](=[O:3])[C:4]'\n",
    "                                           '[C:5](=[O:6])[S:7]>>'\n",
    "                                           '[#0:1][C@:2]([O:3])[C@:4]'\n",
    "                                           '[C:5](=[O:6])[S:7]'))\n",
    "\n",
    "KR_type_A1_y = AllChem.ReactionFromSmarts(('[C:1]-[C:2](=[O:3])-[C:4]-[C:5](=[O:6])-[S:7]>>[C:1]-[C@:2]([O:3])-[C@:4]-[C:5](=[O:6])-[S:7]'))\n",
    "\n",
    "### Type A2\n",
    "KR_type_A2 = AllChem.ReactionFromSmarts(('[#0:1][C:2](=[O:3])[C:4]'\n",
    "                                           '[C:5](=[O:6])[S:7]>>'\n",
    "                                           '[#0:1][C@:2]([O:3])[C@@:4]'\n",
    "                                           '[C:5](=[O:6])[S:7]'))\n",
    "\n",
    "KR_type_A2_y = AllChem.ReactionFromSmarts(('[C:1]-[C:2](=[O:3])-[C:4]-[C:5](=[O:6])[S:7]>>[C:1]-[C@:2]([O:3])-[C@@:4]-[C:5](=[O:6])-[S:7]'))\n",
    "\n",
    "### Type A\n",
    "KR_type_A = AllChem.ReactionFromSmarts(('[#0:1][C:2](=[O:3])[C:4]'\n",
    "                                           '[C:5](=[O:6])[S:7]>>'\n",
    "                                           '[#0:1][C@:2]([O:3])[C:4]'\n",
    "                                           '[C:5](=[O:6])[S:7]'))\n",
    "\n",
    "KR_type_A_y = AllChem.ReactionFromSmarts(('[C:1]-[C:2](=[O:3])-[C:4]-[C:5](=[O:6])-[S:7]>>[#0:1]-[C@:2]([O:3])-[C:4]-[C:5](=[O:6])[S:7]'))\n",
    "\n",
    "### Type B1\n",
    "KR_type_B1 = AllChem.ReactionFromSmarts(('[#0:1][C:2](=[O:3])[C:4]'\n",
    "                                       '[C:5](=[O:6])[S:7]>>'\n",
    "                                       '[#0:1][C@@:2]([O:3])[C@:4]'\n",
    "                                       '[C:5](=[O:6])[S:7]'))\n",
    "\n",
    "KR_type_B1_y = AllChem.ReactionFromSmarts(('[C:1]-[C:2](=[O:3])-[C:4]-[C:5](=[O:6])-[S:7]>>[#0:1][C@@:2]([O:3])[C@:4][C:5](=[O:6])[S:7]'))\n",
    "\n",
    "### Type B2\n",
    "KR_type_B2 = AllChem.ReactionFromSmarts(('[#0:1][C:2](=[O:3])[C:4]'\n",
    "                                           '[C:5](=[O:6])[S:7]>>'\n",
    "                                           '[#0:1][C@@:2]([O:3])[C@@:4]'\n",
    "                                           '[C:5](=[O:6])[S:7]'))\n",
    "\n",
    "KR_type_B2_y = AllChem.ReactionFromSmarts(('[C:1]-[C:2](=[O:3])-[C:4]-[C:5](=[O:6])-[S:7]>>[#0:1]-[C@@:2]([O:3])-[C@@:4]-[C:5](=[O:6])[S:7]'))\n",
    "\n",
    "### Type B\n",
    "KR_type_B = AllChem.ReactionFromSmarts(('[#0:1][C:2](=[O:3])[C:4]'\n",
    "                                           '[C:5](=[O:6])[S:7]>>'\n",
    "                                           '[#0:1][C@@:2]([O:3])[C:4]'\n",
    "                                           '[C:5](=[O:6])[S:7]'))\n",
    "\n",
    "KR_type_B_y = AllChem.ReactionFromSmarts(('[C:1]-[C:2](=[O:3])-[C:4][C:5](=[O:6])-[S:7]>>[C:1]-[C@@:2]([O:3])-[C:4]-[C:5](=[O:6])-[S:7]'))\n",
    "\n",
    "### Type C1\n",
    "KR_type_C1 = AllChem.ReactionFromSmarts(('[#0:1][C:2](=[O:3])[C:4]'\n",
    "                                           '[C:5](=[O:6])[S:7]>>'\n",
    "                                           '[#0:1][C:2](=[O:3])[C@:4]'\n",
    "                                           '[C:5](=[O:6])[S:7]'))\n",
    "\n",
    "KR_type_C1_y = AllChem.ReactionFromSmarts(('[#0:1][C:2](=[O:3])[C:4]'\n",
    "                                           '[C:5](=[O:6])[S:7]>>'\n",
    "                                           '[#0:1][C:2](=[O:3])[C@:4]'\n",
    "                                           '[C:5](=[O:6])[S:7]'))\n",
    "\n",
    "### Type C2\n",
    "KR_type_C2 = AllChem.ReactionFromSmarts(('[#0:1][C:2](=[O:3])[C:4]'\n",
    "                                           '[C:5](=[O:6])[S:7]>>'\n",
    "                                           '[#0:1][C:2](=[O:3])[C@@:4]'\n",
    "                                           '[C:5](=[O:6])[S:7]'))\n",
    "KR_type_C2_y = AllChem.ReactionFromSmarts(('[#0:1][C:2](=[O:3])[C:4]'\n",
    "                                           '[C:5](=[O:6])[S:7]>>'\n",
    "                                           '[#0:1][C:2](=[O:3])[C@@:4]'\n",
    "                                           '[C:5](=[O:6])[S:7]'))"
   ]
  },
  {
   "cell_type": "markdown",
   "id": "6f9e6fa3",
   "metadata": {},
   "source": [
    "### Dehydratases (DH)"
   ]
  },
  {
   "cell_type": "code",
   "execution_count": 66,
   "id": "590b8a44",
   "metadata": {},
   "outputs": [],
   "source": [
    "dh_rxn = AllChem.ReactionFromSmarts('[#16:1]-[#6:2](=[#8:3])-[#6:4]-[#6:5](-[#8:6])-[#6:7]>>[#16:1]-[#6:2](=[#8:3])-[#6:4]-[#6:5]=[#6:7]')"
   ]
  },
  {
   "cell_type": "markdown",
   "id": "8c20439c",
   "metadata": {},
   "source": [
    "### Enoylreductases (ER)"
   ]
  },
  {
   "cell_type": "code",
   "execution_count": 40,
   "id": "f0927c03",
   "metadata": {},
   "outputs": [],
   "source": [
    "# Enoylreductase (ER) Domain - taken directly from ClusterCAD\n",
    "er_rxn = AllChem.ReactionFromSmarts('[CH2]=[CH]>>[CH2][CH2]')"
   ]
  },
  {
   "cell_type": "markdown",
   "id": "737ca499",
   "metadata": {},
   "source": [
    "### Methyltransferases (MT) - C methyltransferase and O methyltransferase operators from ClusterCAD"
   ]
  },
  {
   "cell_type": "code",
   "execution_count": 41,
   "id": "8a887d29",
   "metadata": {},
   "outputs": [],
   "source": [
    "cMT_rxn = AllChem.ReactionFromSmarts('[C:1][C:2](=[O:3])[S:4]>>[C:1](C)[C:2](=[O:3])[S:4]')"
   ]
  },
  {
   "cell_type": "code",
   "execution_count": 42,
   "id": "6c9e62b1",
   "metadata": {},
   "outputs": [],
   "source": [
    "# Methyltransferase (MT) Domain\n",
    "mt_reaction = AllChem.ReactionFromSmarts('[CH3:1]>>[*:1][CH3]')"
   ]
  },
  {
   "cell_type": "markdown",
   "id": "bf74f3a6",
   "metadata": {},
   "source": [
    "### Different types of Thioesterases (TE)"
   ]
  },
  {
   "cell_type": "markdown",
   "id": "05622ea1",
   "metadata": {},
   "source": [
    "#### 1. Macrolactone froming TE (from ClusterCAD) - don't run"
   ]
  },
  {
   "cell_type": "code",
   "execution_count": 43,
   "id": "8a6f2245",
   "metadata": {},
   "outputs": [],
   "source": [
    "# if len(chain.GetSubstructMatches(Chem.MolFromSmiles('CC(=O)CC(=O)S'))) == 1:\n",
    "    \n",
    "#     macrolactonization_TE = AllChem.ReactionFromSmarts(('[C:2](=[O:3])[C:4][C:5](=[O:6])[S:7]>>'\n",
    "#                                                   '[C:2]([O:3]C)=[C:4][C:5](=[O:6])[S:7]'))\n",
    "    \n",
    "# if len(chain.GetSubstructMatches(Chem.MolFromSmiles('CC(O)CC(=O)S'))) == 1:\n",
    "    \n",
    "#     macrolactonization_TE = AllChem.ReactionFromSmarts(('[C:2]([O:3])[C:4][C:5](=[O:6])[S:7]>>'\n",
    "#                                                   '[C:2]([O:3]C)[C:4][C:5](=[O:6])[S:7]'))"
   ]
  },
  {
   "cell_type": "markdown",
   "id": "a10b43e8",
   "metadata": {},
   "source": [
    "#### 2. Carboxylic acid forming TE (from ClusterCAD)"
   ]
  },
  {
   "cell_type": "code",
   "execution_count": 44,
   "id": "40d9d0cb",
   "metadata": {},
   "outputs": [],
   "source": [
    "carboxylic_acid_TE = AllChem.ReactionFromSmarts('[C:1](=[O:2])[S:3]>>[C:1](=[O:2])[O].[S:3]')"
   ]
  },
  {
   "cell_type": "code",
   "execution_count": 45,
   "id": "4b6911c5",
   "metadata": {},
   "outputs": [],
   "source": [
    "# Yash written TE reaction for cyclization\n",
    "# the position of the 1 indicates where the ring begins and ends\n",
    "macrolactonization_TE = AllChem.ReactionFromSmarts('[#16:1]-[#6:2](=[#8:3])-[#6:4]-[#6:5]-[#6:6]-[#6:7]-[#8:8]>>[#16:1].[#6:2]1(=[#8:3])-[#6:4]-[#6:5]-[#6:6]-[#6:7]-[#8:8]1')"
   ]
  },
  {
   "cell_type": "markdown",
   "id": "c1256d94",
   "metadata": {},
   "source": [
    "#### 3. Terminal alkene forming TE (by Yash, in conjunction with a sulfonyltransferase)"
   ]
  },
  {
   "cell_type": "code",
   "execution_count": 46,
   "id": "9829b78e",
   "metadata": {},
   "outputs": [
    {
     "name": "stdout",
     "output_type": "stream",
     "text": [
      "Structure 1: pattern found True\n"
     ]
    }
   ],
   "source": [
    "substructure = Chem.MolFromSmarts('[C:1]-[C:2](=[O:3])-[C:4]-[C:5](=[O:6])-[S:7]')\n",
    "smiles_list = ['C=CCC(=O)[C@@H](C)C(=O)[S]']\n",
    "is_substructure_present(smiles_list,substructure)"
   ]
  },
  {
   "cell_type": "code",
   "execution_count": 47,
   "id": "206677c2",
   "metadata": {},
   "outputs": [
    {
     "data": {
      "image/png": "[encoded data removed]",
      "text/plain": [
       "<rdkit.Chem.rdchem.Mol at 0x7fb9dbc79e40>"
      ]
     },
     "execution_count": 47,
     "metadata": {},
     "output_type": "execute_result"
    }
   ],
   "source": [
    "Chem.MolFromSmarts('[C:1]-[C:2](=[O:3])-[C:4]-[C:5](=[O:6])-[S:7]')"
   ]
  },
  {
   "cell_type": "code",
   "execution_count": 48,
   "id": "7a0f660f",
   "metadata": {},
   "outputs": [
    {
     "data": {
      "image/png": "[encoded data removed]",
      "text/plain": [
       "<rdkit.Chem.rdchem.Mol at 0x7fb9fb06e3c0>"
      ]
     },
     "execution_count": 48,
     "metadata": {},
     "output_type": "execute_result"
    }
   ],
   "source": [
    "final_product"
   ]
  },
  {
   "cell_type": "markdown",
   "id": "56c3759e",
   "metadata": {},
   "source": [
    "### Discodermolide"
   ]
  },
  {
   "cell_type": "markdown",
   "id": "4e3c94dd",
   "metadata": {},
   "source": [
    "#### C1-C8 subunit synthesis"
   ]
  },
  {
   "cell_type": "code",
   "execution_count": 49,
   "id": "397b4cee",
   "metadata": {},
   "outputs": [
    {
     "data": {
      "image/png": "[encoded data removed]",
      "text/plain": [
       "<rdkit.Chem.rdchem.Mol at 0x7fb9fb06e5f0>"
      ]
     },
     "execution_count": 49,
     "metadata": {},
     "output_type": "execute_result"
    }
   ],
   "source": [
    "starter_unit = Chem.MolFromSmiles((starters_dict['allylmal'])) # allylmalonyl-CoA starter\n",
    "extender_unit = Chem.MolFromSmiles((extenders_dict['mmal'])) # methylmalonyl-CoA extender\n",
    "\n",
    "### Module 1\n",
    "\n",
    "# KS in the first module takes allylmalonyl-CoA from the loading module and adds it to a methylmalonyl-CoA extender\n",
    "products = KS_rxn.RunReactants((extender_unit,starter_unit))\n",
    "\n",
    "for product in products[0]:\n",
    "    if Chem.MolToSmiles(product) != 'O=C=O' and Chem.MolToSmiles(product) != 'S':\n",
    "        chain = product\n",
    "\n",
    "# KR in the first module reduces the carbonyl group that is farther away from the sulfur bond\n",
    "chain = KR_type_B2_y.RunReactants((chain,))[0][0]\n",
    "\n",
    "# Even though the stereochemistry of the product may be displayed differently from what is displayed on ClusterCAD,\n",
    "# I confirmed that both molecules have the same absolute stereochemistry\n",
    "chain"
   ]
  },
  {
   "cell_type": "code",
   "execution_count": 50,
   "id": "64a0eec1",
   "metadata": {},
   "outputs": [
    {
     "data": {
      "image/png": "[encoded data removed]",
      "text/plain": [
       "<rdkit.Chem.rdchem.Mol at 0x7fb9fb06e9e0>"
      ]
     },
     "execution_count": 50,
     "metadata": {},
     "output_type": "execute_result"
    }
   ],
   "source": [
    "### Module 2\n",
    "\n",
    "# KS in the second module takes the chain from the first module and adds it to a methylmalonyl-CoA extender\n",
    "products = KS_rxn.RunReactants((extender_unit,chain))\n",
    "\n",
    "for product in products[0]:\n",
    "    if Chem.MolToSmiles(product) != 'O=C=O' and Chem.MolToSmiles(product) != 'S':\n",
    "        chain = product\n",
    "\n",
    "# KR in the second module reduces the carbonyl group that is farther away from the sulfur bond\n",
    "chain = KR_type_A1_y.RunReactants((chain,))[0][0]\n",
    "\n",
    "# Even though the stereochemistry of the product may be displayed differently from what is displayed on ClusterCAD,\n",
    "# I confirmed that both molecules have the same absolute stereochemistry\n",
    "chain"
   ]
  },
  {
   "cell_type": "code",
   "execution_count": 51,
   "id": "1b142d06",
   "metadata": {},
   "outputs": [],
   "source": [
    "### Module 2 (Yes, this is still module 2)\n",
    "\n",
    "# final termination and off-loading reaction\n",
    "products = macrolactonization_TE.RunReactants((chain,))\n",
    "\n",
    "for product in products[0]:\n",
    "    if Chem.MolToSmiles(product) != 'S':\n",
    "        final_product = product"
   ]
  },
  {
   "cell_type": "code",
   "execution_count": 52,
   "id": "09c5c89e",
   "metadata": {},
   "outputs": [
    {
     "data": {
      "image/png": "[encoded data removed]",
      "text/plain": [
       "<rdkit.Chem.rdchem.Mol at 0x7fb9dbdbaf20>"
      ]
     },
     "execution_count": 52,
     "metadata": {},
     "output_type": "execute_result"
    }
   ],
   "source": [
    "final_product"
   ]
  },
  {
   "cell_type": "code",
   "execution_count": 53,
   "id": "572ea846",
   "metadata": {},
   "outputs": [
    {
     "data": {
      "text/plain": [
       "'C=CC[C@H]1OC(=O)[C@H](C)[C@@H](O)[C@H]1C'"
      ]
     },
     "execution_count": 53,
     "metadata": {},
     "output_type": "execute_result"
    }
   ],
   "source": [
    "Chem.MolToSmiles(final_product)"
   ]
  },
  {
   "cell_type": "markdown",
   "id": "11f11625",
   "metadata": {},
   "source": [
    "#### C19-C24 subunit"
   ]
  },
  {
   "cell_type": "code",
   "execution_count": 138,
   "id": "2acdd08d",
   "metadata": {},
   "outputs": [
    {
     "data": {
      "image/png": "[encoded data removed]",
      "text/plain": [
       "<rdkit.Chem.rdchem.Mol at 0x7fb9dbe39f90>"
      ]
     },
     "execution_count": 138,
     "metadata": {},
     "output_type": "execute_result"
    }
   ],
   "source": [
    "starter_unit = Chem.MolFromSmiles((starters_dict['allylmal'])) # allylmalonyl-CoA starter\n",
    "extender_unit = Chem.MolFromSmiles((extenders_dict['mal'])) # malonyl-CoA extender\n",
    "dh_rxn = AllChem.ReactionFromSmarts('[#16:1]-[#6:2](=[#8:3])-[#6:4]-[#6:5](-[#8:6])-[#6:7]>>[#16:1]-[#6:2](=[#8:3])-[#6:4]-[#6:5]=[#6:7]')\n",
    "\n",
    "### Module 1\n",
    "\n",
    "# KS in the first module takes allylmalonyl-CoA from the loading module and adds it to a methylmalonyl-CoA extender\n",
    "products = KS_rxn.RunReactants((extender_unit,starter_unit))\n",
    "\n",
    "for product in products[0]:\n",
    "    if Chem.MolToSmiles(product) != 'O=C=O' and Chem.MolToSmiles(product) != 'S':\n",
    "        chain = product\n",
    "\n",
    "# KR in the first module reduces the carbonyl group that is farther away from the sulfur bond\n",
    "chain = KR_type_B2_y.RunReactants((chain,))[0][0]\n",
    "\n",
    "# DH in the first module removes an alcohol group and a hydrogen atom to induce a double bond and release water\n",
    "products = dh_rxn.RunReactants((chain,))\n",
    "\n",
    "for product in products[0]:\n",
    "    if Chem.MolToSmiles(product) != 'O=C=O' and Chem.MolToSmiles(product) != 'S':\n",
    "        chain = product\n",
    "\n",
    "# MT in the first module adds a methyl group\n",
    "cMT_rxn = AllChem.ReactionFromSmarts('[#16:1]-[#6:2](=[#8:3])-[#6:4]>>[#16:1]-[#6:2](=[#8:3])-[#6:4]-[#6@@:5]')\n",
    "products = cMT_rxn.RunReactants((chain,))\n",
    "\n",
    "for product in products[0]:\n",
    "    if Chem.MolToSmiles(product) != 'O=C=O' and Chem.MolToSmiles(product) != 'S':\n",
    "        chain = product\n",
    "\n",
    "# Carboxylic acid forming \n",
    "carboxylic_acid_TE.RunReactants((chain,))[0][0]"
   ]
  },
  {
   "cell_type": "markdown",
   "id": "bd0297ce",
   "metadata": {},
   "source": [
    "#### C9-C18 subunit"
   ]
  },
  {
   "cell_type": "code",
   "execution_count": 139,
   "id": "dc373f86",
   "metadata": {},
   "outputs": [],
   "source": [
    "starter_unit = Chem.MolFromSmiles((starters_dict['allylmal'])) # allylmalonyl-CoA starter\n",
    "extender_unit = Chem.MolFromSmiles((extenders_dict['mal'])) # malonyl-CoA extender\n",
    "dh_rxn = AllChem.ReactionFromSmarts('[#16:1]-[#6:2](=[#8:3])-[#6:4]-[#6:5](-[#8:6])-[#6:7]>>[#16:1]-[#6:2](=[#8:3])-[#6:4]-[#6:5]=[#6:7]')"
   ]
  },
  {
   "cell_type": "code",
   "execution_count": 140,
   "id": "defde76a",
   "metadata": {},
   "outputs": [
    {
     "data": {
      "image/png": "[encoded data removed]",
      "text/plain": [
       "<rdkit.Chem.rdchem.Mol at 0x7fb9dbe396d0>"
      ]
     },
     "execution_count": 140,
     "metadata": {},
     "output_type": "execute_result"
    }
   ],
   "source": [
    "### Module 1\n",
    "\n",
    "# KS in the first module takes allylmalonyl-CoA from the loading module and adds it to a methylmalonyl-CoA extender\n",
    "products = KS_rxn.RunReactants((extender_unit,starter_unit))\n",
    "\n",
    "for product in products[0]:\n",
    "    if Chem.MolToSmiles(product) != 'O=C=O' and Chem.MolToSmiles(product) != 'S':\n",
    "        chain = product\n",
    "\n",
    "# KR in the first module reduces the carbonyl group that is farther away from the sulfur bond\n",
    "chain = KR_type_B2_y.RunReactants((chain,))[0][0]\n",
    "\n",
    "# DH in the first module removes an alcohol group and a hydrogen atom to induce a double bond and release water\n",
    "products = dh_rxn.RunReactants((chain,))\n",
    "\n",
    "for product in products[0]:\n",
    "    if Chem.MolToSmiles(product) != 'O=C=O' and Chem.MolToSmiles(product) != 'S':\n",
    "        chain = product\n",
    "\n",
    "# MT in the first module adds a methyl group\n",
    "cMT_rxn = AllChem.ReactionFromSmarts('[#16:1]-[#6:2](=[#8:3])-[#6:4]>>[#16:1]-[#6:2](=[#8:3])-[#6:4]-[#6@@:5]')\n",
    "products = cMT_rxn.RunReactants((chain,))\n",
    "\n",
    "for product in products[0]:\n",
    "    if Chem.MolToSmiles(product) != 'O=C=O' and Chem.MolToSmiles(product) != 'S':\n",
    "        chain = product\n",
    "        \n",
    "chain"
   ]
  },
  {
   "cell_type": "code",
   "execution_count": 141,
   "id": "fd1cc244",
   "metadata": {},
   "outputs": [
    {
     "data": {
      "image/png": "[encoded data removed]",
      "text/plain": [
       "<rdkit.Chem.rdchem.Mol at 0x7fb9dbe79510>"
      ]
     },
     "execution_count": 141,
     "metadata": {},
     "output_type": "execute_result"
    }
   ],
   "source": [
    "### Module 2\n",
    "products = KS_rxn.RunReactants((extender_unit,chain))\n",
    "\n",
    "for product in products[0]:\n",
    "    if Chem.MolToSmiles(product) != 'O=C=O' and Chem.MolToSmiles(product) != 'S':\n",
    "        chain = product\n",
    "        \n",
    "# KR in the second module reduces the carbonyl group that is farther away from the sulfur bond\n",
    "chain = KR_type_B2_y.RunReactants((chain,))[0][0]\n",
    "chain"
   ]
  },
  {
   "cell_type": "code",
   "execution_count": 142,
   "id": "9fc1ba85",
   "metadata": {},
   "outputs": [
    {
     "data": {
      "image/png": "[encoded data removed]",
      "text/plain": [
       "<rdkit.Chem.rdchem.Mol at 0x7fb9dbe7d350>"
      ]
     },
     "execution_count": 142,
     "metadata": {},
     "output_type": "execute_result"
    }
   ],
   "source": [
    "dh_rxn = AllChem.ReactionFromSmarts('[#16:1]-[#6:2](=[#8:3])-[#6:4]-[#6:5](-[#8:6])-[#6:7]>>[#16:1]-[#6:2](=[#8:3])-[#6:4]=[#6:5]-[#6:7]')\n",
    "# DH in the second module removes an alcohol group and a hydrogen atom to induce a double bond and release water\n",
    "products = dh_rxn.RunReactants((chain,))\n",
    "\n",
    "for product in products[0]:\n",
    "    if Chem.MolToSmiles(product) != 'O=C=O' and Chem.MolToSmiles(product) != 'S':\n",
    "        chain = product\n",
    "        \n",
    "chain"
   ]
  },
  {
   "cell_type": "code",
   "execution_count": 143,
   "id": "30341f6f",
   "metadata": {},
   "outputs": [
    {
     "data": {
      "image/png": "[encoded data removed]",
      "text/plain": [
       "<rdkit.Chem.rdchem.Mol at 0x7fb9dbe792e0>"
      ]
     },
     "execution_count": 143,
     "metadata": {},
     "output_type": "execute_result"
    }
   ],
   "source": [
    "# MT in the second module adds a methyl group\n",
    "cMT_rxn = AllChem.ReactionFromSmarts('[#16:1]-[#6:2](=[#8:3])-[#6:4]>>[#16:1]-[#6:2](=[#8:3])-[#6:4]-[#6@@:5]')\n",
    "products = cMT_rxn.RunReactants((chain,))\n",
    "    \n",
    "for product in products[0]:\n",
    "    if Chem.MolToSmiles(product) != 'O=C=O' and Chem.MolToSmiles(product) != 'S':\n",
    "        chain = product\n",
    "        \n",
    "chain"
   ]
  },
  {
   "cell_type": "code",
   "execution_count": 144,
   "id": "170119c2",
   "metadata": {},
   "outputs": [
    {
     "data": {
      "image/png": "[encoded data removed]",
      "text/plain": [
       "<rdkit.Chem.rdchem.Mol at 0x7fb9dbe79580>"
      ]
     },
     "execution_count": 144,
     "metadata": {},
     "output_type": "execute_result"
    }
   ],
   "source": [
    "### Module 3\n",
    "products = KS_rxn.RunReactants((extender_unit,chain))\n",
    "\n",
    "for product in products[0]:\n",
    "    if Chem.MolToSmiles(product) != 'O=C=O' and Chem.MolToSmiles(product) != 'S':\n",
    "        chain = product\n",
    "\n",
    "chain"
   ]
  },
  {
   "cell_type": "code",
   "execution_count": 145,
   "id": "eec67c99",
   "metadata": {
    "scrolled": true
   },
   "outputs": [
    {
     "data": {
      "image/png": "[encoded data removed]",
      "text/plain": [
       "<rdkit.Chem.rdchem.Mol at 0x7fb9dbe79820>"
      ]
     },
     "execution_count": 145,
     "metadata": {},
     "output_type": "execute_result"
    }
   ],
   "source": [
    "# KR in the third module reduces the carbonyl group that is farther away from the sulfur bond\n",
    "chain = KR_type_B2_y.RunReactants((chain,))[0][0]\n",
    "\n",
    "# MT in the third module adds a methyl group\n",
    "cMT_rxn = AllChem.ReactionFromSmarts('[#16:1]-[#6:2](=[#8:3])-[#6:4]>>[#16:1]-[#6:2](=[#8:3])-[#6:4]-[#6@@:5]')\n",
    "products = cMT_rxn.RunReactants((chain,))\n",
    "    \n",
    "for product in products[0]:\n",
    "    if Chem.MolToSmiles(product) != 'O=C=O' and Chem.MolToSmiles(product) != 'S':\n",
    "        chain = product\n",
    "        \n",
    "chain"
   ]
  },
  {
   "cell_type": "markdown",
   "id": "02aff90d",
   "metadata": {},
   "source": [
    "### Retrotide points"
   ]
  },
  {
   "cell_type": "markdown",
   "id": "3f8016f8",
   "metadata": {},
   "source": [
    "#### 1. SMILES string for mmal"
   ]
  },
  {
   "cell_type": "markdown",
   "id": "080a58f1",
   "metadata": {},
   "source": [
    "It looks like the SMILES string for methylmalonyl-CoA (mmal) in `retrotide/data/starters.smi` (github) is `CC(=O)[S]` but would mmal load 3 carbons so should this SMILES be: `CCC(=O)[S]` instead?"
   ]
  },
  {
   "cell_type": "markdown",
   "id": "be7d917d",
   "metadata": {},
   "source": [
    "#### For NRPSs the A, C, Ox, R,  E (switch L to D amino acids), N methyltransferase, F (formylation domain), and AOX (A domain with a monooxygenase), R (reductive release domain that can stand in place of the TE) but for NRPSs is already present in ClusterCAD"
   ]
  },
  {
   "cell_type": "code",
   "execution_count": null,
   "id": "2c4ad0d9",
   "metadata": {},
   "outputs": [],
   "source": [
    "Chem.MolFromSmiles('CC(=O)CC(=O)S')"
   ]
  },
  {
   "cell_type": "code",
   "execution_count": null,
   "id": "89b561fb",
   "metadata": {},
   "outputs": [],
   "source": []
  }
 ],
 "metadata": {
  "kernelspec": {
   "display_name": "comprehensive_env_py38",
   "language": "python",
   "name": "comprehensive_env_py38"
  },
  "language_info": {
   "codemirror_mode": {
    "name": "ipython",
    "version": 3
   },
   "file_extension": ".py",
   "mimetype": "text/x-python",
   "name": "python",
   "nbconvert_exporter": "python",
   "pygments_lexer": "ipython3",
   "version": "3.8.18"
  }
 },
 "nbformat": 4,
 "nbformat_minor": 5
}
