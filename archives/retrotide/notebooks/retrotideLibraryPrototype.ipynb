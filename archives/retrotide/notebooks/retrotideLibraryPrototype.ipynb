{
 "cells": [
  {
   "cell_type": "markdown",
   "metadata": {
    "pycharm": {
     "name": "#%% md\n"
    }
   },
   "source": [
    "# RetroTide prototype\n",
    "\n",
    "Finds 'best' PKS designs for a given chemical structure\n",
    "\n",
    "This notebook was designed as a test to build 10 commodity and 10 specialty chemicals\n",
    "\n",
    "by Tyler W. H. Backman and Vincent Blay"
   ]
  },
  {
   "cell_type": "code",
   "execution_count": 1,
   "metadata": {
    "pycharm": {
     "name": "#%%\n"
    }
   },
   "outputs": [
    {
     "name": "stdout",
     "output_type": "stream",
     "text": [
      "Obtaining file:///Users/yashchainani96/PycharmProjects/retrotide\n",
      "  Preparing metadata (setup.py): started\n",
      "  Preparing metadata (setup.py): finished with status 'done'\n",
      "Requirement already satisfied: cobra in /Users/yashchainani96/anaconda3/envs/comprehensive_env_py38/lib/python3.8/site-packages (from retrotide==0.1) (0.29.0)\n",
      "Requirement already satisfied: numpy>=1.8.0 in /Users/yashchainani96/anaconda3/envs/comprehensive_env_py38/lib/python3.8/site-packages (from retrotide==0.1) (1.20.3)\n",
      "Requirement already satisfied: appdirs~=1.4 in /Users/yashchainani96/anaconda3/envs/comprehensive_env_py38/lib/python3.8/site-packages (from cobra->retrotide==0.1) (1.4.4)\n",
      "Requirement already satisfied: depinfo~=2.2 in /Users/yashchainani96/anaconda3/envs/comprehensive_env_py38/lib/python3.8/site-packages (from cobra->retrotide==0.1) (2.2.0)\n",
      "Requirement already satisfied: diskcache~=5.0 in /Users/yashchainani96/anaconda3/envs/comprehensive_env_py38/lib/python3.8/site-packages (from cobra->retrotide==0.1) (5.6.3)\n",
      "Requirement already satisfied: future in /Users/yashchainani96/anaconda3/envs/comprehensive_env_py38/lib/python3.8/site-packages (from cobra->retrotide==0.1) (0.18.3)\n",
      "Requirement already satisfied: httpx~=0.24 in /Users/yashchainani96/anaconda3/envs/comprehensive_env_py38/lib/python3.8/site-packages (from cobra->retrotide==0.1) (0.25.2)\n",
      "Requirement already satisfied: importlib-resources in /Users/yashchainani96/anaconda3/envs/comprehensive_env_py38/lib/python3.8/site-packages (from cobra->retrotide==0.1) (6.1.0)\n",
      "Requirement already satisfied: optlang~=1.8 in /Users/yashchainani96/anaconda3/envs/comprehensive_env_py38/lib/python3.8/site-packages (from cobra->retrotide==0.1) (1.8.1)\n",
      "Requirement already satisfied: pandas<3.0,>=1.0 in /Users/yashchainani96/anaconda3/envs/comprehensive_env_py38/lib/python3.8/site-packages (from cobra->retrotide==0.1) (2.0.3)\n",
      "Requirement already satisfied: pydantic>=1.6 in /Users/yashchainani96/anaconda3/envs/comprehensive_env_py38/lib/python3.8/site-packages (from cobra->retrotide==0.1) (2.4.2)\n",
      "Requirement already satisfied: python-libsbml~=5.19 in /Users/yashchainani96/anaconda3/envs/comprehensive_env_py38/lib/python3.8/site-packages (from cobra->retrotide==0.1) (5.20.2)\n",
      "Requirement already satisfied: rich>=8.0 in /Users/yashchainani96/anaconda3/envs/comprehensive_env_py38/lib/python3.8/site-packages (from cobra->retrotide==0.1) (13.6.0)\n",
      "Requirement already satisfied: ruamel.yaml~=0.16 in /Users/yashchainani96/anaconda3/envs/comprehensive_env_py38/lib/python3.8/site-packages (from cobra->retrotide==0.1) (0.18.5)\n",
      "Requirement already satisfied: swiglpk in /Users/yashchainani96/anaconda3/envs/comprehensive_env_py38/lib/python3.8/site-packages (from cobra->retrotide==0.1) (5.0.10)\n",
      "Requirement already satisfied: anyio in /Users/yashchainani96/anaconda3/envs/comprehensive_env_py38/lib/python3.8/site-packages (from httpx~=0.24->cobra->retrotide==0.1) (3.5.0)\n",
      "Requirement already satisfied: certifi in /Users/yashchainani96/anaconda3/envs/comprehensive_env_py38/lib/python3.8/site-packages (from httpx~=0.24->cobra->retrotide==0.1) (2023.11.17)\n",
      "Requirement already satisfied: httpcore==1.* in /Users/yashchainani96/anaconda3/envs/comprehensive_env_py38/lib/python3.8/site-packages (from httpx~=0.24->cobra->retrotide==0.1) (1.0.2)\n",
      "Requirement already satisfied: idna in /Users/yashchainani96/anaconda3/envs/comprehensive_env_py38/lib/python3.8/site-packages (from httpx~=0.24->cobra->retrotide==0.1) (3.4)\n",
      "Requirement already satisfied: sniffio in /Users/yashchainani96/anaconda3/envs/comprehensive_env_py38/lib/python3.8/site-packages (from httpx~=0.24->cobra->retrotide==0.1) (1.2.0)\n",
      "Requirement already satisfied: h11<0.15,>=0.13 in /Users/yashchainani96/anaconda3/envs/comprehensive_env_py38/lib/python3.8/site-packages (from httpcore==1.*->httpx~=0.24->cobra->retrotide==0.1) (0.14.0)\n",
      "Requirement already satisfied: six>=1.9 in /Users/yashchainani96/anaconda3/envs/comprehensive_env_py38/lib/python3.8/site-packages (from optlang~=1.8->cobra->retrotide==0.1) (1.16.0)\n",
      "Requirement already satisfied: sympy>=1.12.0 in /Users/yashchainani96/anaconda3/envs/comprehensive_env_py38/lib/python3.8/site-packages (from optlang~=1.8->cobra->retrotide==0.1) (1.12)\n",
      "Requirement already satisfied: python-dateutil>=2.8.2 in /Users/yashchainani96/anaconda3/envs/comprehensive_env_py38/lib/python3.8/site-packages (from pandas<3.0,>=1.0->cobra->retrotide==0.1) (2.8.2)\n",
      "Requirement already satisfied: pytz>=2020.1 in /Users/yashchainani96/anaconda3/envs/comprehensive_env_py38/lib/python3.8/site-packages (from pandas<3.0,>=1.0->cobra->retrotide==0.1) (2023.3.post1)\n",
      "Requirement already satisfied: tzdata>=2022.1 in /Users/yashchainani96/anaconda3/envs/comprehensive_env_py38/lib/python3.8/site-packages (from pandas<3.0,>=1.0->cobra->retrotide==0.1) (2023.3)\n",
      "Requirement already satisfied: annotated-types>=0.4.0 in /Users/yashchainani96/anaconda3/envs/comprehensive_env_py38/lib/python3.8/site-packages (from pydantic>=1.6->cobra->retrotide==0.1) (0.6.0)\n",
      "Requirement already satisfied: pydantic-core==2.10.1 in /Users/yashchainani96/anaconda3/envs/comprehensive_env_py38/lib/python3.8/site-packages (from pydantic>=1.6->cobra->retrotide==0.1) (2.10.1)\n",
      "Requirement already satisfied: typing-extensions>=4.6.1 in /Users/yashchainani96/anaconda3/envs/comprehensive_env_py38/lib/python3.8/site-packages (from pydantic>=1.6->cobra->retrotide==0.1) (4.7.1)\n",
      "Requirement already satisfied: markdown-it-py>=2.2.0 in /Users/yashchainani96/anaconda3/envs/comprehensive_env_py38/lib/python3.8/site-packages (from rich>=8.0->cobra->retrotide==0.1) (3.0.0)\n",
      "Requirement already satisfied: pygments<3.0.0,>=2.13.0 in /Users/yashchainani96/anaconda3/envs/comprehensive_env_py38/lib/python3.8/site-packages (from rich>=8.0->cobra->retrotide==0.1) (2.15.1)\n",
      "Requirement already satisfied: ruamel.yaml.clib>=0.2.7 in /Users/yashchainani96/anaconda3/envs/comprehensive_env_py38/lib/python3.8/site-packages (from ruamel.yaml~=0.16->cobra->retrotide==0.1) (0.2.8)\n",
      "Requirement already satisfied: zipp>=3.1.0 in /Users/yashchainani96/anaconda3/envs/comprehensive_env_py38/lib/python3.8/site-packages (from importlib-resources->cobra->retrotide==0.1) (3.11.0)\n",
      "Requirement already satisfied: mdurl~=0.1 in /Users/yashchainani96/anaconda3/envs/comprehensive_env_py38/lib/python3.8/site-packages (from markdown-it-py>=2.2.0->rich>=8.0->cobra->retrotide==0.1) (0.1.2)\n",
      "Requirement already satisfied: mpmath>=0.19 in /Users/yashchainani96/anaconda3/envs/comprehensive_env_py38/lib/python3.8/site-packages (from sympy>=1.12.0->optlang~=1.8->cobra->retrotide==0.1) (1.3.0)\n",
      "Installing collected packages: retrotide\n",
      "  Attempting uninstall: retrotide\n",
      "    Found existing installation: retrotide 0.1\n",
      "    Uninstalling retrotide-0.1:\n",
      "      Successfully uninstalled retrotide-0.1\n",
      "  Running setup.py develop for retrotide\n",
      "Successfully installed retrotide-0.1\n"
     ]
    },
    {
     "name": "stderr",
     "output_type": "stream",
     "text": [
      "/Users/yashchainani96/anaconda3/envs/comprehensive_env_py38/lib/python3.8/site-packages/pip/_internal/metadata/pkg_resources.py:275: UserWarning: Unbuilt egg for minedatabase [unknown version] (/Users/yashchainani96/PycharmProjects/pathway_discovery_V4.0/MINE-Database_V2)\n",
      "  self._ws.require(name)\n"
     ]
    },
    {
     "data": {
      "text/plain": [
       "0"
      ]
     },
     "execution_count": 1,
     "metadata": {},
     "output_type": "execute_result"
    }
   ],
   "source": [
    "# uncomment to install Retrotide\n",
    "import os\n",
    "os.system('cd ../ && pip3 install -e ./')"
   ]
  },
  {
   "cell_type": "code",
   "execution_count": 2,
   "metadata": {
    "pycharm": {
     "name": "#%%\n"
    }
   },
   "outputs": [
    {
     "name": "stderr",
     "output_type": "stream",
     "text": [
      "[13:33:08] product atom-mapping number 10 not found in reactants.\n",
      "[13:33:08] product atom-mapping number 10 not found in reactants.\n"
     ]
    }
   ],
   "source": [
    "from retrotide import structureDB, designPKS\n",
    "import retrotide"
   ]
  },
  {
   "cell_type": "code",
   "execution_count": 3,
   "metadata": {
    "pycharm": {
     "name": "#%%\n"
    }
   },
   "outputs": [],
   "source": [
    "from rdkit import Chem\n",
    "from rdkit.Chem import Draw, rdFMCS\n",
    "from rdkit.Chem.Draw import IPythonConsole\n",
    "%matplotlib inline"
   ]
  },
  {
   "cell_type": "code",
   "execution_count": 4,
   "metadata": {
    "pycharm": {
     "name": "#%%\n"
    }
   },
   "outputs": [],
   "source": [
    "from collections import OrderedDict"
   ]
  },
  {
   "cell_type": "markdown",
   "metadata": {
    "pycharm": {
     "name": "#%% md\n"
    }
   },
   "source": [
    "### demo creating a cluster with BCS"
   ]
  },
  {
   "cell_type": "code",
   "execution_count": 5,
   "metadata": {
    "pycharm": {
     "name": "#%%\n"
    }
   },
   "outputs": [],
   "source": [
    "from retrotide import structureDB, designPKS"
   ]
  },
  {
   "cell_type": "code",
   "execution_count": 6,
   "metadata": {
    "pycharm": {
     "name": "#%%\n"
    }
   },
   "outputs": [],
   "source": [
    "import retrotide"
   ]
  },
  {
   "cell_type": "code",
   "execution_count": 7,
   "metadata": {
    "pycharm": {
     "name": "#%%\n"
    }
   },
   "outputs": [],
   "source": [
    "testcluster = retrotide.Cluster(modules=[retrotide.allStarterTypes[0], \n",
    "                                         retrotide.allModuleTypes[0], \n",
    "                                         retrotide.allModuleTypes[1]])"
   ]
  },
  {
   "cell_type": "code",
   "execution_count": 8,
   "metadata": {
    "pycharm": {
     "name": "#%%\n"
    }
   },
   "outputs": [
    {
     "data": {
      "image/png": "[encoded data removed]",
      "text/plain": [
       "<rdkit.Chem.rdchem.Mol at 0x7f972017bba0>"
      ]
     },
     "execution_count": 8,
     "metadata": {},
     "output_type": "execute_result"
    }
   ],
   "source": [
    "testcluster.computeProduct(structureDB)"
   ]
  },
  {
   "cell_type": "markdown",
   "metadata": {
    "pycharm": {
     "name": "#%% md\n"
    }
   },
   "source": [
    "### design some PKSs"
   ]
  },
  {
   "cell_type": "code",
   "execution_count": 9,
   "metadata": {},
   "outputs": [
    {
     "name": "stdout",
     "output_type": "stream",
     "text": [
      "Extenders SMI file created successfully.\n"
     ]
    }
   ],
   "source": [
    "### extender units\n",
    "molecules_data = [\n",
    "    {\"smiles\": \"O=C(O)CC(=O)[S]\", \"id\": \"Malonyl-CoA\", \"type\": \"CoA\", \"shortName\": \"mal\"},\n",
    "    {\"smiles\": \"C[C@@H](C(=O)O)C(=O)[S]\", \"id\": \"Methylmalonyl-CoA\", \"type\": \"CoA\", \"shortName\": \"mmal\"},\n",
    "    #{\"smiles\": \"C=CC[C@@H](C(=O)O)C(=O)[S]\", \"id\":\"allylmal\", \"type\": \"CoA\", \"shortName\": \"allylmal\"}\n",
    "]\n",
    "\n",
    "with open(\"../retrotide/data/extenders.smi\", \"w\") as file:\n",
    "    file.write(\"smiles\\tid\\ttype\\tshortName\\n\")\n",
    "    \n",
    "    for molecule in molecules_data:\n",
    "        smiles = molecule[\"smiles\"]\n",
    "        \n",
    "        mol = Chem.MolFromSmiles(smiles)\n",
    "        if mol is None:\n",
    "            print(f\"Warning: Invalid SMILES string for {molecule['id']}\")\n",
    "            continue\n",
    "        \n",
    "        file.write(f\"{smiles}\\t{molecule['id']}\\t{molecule['type']}\\t{molecule['shortName']}\\n\")\n",
    "\n",
    "print(\"Extenders SMI file created successfully.\")"
   ]
  },
  {
   "cell_type": "code",
   "execution_count": 10,
   "metadata": {},
   "outputs": [
    {
     "name": "stdout",
     "output_type": "stream",
     "text": [
      "Starters SMI file created successfully.\n"
     ]
    }
   ],
   "source": [
    "### starter units\n",
    "molecules_data = [\n",
    "    {\"smiles\": \"CC(=O)[S]\", \"id\": \"Malonyl-CoA\", \"type\": \"CoA\", \"shortName\": \"mal\"},\n",
    "    {\"smiles\": \"CCC(=O)[S]\", \"id\": \"Methylmalonyl-CoA\", \"type\": \"CoA\", \"shortName\": \"mmal\"},\n",
    "    #{\"smiles\": \"C=CCC(=O)[S]\", \"id\":\"allylmal\", \"type\": \"CoA\", \"shortName\": \"allylmal\"}\n",
    "]\n",
    "\n",
    "with open(\"../retrotide/data/starters.smi\", \"w\") as file:\n",
    "    file.write(\"smiles\\tid\\ttype\\tshortName\\n\")\n",
    "    \n",
    "    for molecule in molecules_data:\n",
    "        smiles = molecule[\"smiles\"]\n",
    "        \n",
    "        mol = Chem.MolFromSmiles(smiles)\n",
    "        if mol is None:\n",
    "            print(f\"Warning: Invalid SMILES string for {molecule['id']}\")\n",
    "            continue\n",
    "        \n",
    "        file.write(f\"{smiles}\\t{molecule['id']}\\t{molecule['type']}\\t{molecule['shortName']}\\n\")\n",
    "\n",
    "print(\"Starters SMI file created successfully.\")"
   ]
  },
  {
   "cell_type": "code",
   "execution_count": 11,
   "metadata": {
    "pycharm": {
     "name": "#%%\n"
    },
    "scrolled": false
   },
   "outputs": [
    {
     "name": "stdout",
     "output_type": "stream",
     "text": [
      "computing module 1\n",
      "   testing 18 designs\n",
      "   best score is 0.020833333333333332\n",
      "computing module 2\n",
      "   testing 162 designs\n",
      "   best score is 0.06018518518518518\n",
      "computing module 3\n",
      "   testing 225 designs\n",
      "   best score is 0.11290322580645161\n",
      "computing module 4\n",
      "   testing 225 designs\n",
      "   best score is 0.1780821917808219\n",
      "computing module 5\n",
      "   testing 225 designs\n",
      "   best score is 0.24748040313549832\n",
      "computing module 6\n",
      "   testing 225 designs\n",
      "   best score is 0.32662192393736017\n",
      "computing module 7\n",
      "   testing 225 designs\n",
      "   best score is 0.37666666666666665\n",
      "computing module 8\n",
      "   testing 225 designs\n",
      "   best score is 0.43446088794926\n",
      "computing module 9\n",
      "   testing 225 designs\n",
      "   best score is 0.49056603773584906\n",
      "computing module 10\n",
      "   testing 225 designs\n",
      "   best score is 0.5243664717348928\n",
      "computing module 11\n",
      "   testing 225 designs\n",
      "   best score is 0.5521698984302862\n",
      "computing module 12\n",
      "   testing 225 designs\n",
      "   best score is 0.5473684210526316\n"
     ]
    }
   ],
   "source": [
    "target = ('C[C@H]1[C@H](C[C@H](O)/C=C\\[C@@H]([C@H](O)[C@H](/C=C(C[C@@H]([C@@H](O)[C@@H]([C@@H](OC(N)=O)[C@H](/C=C\\C=C)C)C)C)/C)C)C)OC([C@H](C)[C@H]1O)=O')\n",
    "\n",
    "designs = designPKS(Chem.MolFromSmiles(target))\n",
    "#repr(designs[-1][0][0].modules)"
   ]
  },
  {
   "cell_type": "code",
   "execution_count": 12,
   "metadata": {
    "pycharm": {
     "name": "#%%\n"
    }
   },
   "outputs": [
    {
     "data": {
      "image/png": "[encoded data removed]",
      "text/plain": [
       "<rdkit.Chem.rdchem.Mol at 0x7f972024aac0>"
      ]
     },
     "execution_count": 12,
     "metadata": {},
     "output_type": "execute_result"
    }
   ],
   "source": [
    "designs[-1][0][0].computeProduct(structureDB)"
   ]
  },
  {
   "cell_type": "code",
   "execution_count": 13,
   "metadata": {
    "pycharm": {
     "name": "#%%\n"
    }
   },
   "outputs": [
    {
     "data": {
      "text/plain": [
       "'[[\"AT{\\'substrate\\': \\'Methylmalonyl-CoA\\'}\", \\'loading: True\\'], [\"AT{\\'substrate\\': \\'Methylmalonyl-CoA\\'}\", \\'loading: False\\'], [\"AT{\\'substrate\\': \\'Methylmalonyl-CoA\\'}\", \"KR{\\'type\\': \\'B1\\'}\", \\'loading: False\\'], [\"AT{\\'substrate\\': \\'Methylmalonyl-CoA\\'}\", \"KR{\\'type\\': \\'B1\\'}\", \\'loading: False\\'], [\"AT{\\'substrate\\': \\'Methylmalonyl-CoA\\'}\", \"KR{\\'type\\': \\'B1\\'}\", \\'DH{}\\', \\'loading: False\\'], [\"AT{\\'substrate\\': \\'Methylmalonyl-CoA\\'}\", \"KR{\\'type\\': \\'B1\\'}\", \\'loading: False\\'], [\"AT{\\'substrate\\': \\'Methylmalonyl-CoA\\'}\", \"KR{\\'type\\': \\'B1\\'}\", \\'loading: False\\'], [\"AT{\\'substrate\\': \\'Malonyl-CoA\\'}\", \"KR{\\'type\\': \\'B\\'}\", \\'DH{}\\', \\'loading: False\\'], [\"AT{\\'substrate\\': \\'Malonyl-CoA\\'}\", \"KR{\\'type\\': \\'B\\'}\", \\'DH{}\\', \\'loading: False\\'], [\"AT{\\'substrate\\': \\'Methylmalonyl-CoA\\'}\", \"KR{\\'type\\': \\'B1\\'}\", \\'loading: False\\'], [\"AT{\\'substrate\\': \\'Methylmalonyl-CoA\\'}\", \"KR{\\'type\\': \\'C1\\'}\", \\'loading: False\\'], [\"AT{\\'substrate\\': \\'Malonyl-CoA\\'}\", \"KR{\\'type\\': \\'B\\'}\", \\'DH{}\\', \\'ER{}\\', \\'loading: False\\']]'"
      ]
     },
     "execution_count": 13,
     "metadata": {},
     "output_type": "execute_result"
    }
   ],
   "source": [
    "repr(designs[-1][15][0].modules)"
   ]
  },
  {
   "cell_type": "markdown",
   "metadata": {
    "pycharm": {
     "name": "#%% md\n"
    }
   },
   "source": [
    "#### Example 1"
   ]
  },
  {
   "cell_type": "code",
   "execution_count": null,
   "metadata": {
    "pycharm": {
     "name": "#%%\n"
    }
   },
   "outputs": [],
   "source": [
    "target = ('CCCCCC')\n",
    "\n",
    "designs = designPKS(Chem.MolFromSmiles(target))\n",
    "repr(designs[-1][0][0].modules)"
   ]
  },
  {
   "cell_type": "code",
   "execution_count": null,
   "metadata": {
    "jupyter": {
     "outputs_hidden": false
    },
    "pycharm": {
     "name": "#%%\n"
    }
   },
   "outputs": [],
   "source": [
    "bound_product_mol_object = designs[-1][0][0].computeProduct(structureDB)"
   ]
  },
  {
   "cell_type": "code",
   "execution_count": null,
   "metadata": {
    "jupyter": {
     "outputs_hidden": false
    },
    "pycharm": {
     "name": "#%%\n"
    }
   },
   "outputs": [],
   "source": [
    "from rdkit.Chem import AllChem\n",
    "Chem.SanitizeMol(bound_product_mol_object)\n",
    "rxn = AllChem.ReactionFromSmarts('[C:1](=[O:2])[S:3]>>[C:1](=[O:2])[O].[S:3]')\n",
    "product = rxn.RunReactants((bound_product_mol_object,))[0][0]\n",
    "Chem.SanitizeMol(product)"
   ]
  },
  {
   "cell_type": "code",
   "execution_count": null,
   "metadata": {
    "jupyter": {
     "outputs_hidden": false
    },
    "pycharm": {
     "name": "#%%\n"
    }
   },
   "outputs": [],
   "source": [
    "repr(designs[-1][15][0].modules)"
   ]
  },
  {
   "cell_type": "markdown",
   "metadata": {
    "jupyter": {
     "outputs_hidden": false
    },
    "pycharm": {
     "name": "#%% md\n"
    }
   },
   "source": [
    "#### Example 2"
   ]
  },
  {
   "cell_type": "code",
   "execution_count": null,
   "metadata": {
    "jupyter": {
     "outputs_hidden": false
    },
    "pycharm": {
     "name": "#%%\n"
    }
   },
   "outputs": [],
   "source": [
    "Chem.MolFromSmiles('CCCCC(O)=O')"
   ]
  },
  {
   "cell_type": "code",
   "execution_count": null,
   "metadata": {
    "jupyter": {
     "outputs_hidden": false
    },
    "pycharm": {
     "name": "#%%\n"
    }
   },
   "outputs": [],
   "source": [
    "target = ('CCCCCC(O)=O')\n",
    "\n",
    "designs = designPKS(Chem.MolFromSmiles(target))\n",
    "repr(designs[-1][0][0].modules)"
   ]
  },
  {
   "cell_type": "code",
   "execution_count": null,
   "metadata": {
    "pycharm": {
     "name": "#%%\n"
    }
   },
   "outputs": [],
   "source": [
    "repr(designs[-1][5][0].modules)"
   ]
  },
  {
   "cell_type": "code",
   "execution_count": null,
   "metadata": {
    "pycharm": {
     "name": "#%%\n"
    }
   },
   "outputs": [],
   "source": [
    "repr(designs[-1][0][0].modules)"
   ]
  },
  {
   "cell_type": "code",
   "execution_count": null,
   "metadata": {
    "pycharm": {
     "name": "#%%\n"
    }
   },
   "outputs": [],
   "source": [
    "target = ('CC=O')\n",
    "\n",
    "designs = designPKS(Chem.MolFromSmiles(target))\n",
    "print('PKS design: ' + repr(designs[-1][0][0].modules))\n",
    "print('score: ' + str(designs[-1][0][1]))\n",
    "designs[-1][0][0].computeProduct(structureDB)"
   ]
  },
  {
   "cell_type": "code",
   "execution_count": null,
   "metadata": {
    "pycharm": {
     "name": "#%%\n"
    }
   },
   "outputs": [],
   "source": [
    "target = ('CCC(=O)C')\n",
    "\n",
    "designs = designPKS(Chem.MolFromSmiles(target))\n",
    "print('PKS design: ' + repr(designs[-1][0][0].modules))\n",
    "print('score: ' + str(designs[-1][0][1]))\n",
    "designs[-1][0][0].computeProduct(structureDB)"
   ]
  },
  {
   "cell_type": "code",
   "execution_count": null,
   "metadata": {
    "pycharm": {
     "name": "#%%\n"
    }
   },
   "outputs": [],
   "source": [
    "designs[-1][0][0].modules"
   ]
  },
  {
   "cell_type": "code",
   "execution_count": null,
   "metadata": {
    "pycharm": {
     "name": "#%%\n"
    }
   },
   "outputs": [],
   "source": [
    "bound_product_mol_object = designs[-1][0][0].computeProduct(structureDB)"
   ]
  },
  {
   "cell_type": "code",
   "execution_count": null,
   "metadata": {
    "pycharm": {
     "name": "#%%\n"
    }
   },
   "outputs": [],
   "source": [
    "from rdkit.Chem import AllChem\n",
    "Chem.SanitizeMol(bound_product_mol_object)\n",
    "rxn = AllChem.ReactionFromSmarts('[C:1](=[O:2])[S:3]>>[C:1](=[O:2])[O].[S:3]')\n",
    "product = rxn.RunReactants((bound_product_mol_object,))[0][0]\n",
    "Chem.SanitizeMol(product)"
   ]
  },
  {
   "cell_type": "code",
   "execution_count": null,
   "metadata": {
    "pycharm": {
     "name": "#%%\n"
    }
   },
   "outputs": [],
   "source": [
    "product"
   ]
  },
  {
   "cell_type": "code",
   "execution_count": null,
   "metadata": {
    "pycharm": {
     "name": "#%%\n"
    }
   },
   "outputs": [],
   "source": [
    "from rdkit.Chem import AllChem\n",
    "Chem.SanitizeMol(bound_product_mol_object)\n",
    "rxn = AllChem.ReactionFromSmarts('[C:1](=[O:2])[S:3]>>[C:1](=[O:2])[O].[S:3]')\n",
    "product = rxn.RunReactants((bound_product_mol_object,))[0][0]\n",
    "Chem.SanitizeMol(product)"
   ]
  },
  {
   "cell_type": "code",
   "execution_count": null,
   "metadata": {
    "pycharm": {
     "name": "#%%\n"
    }
   },
   "outputs": [],
   "source": [
    "product"
   ]
  },
  {
   "cell_type": "code",
   "execution_count": null,
   "metadata": {
    "pycharm": {
     "name": "#%%\n"
    }
   },
   "outputs": [],
   "source": [
    "designs[-1][0][0].modules[0].computeProduct()"
   ]
  },
  {
   "cell_type": "code",
   "execution_count": null,
   "metadata": {
    "pycharm": {
     "name": "#%%\n"
    }
   },
   "outputs": [],
   "source": [
    "target = ('CC[C@@H]1[C@@]([C@@H]([C@H](C(=O)[C@@H](C[C@@]([C@@H]([C@H]([C@@H]'\n",
    "          '([C@H](C(=O)O1)C)O[C@H]2C[C@@]([C@H]([C@@H](O2)C)O)(C)OC)C)O[C@H]'\n",
    "          '3[C@@H]([C@H](C[C@H](O3)C)N(C)C)O)(C)O)C)C)O)(C)O')\n",
    "\n",
    "designs = designPKS(Chem.MolFromSmiles(target))\n",
    "print('PKS design: ' + repr(designs[-1][0][0].modules))\n",
    "print('score: ' + str(designs[-1][0][1]))\n",
    "designs[-1][0][0].computeProduct(structureDB)"
   ]
  },
  {
   "cell_type": "markdown",
   "metadata": {
    "pycharm": {
     "name": "#%% md\n"
    }
   },
   "source": [
    "### Test on a bunch of compounds"
   ]
  },
  {
   "cell_type": "code",
   "execution_count": null,
   "metadata": {
    "pycharm": {
     "name": "#%%\n"
    }
   },
   "outputs": [],
   "source": [
    "substrateLibrary = OrderedDict([\n",
    "    # 10 commodity chemicals\n",
    "    ('octane', 'CCCCCCCC'),\n",
    "    ('Butanone', 'CCC(=O)C'),\n",
    "    ('2-pentanone', 'O=C(C)CCC'),\n",
    "    ('caprolactone', 'C1CCC(=O)OCC1'),\n",
    "    ('Acrylic acid', 'C=CC(=O)O'),\n",
    "    ('Adipic acid', 'O=C(O)CCCCC(=O)O'),\n",
    "    ('Maleic acid', 'O=C(O)\\C=C/C(=O)O'),\n",
    "    ('Propionic acid', 'CCC(=O)O'),\n",
    "    ('Dodecane', 'CCCCCCCCCCCC'),\n",
    "    ('Linolenic acid ', 'O=C(O)CCCC\\C=C/C\\C=C/C\\C=C/CCCCC'),\n",
    "    \n",
    "    # 10 specialty chemicals\n",
    "    ('1,2,4-Butanetriol', 'C(CO)[C@@H](CO)O'),\n",
    "    ('γ-Valerolactone', 'CC1CCC(=O)O1'),\n",
    "    ('Narbonolide', 'CC[C@@H]1[C@@H](/C=C/C(=O)[C@@H](C[C@@H]([C@@H]([C@H](C(=O)[C@H](C(=O)O1)C)C)O)C)C)C'),\n",
    "    ('Polyhydroxyethylmethacrylate', 'CCCCCCCCC=CCCCCCCCCOCC(C[N+](C)(C)CCOCCO)OCCCCCCCCC=CCCCCCCCC'),\n",
    "    ('Alitretinoin', 'C\\C(\\C=C\\C1=C(C)CCCC1(C)C)=C\\C=C\\C(\\C)=C\\C(O)=O'),\n",
    "    ('alpha-Amyl cinnamaldehyde', 'CCCCC\\C(C=O)=C\\C1=CC=CC=C1'),\n",
    "    ('Aminocaproic acid', 'NCCCCCC(O)=O'),\n",
    "    ('Aminolevulinic acid', 'NCC(=O)CCC(O)=O'),\n",
    "    ('Azelaic acid', 'OC(=O)CCCCCCCC(O)=O'),\n",
    "    ('Bempedoic acid', 'CC(C)(CCCCCC(O)CCCCCC(C)(C)C(O)=O)C(O)=O'),\n",
    "])"
   ]
  },
  {
   "cell_type": "code",
   "execution_count": null,
   "metadata": {
    "pycharm": {
     "name": "#%%\n"
    }
   },
   "outputs": [],
   "source": [
    "def plotMolComparison(mol1, mol2):\n",
    "    \n",
    "    # convert to smiles and back to fix internal bug in RDKit\n",
    "    # mol1 = Chem.MolFromSmiles(Chem.MolToSmiles(mol1, isomericSmiles=True))\n",
    "    # mol2 = Chem.MolFromSmiles(Chem.MolToSmiles(mol2, isomericSmiles=True))\n",
    "    \n",
    "    # compute MCS between mol and comparisonStructure\n",
    "    mcsComp = rdFMCS.FindMCS([mol1, mol2], timeout=1, matchValences=True, matchChiralTag=False, bondCompare=Chem.rdFMCS.BondCompare.CompareOrderExact) # search for 1 second max\n",
    "    \n",
    "    score = mcsComp.numAtoms / (len(mol1.GetAtoms()) + len(mol2.GetAtoms()) - mcsComp.numAtoms)\n",
    "    display(score)\n",
    "    mcsCompSmarts = Chem.MolFromSmarts(mcsComp.smartsString)\n",
    "    molHighlightAtomList = mol1.GetSubstructMatch(mcsCompSmarts)\n",
    "    compHighlightAtomList = mol2.GetSubstructMatch(mcsCompSmarts)\n",
    "    \n",
    "    # plot SVG with RDKit \n",
    "    return Draw.MolsToGridImage([\n",
    "        mol1, mol2], \n",
    "        legends=['', ''], \n",
    "        molsPerRow=2, \n",
    "        highlightAtomLists=[molHighlightAtomList, compHighlightAtomList], \n",
    "        useSVG=True, \n",
    "        subImgSize=(400, 400))"
   ]
  },
  {
   "cell_type": "code",
   "execution_count": null,
   "metadata": {
    "pycharm": {
     "name": "#%%\n"
    }
   },
   "outputs": [],
   "source": [
    "designs[-1][0]"
   ]
  },
  {
   "cell_type": "code",
   "execution_count": null,
   "metadata": {
    "pycharm": {
     "name": "#%%\n"
    }
   },
   "outputs": [],
   "source": [
    "%%time\n",
    "for name, smiles in substrateLibrary.items():\n",
    "    print('#### building ' + name + ' ####')\n",
    "    targetMol = Chem.MolFromSmiles(smiles)\n",
    "    designs = designPKS(targetMol, maxDesignsPerRound=25, similarity='mcs')\n",
    "    print('PKS design: ' + repr(designs[-1][0][0].modules))\n",
    "    print('score: ' + str(designs[-1][0][1]))\n",
    "    product = designs[-1][0][0].computeProduct(structureDB)\n",
    "    \n",
    "    display(plotMolComparison(product, targetMol))"
   ]
  },
  {
   "cell_type": "markdown",
   "metadata": {
    "pycharm": {
     "name": "#%% md\n"
    }
   },
   "source": [
    "## Exploring other similarity metrics"
   ]
  },
  {
   "cell_type": "code",
   "execution_count": null,
   "metadata": {
    "pycharm": {
     "name": "#%%\n"
    }
   },
   "outputs": [],
   "source": [
    "from rdkit.Chem import AllChem, MolFromSmiles\n",
    "from rdkit import Chem, DataStructs"
   ]
  },
  {
   "cell_type": "code",
   "execution_count": null,
   "metadata": {
    "pycharm": {
     "name": "#%%\n"
    }
   },
   "outputs": [],
   "source": [
    "%%time\n",
    "for name, smiles in substrateLibrary.items():\n",
    "    print('#### building ' + name + ' ####')\n",
    "    targetMol = Chem.MolFromSmiles(smiles)\n",
    "    designs = designPKS(targetMol, maxDesignsPerRound=25, similarity=\"atomatompath\")\n",
    "    print('PKS design: ' + repr(designs[-1][0][0].modules))\n",
    "    print('score: ' + str(designs[-1][0][1]))\n",
    "    product = designs[-1][0][0].computeProduct(structureDB)\n",
    "    \n",
    "    display(plotMolComparison(product, targetMol))"
   ]
  },
  {
   "cell_type": "code",
   "execution_count": null,
   "metadata": {
    "pycharm": {
     "name": "#%%\n"
    }
   },
   "outputs": [],
   "source": [
    "def my_similarity(mol1, mol2):\n",
    "    f = lambda m: AllChem.GetMorganFingerprintAsBitVect(m, radius=3, useFeatures=False, useChirality=True, nBits=2048)\n",
    "    fps = [f(mol) for mol in (mol1, mol2)]\n",
    "    metric = DataStructs.AllBitSimilarity\n",
    "    score = metric(fps[1], fps[0])\n",
    "    return score\n",
    "\n",
    "%%time\n",
    "for name, smiles in substrateLibrary.items():\n",
    "    print('#### building ' + name + ' ####')\n",
    "    targetMol = Chem.MolFromSmiles(smiles)\n",
    "    designs = designPKS(targetMol, maxDesignsPerRound=25, similarity=my_similarity)\n",
    "    print('PKS design: ' + repr(designs[-1][0][0].modules))\n",
    "    print('score: ' + str(designs[-1][0][1]))\n",
    "    product = designs[-1][0][0].computeProduct(structureDB)\n",
    "    \n",
    "    display(plotMolComparison(product, targetMol))"
   ]
  },
  {
   "cell_type": "code",
   "execution_count": null,
   "metadata": {
    "pycharm": {
     "name": "#%%\n"
    }
   },
   "outputs": [],
   "source": []
  }
 ],
 "metadata": {
  "kernelspec": {
   "display_name": "Python 3 (ipykernel)",
   "language": "python",
   "name": "python3"
  },
  "language_info": {
   "codemirror_mode": {
    "name": "ipython",
    "version": 3
   },
   "file_extension": ".py",
   "mimetype": "text/x-python",
   "name": "python",
   "nbconvert_exporter": "python",
   "pygments_lexer": "ipython3",
   "version": "3.8.18"
  }
 },
 "nbformat": 4,
 "nbformat_minor": 4
}
